{
  "nbformat": 4,
  "nbformat_minor": 0,
  "metadata": {
    "colab": {
      "name": "Data pre-process n tokenization.ipynb",
      "provenance": [],
      "mount_file_id": "1mWD7RIGhZUKRf4YxUVqxJ3SkwUAji51Q",
      "authorship_tag": "ABX9TyN1QLb3+C05wBpJrjMvEQiL",
      "include_colab_link": true
    },
    "kernelspec": {
      "name": "python3",
      "display_name": "Python 3"
    }
  },
  "cells": [
    {
      "cell_type": "markdown",
      "metadata": {
        "id": "view-in-github",
        "colab_type": "text"
      },
      "source": [
        "<a href=\"https://colab.research.google.com/github/Dharani1999/Word-embedding-techniques/blob/master/Data_pre_process_n_tokenization.ipynb\" target=\"_parent\"><img src=\"https://colab.research.google.com/assets/colab-badge.svg\" alt=\"Open In Colab\"/></a>"
      ]
    },
    {
      "cell_type": "code",
      "metadata": {
        "id": "qTG3q6lPvuiI",
        "colab_type": "code",
        "colab": {
          "base_uri": "https://localhost:8080/",
          "height": 54
        },
        "outputId": "2d714627-9f2d-4ea5-e0a8-06aa02deff22"
      },
      "source": [
        "from gensim import corpora, models, similarities\n",
        "import pandas as pd\n",
        "import numpy as np\n",
        "import matplotlib.pyplot as plt\n",
        "import sklearn\n",
        "from sklearn.model_selection import train_test_split\n",
        "\n",
        "from gensim.models import TfidfModel\n",
        "import time\n",
        "import re\n",
        "import string\n",
        "import nltk\n",
        "nltk.download('punkt')\n",
        "from nltk import word_tokenize,sent_tokenize\n",
        "from nltk.corpus import stopwords\n",
        "from nltk.stem.snowball import SnowballStemmer\n",
        "import tensorflow as tf\n",
        "from tensorflow.keras.models import Sequential, load_model\n",
        "from tensorflow.keras.layers import Dense, Dropout\n",
        "from wordcloud import WordCloud, STOPWORDS\n",
        "from gensim.parsing.preprocessing import stem_text"
      ],
      "execution_count": 1,
      "outputs": [
        {
          "output_type": "stream",
          "text": [
            "[nltk_data] Downloading package punkt to /root/nltk_data...\n",
            "[nltk_data]   Package punkt is already up-to-date!\n"
          ],
          "name": "stdout"
        }
      ]
    },
    {
      "cell_type": "code",
      "metadata": {
        "id": "z1Q9GV2dIImR",
        "colab_type": "code",
        "colab": {}
      },
      "source": [
        "movies1 = pd.read_csv('/content/drive/My Drive/Movielensdata/ml25m/movies.csv')\n",
        "tags1 = pd.read_csv('/content/drive/My Drive/Movielensdata/ml25m/tags.csv')\n",
        "data0 = pd.merge(movies1,tags1)\n",
        "data0.drop('timestamp',axis=1, inplace=True)\n",
        "data0.drop('userId',axis=1, inplace=True)"
      ],
      "execution_count": 2,
      "outputs": []
    },
    {
      "cell_type": "code",
      "metadata": {
        "id": "mOE8kAbhjhJr",
        "colab_type": "code",
        "colab": {
          "base_uri": "https://localhost:8080/",
          "height": 206
        },
        "outputId": "8ce7fb2f-6672-4423-9f45-a11aee813e23"
      },
      "source": [
        "tags1.head()"
      ],
      "execution_count": 3,
      "outputs": [
        {
          "output_type": "execute_result",
          "data": {
            "text/html": [
              "<div>\n",
              "<style scoped>\n",
              "    .dataframe tbody tr th:only-of-type {\n",
              "        vertical-align: middle;\n",
              "    }\n",
              "\n",
              "    .dataframe tbody tr th {\n",
              "        vertical-align: top;\n",
              "    }\n",
              "\n",
              "    .dataframe thead th {\n",
              "        text-align: right;\n",
              "    }\n",
              "</style>\n",
              "<table border=\"1\" class=\"dataframe\">\n",
              "  <thead>\n",
              "    <tr style=\"text-align: right;\">\n",
              "      <th></th>\n",
              "      <th>userId</th>\n",
              "      <th>movieId</th>\n",
              "      <th>tag</th>\n",
              "      <th>timestamp</th>\n",
              "    </tr>\n",
              "  </thead>\n",
              "  <tbody>\n",
              "    <tr>\n",
              "      <th>0</th>\n",
              "      <td>3</td>\n",
              "      <td>260</td>\n",
              "      <td>classic</td>\n",
              "      <td>1439472355</td>\n",
              "    </tr>\n",
              "    <tr>\n",
              "      <th>1</th>\n",
              "      <td>3</td>\n",
              "      <td>260</td>\n",
              "      <td>sci-fi</td>\n",
              "      <td>1439472256</td>\n",
              "    </tr>\n",
              "    <tr>\n",
              "      <th>2</th>\n",
              "      <td>4</td>\n",
              "      <td>1732</td>\n",
              "      <td>dark comedy</td>\n",
              "      <td>1573943598</td>\n",
              "    </tr>\n",
              "    <tr>\n",
              "      <th>3</th>\n",
              "      <td>4</td>\n",
              "      <td>1732</td>\n",
              "      <td>great dialogue</td>\n",
              "      <td>1573943604</td>\n",
              "    </tr>\n",
              "    <tr>\n",
              "      <th>4</th>\n",
              "      <td>4</td>\n",
              "      <td>7569</td>\n",
              "      <td>so bad it's good</td>\n",
              "      <td>1573943455</td>\n",
              "    </tr>\n",
              "  </tbody>\n",
              "</table>\n",
              "</div>"
            ],
            "text/plain": [
              "   userId  movieId               tag   timestamp\n",
              "0       3      260           classic  1439472355\n",
              "1       3      260            sci-fi  1439472256\n",
              "2       4     1732       dark comedy  1573943598\n",
              "3       4     1732    great dialogue  1573943604\n",
              "4       4     7569  so bad it's good  1573943455"
            ]
          },
          "metadata": {
            "tags": []
          },
          "execution_count": 3
        }
      ]
    },
    {
      "cell_type": "code",
      "metadata": {
        "id": "PML4jgcBv1vv",
        "colab_type": "code",
        "colab": {
          "base_uri": "https://localhost:8080/",
          "height": 206
        },
        "outputId": "0ea7cce3-c251-40d6-d8af-706591701e1e"
      },
      "source": [
        "data0.head()"
      ],
      "execution_count": 4,
      "outputs": [
        {
          "output_type": "execute_result",
          "data": {
            "text/html": [
              "<div>\n",
              "<style scoped>\n",
              "    .dataframe tbody tr th:only-of-type {\n",
              "        vertical-align: middle;\n",
              "    }\n",
              "\n",
              "    .dataframe tbody tr th {\n",
              "        vertical-align: top;\n",
              "    }\n",
              "\n",
              "    .dataframe thead th {\n",
              "        text-align: right;\n",
              "    }\n",
              "</style>\n",
              "<table border=\"1\" class=\"dataframe\">\n",
              "  <thead>\n",
              "    <tr style=\"text-align: right;\">\n",
              "      <th></th>\n",
              "      <th>movieId</th>\n",
              "      <th>title</th>\n",
              "      <th>genres</th>\n",
              "      <th>tag</th>\n",
              "    </tr>\n",
              "  </thead>\n",
              "  <tbody>\n",
              "    <tr>\n",
              "      <th>0</th>\n",
              "      <td>1</td>\n",
              "      <td>Toy Story (1995)</td>\n",
              "      <td>Adventure|Animation|Children|Comedy|Fantasy</td>\n",
              "      <td>Owned</td>\n",
              "    </tr>\n",
              "    <tr>\n",
              "      <th>1</th>\n",
              "      <td>1</td>\n",
              "      <td>Toy Story (1995)</td>\n",
              "      <td>Adventure|Animation|Children|Comedy|Fantasy</td>\n",
              "      <td>imdb top 250</td>\n",
              "    </tr>\n",
              "    <tr>\n",
              "      <th>2</th>\n",
              "      <td>1</td>\n",
              "      <td>Toy Story (1995)</td>\n",
              "      <td>Adventure|Animation|Children|Comedy|Fantasy</td>\n",
              "      <td>Pixar</td>\n",
              "    </tr>\n",
              "    <tr>\n",
              "      <th>3</th>\n",
              "      <td>1</td>\n",
              "      <td>Toy Story (1995)</td>\n",
              "      <td>Adventure|Animation|Children|Comedy|Fantasy</td>\n",
              "      <td>Pixar</td>\n",
              "    </tr>\n",
              "    <tr>\n",
              "      <th>4</th>\n",
              "      <td>1</td>\n",
              "      <td>Toy Story (1995)</td>\n",
              "      <td>Adventure|Animation|Children|Comedy|Fantasy</td>\n",
              "      <td>time travel</td>\n",
              "    </tr>\n",
              "  </tbody>\n",
              "</table>\n",
              "</div>"
            ],
            "text/plain": [
              "   movieId  ...           tag\n",
              "0        1  ...         Owned\n",
              "1        1  ...  imdb top 250\n",
              "2        1  ...         Pixar\n",
              "3        1  ...         Pixar\n",
              "4        1  ...   time travel\n",
              "\n",
              "[5 rows x 4 columns]"
            ]
          },
          "metadata": {
            "tags": []
          },
          "execution_count": 4
        }
      ]
    },
    {
      "cell_type": "code",
      "metadata": {
        "id": "7kmB7Tovt7e4",
        "colab_type": "code",
        "colab": {
          "base_uri": "https://localhost:8080/",
          "height": 363
        },
        "outputId": "01391fa8-77e6-4ea2-d389-131a1501a1d6"
      },
      "source": [
        "#shuffling\n",
        "data1 = data0.sample(frac=1)\n",
        "data1.head(10)"
      ],
      "execution_count": 5,
      "outputs": [
        {
          "output_type": "execute_result",
          "data": {
            "text/html": [
              "<div>\n",
              "<style scoped>\n",
              "    .dataframe tbody tr th:only-of-type {\n",
              "        vertical-align: middle;\n",
              "    }\n",
              "\n",
              "    .dataframe tbody tr th {\n",
              "        vertical-align: top;\n",
              "    }\n",
              "\n",
              "    .dataframe thead th {\n",
              "        text-align: right;\n",
              "    }\n",
              "</style>\n",
              "<table border=\"1\" class=\"dataframe\">\n",
              "  <thead>\n",
              "    <tr style=\"text-align: right;\">\n",
              "      <th></th>\n",
              "      <th>movieId</th>\n",
              "      <th>title</th>\n",
              "      <th>genres</th>\n",
              "      <th>tag</th>\n",
              "    </tr>\n",
              "  </thead>\n",
              "  <tbody>\n",
              "    <tr>\n",
              "      <th>15917</th>\n",
              "      <td>163</td>\n",
              "      <td>Desperado (1995)</td>\n",
              "      <td>Action|Romance|Western</td>\n",
              "      <td>crime</td>\n",
              "    </tr>\n",
              "    <tr>\n",
              "      <th>362088</th>\n",
              "      <td>5617</td>\n",
              "      <td>Secretary (2002)</td>\n",
              "      <td>Comedy|Drama|Romance</td>\n",
              "      <td>workplace</td>\n",
              "    </tr>\n",
              "    <tr>\n",
              "      <th>498072</th>\n",
              "      <td>31658</td>\n",
              "      <td>Howl's Moving Castle (Hauru no ugoku shiro) (2...</td>\n",
              "      <td>Adventure|Animation|Fantasy|Romance</td>\n",
              "      <td>whimsical</td>\n",
              "    </tr>\n",
              "    <tr>\n",
              "      <th>187506</th>\n",
              "      <td>2076</td>\n",
              "      <td>Blue Velvet (1986)</td>\n",
              "      <td>Drama|Mystery|Thriller</td>\n",
              "      <td>surreal</td>\n",
              "    </tr>\n",
              "    <tr>\n",
              "      <th>916484</th>\n",
              "      <td>125263</td>\n",
              "      <td>The Burglar (1957)</td>\n",
              "      <td>Crime|Drama</td>\n",
              "      <td>black and white</td>\n",
              "    </tr>\n",
              "    <tr>\n",
              "      <th>416325</th>\n",
              "      <td>7063</td>\n",
              "      <td>Aguirre: The Wrath of God (Aguirre, der Zorn G...</td>\n",
              "      <td>Adventure|Drama</td>\n",
              "      <td>adventure</td>\n",
              "    </tr>\n",
              "    <tr>\n",
              "      <th>352886</th>\n",
              "      <td>5349</td>\n",
              "      <td>Spider-Man (2002)</td>\n",
              "      <td>Action|Adventure|Sci-Fi|Thriller</td>\n",
              "      <td>Kirsten Dunst</td>\n",
              "    </tr>\n",
              "    <tr>\n",
              "      <th>529642</th>\n",
              "      <td>41566</td>\n",
              "      <td>Chronicles of Narnia: The Lion, the Witch and ...</td>\n",
              "      <td>Adventure|Children|Fantasy</td>\n",
              "      <td>talking animals</td>\n",
              "    </tr>\n",
              "    <tr>\n",
              "      <th>88643</th>\n",
              "      <td>994</td>\n",
              "      <td>Big Night (1996)</td>\n",
              "      <td>Comedy|Drama</td>\n",
              "      <td>Isabella Rossellini</td>\n",
              "    </tr>\n",
              "    <tr>\n",
              "      <th>290342</th>\n",
              "      <td>3916</td>\n",
              "      <td>Remember the Titans (2000)</td>\n",
              "      <td>Drama</td>\n",
              "      <td>racism</td>\n",
              "    </tr>\n",
              "  </tbody>\n",
              "</table>\n",
              "</div>"
            ],
            "text/plain": [
              "        movieId  ...                  tag\n",
              "15917       163  ...                crime\n",
              "362088     5617  ...            workplace\n",
              "498072    31658  ...            whimsical\n",
              "187506     2076  ...              surreal\n",
              "916484   125263  ...      black and white\n",
              "416325     7063  ...            adventure\n",
              "352886     5349  ...        Kirsten Dunst\n",
              "529642    41566  ...      talking animals\n",
              "88643       994  ...  Isabella Rossellini\n",
              "290342     3916  ...               racism\n",
              "\n",
              "[10 rows x 4 columns]"
            ]
          },
          "metadata": {
            "tags": []
          },
          "execution_count": 5
        }
      ]
    },
    {
      "cell_type": "code",
      "metadata": {
        "id": "CAdfuh-5t8FH",
        "colab_type": "code",
        "colab": {}
      },
      "source": [
        "data = data1.iloc[0:2000,:]"
      ],
      "execution_count": 6,
      "outputs": []
    },
    {
      "cell_type": "code",
      "metadata": {
        "id": "M3RMiSfJILVN",
        "colab_type": "code",
        "colab": {}
      },
      "source": [
        "dev, val = train_test_split(data, test_size=0.5, random_state=0)"
      ],
      "execution_count": 7,
      "outputs": []
    },
    {
      "cell_type": "code",
      "metadata": {
        "id": "R6ihXnRjGAB7",
        "colab_type": "code",
        "colab": {
          "base_uri": "https://localhost:8080/",
          "height": 109
        },
        "outputId": "cc82ba21-dd8e-44a0-da0c-72c3aaa9da85"
      },
      "source": [
        "dev.isnull().any()"
      ],
      "execution_count": 8,
      "outputs": [
        {
          "output_type": "execute_result",
          "data": {
            "text/plain": [
              "movieId    False\n",
              "title      False\n",
              "genres     False\n",
              "tag        False\n",
              "dtype: bool"
            ]
          },
          "metadata": {
            "tags": []
          },
          "execution_count": 8
        }
      ]
    },
    {
      "cell_type": "code",
      "metadata": {
        "id": "XajKStK_GFeS",
        "colab_type": "code",
        "colab": {
          "base_uri": "https://localhost:8080/",
          "height": 109
        },
        "outputId": "4deb9f29-3dcb-46e1-c4f4-346717630cde"
      },
      "source": [
        "val.isnull().any()"
      ],
      "execution_count": 9,
      "outputs": [
        {
          "output_type": "execute_result",
          "data": {
            "text/plain": [
              "movieId    False\n",
              "title      False\n",
              "genres     False\n",
              "tag        False\n",
              "dtype: bool"
            ]
          },
          "metadata": {
            "tags": []
          },
          "execution_count": 9
        }
      ]
    },
    {
      "cell_type": "code",
      "metadata": {
        "id": "scKQoxfLNBaI",
        "colab_type": "code",
        "colab": {}
      },
      "source": [
        "#stoplist = stopwords.words('english')\n",
        "stoplist=STOPWORDS\n",
        "\n",
        "def pre_processing(d):\n",
        "    if (d is None):\n",
        "        return []\n",
        "    d = d.lower()\n",
        "    d = re.sub('[^a-z ]',' ',d)\n",
        "    #d = re.sub(r'\\b\\w{1,2}\\b','',d)\n",
        "    #pattern = re.compile(r'\\b(' + r'|'.join(stoplist) + r')\\b\\s*')\n",
        "    #d = pattern.sub('', d)\n",
        "    d = re.sub(\"  *\",\" \",d)\n",
        "    return (d.strip())"
      ],
      "execution_count": 10,
      "outputs": []
    },
    {
      "cell_type": "code",
      "metadata": {
        "id": "d6MZDqwbNBrh",
        "colab_type": "code",
        "colab": {}
      },
      "source": [
        "#def preprocess(text):\n",
        " #   clean_data = []\n",
        "  #  new_text = re.sub('<.*?>', '', text)\n",
        "   # new_text = re.sub(r'[^\\w\\s]', '', new_text)\n",
        "    #new_text = re.sub(r'\\d+','',new_text)\n",
        "    #new_text = new_text.lower()\n",
        "    #if new_text != '':\n",
        "     #   clean_data.append(new_text)\n",
        "    #return clean_data\n",
        "\n",
        "def Clean_names(movie_name): \n",
        "    # Search for opening bracket in the name followed by \n",
        "    # any characters repeated any number of times \n",
        "    if re.search('\\(.*', movie_name): \n",
        "        # Extract the position of beginning of pattern \n",
        "        pos = re.search('\\(.*', movie_name).start() \n",
        "        # return the cleaned name \n",
        "        return movie_name[:pos] \n",
        "    else: \n",
        "        # if clean up needed return the same name \n",
        "        return movie_name "
      ],
      "execution_count": 11,
      "outputs": []
    },
    {
      "cell_type": "code",
      "metadata": {
        "id": "QPZoyFhcpkx5",
        "colab_type": "code",
        "colab": {
          "base_uri": "https://localhost:8080/",
          "height": 148
        },
        "outputId": "45924bdc-c096-4fbd-fde8-fdcf57905933"
      },
      "source": [
        "dev['title'] = dev['title'].apply(Clean_names)\n",
        "#print(dev['title'])"
      ],
      "execution_count": 12,
      "outputs": [
        {
          "output_type": "stream",
          "text": [
            "/usr/local/lib/python3.6/dist-packages/ipykernel_launcher.py:1: SettingWithCopyWarning: \n",
            "A value is trying to be set on a copy of a slice from a DataFrame.\n",
            "Try using .loc[row_indexer,col_indexer] = value instead\n",
            "\n",
            "See the caveats in the documentation: https://pandas.pydata.org/pandas-docs/stable/user_guide/indexing.html#returning-a-view-versus-a-copy\n",
            "  \"\"\"Entry point for launching an IPython kernel.\n"
          ],
          "name": "stderr"
        }
      ]
    },
    {
      "cell_type": "code",
      "metadata": {
        "id": "5_xxwBpx5G_J",
        "colab_type": "code",
        "colab": {
          "base_uri": "https://localhost:8080/",
          "height": 206
        },
        "outputId": "53f7081f-2a60-4c68-b6ee-4e75238de37d"
      },
      "source": [
        "dev.head()"
      ],
      "execution_count": 13,
      "outputs": [
        {
          "output_type": "execute_result",
          "data": {
            "text/html": [
              "<div>\n",
              "<style scoped>\n",
              "    .dataframe tbody tr th:only-of-type {\n",
              "        vertical-align: middle;\n",
              "    }\n",
              "\n",
              "    .dataframe tbody tr th {\n",
              "        vertical-align: top;\n",
              "    }\n",
              "\n",
              "    .dataframe thead th {\n",
              "        text-align: right;\n",
              "    }\n",
              "</style>\n",
              "<table border=\"1\" class=\"dataframe\">\n",
              "  <thead>\n",
              "    <tr style=\"text-align: right;\">\n",
              "      <th></th>\n",
              "      <th>movieId</th>\n",
              "      <th>title</th>\n",
              "      <th>genres</th>\n",
              "      <th>tag</th>\n",
              "    </tr>\n",
              "  </thead>\n",
              "  <tbody>\n",
              "    <tr>\n",
              "      <th>498480</th>\n",
              "      <td>31660</td>\n",
              "      <td>Steamboy</td>\n",
              "      <td>Action|Animation|Drama|Sci-Fi</td>\n",
              "      <td>steampunk</td>\n",
              "    </tr>\n",
              "    <tr>\n",
              "      <th>702571</th>\n",
              "      <td>77629</td>\n",
              "      <td>Reindeerspotting - Pako joulumaasta</td>\n",
              "      <td>Documentary</td>\n",
              "      <td>addiction</td>\n",
              "    </tr>\n",
              "    <tr>\n",
              "      <th>947629</th>\n",
              "      <td>138940</td>\n",
              "      <td>Duska</td>\n",
              "      <td>Drama</td>\n",
              "      <td>loneliness</td>\n",
              "    </tr>\n",
              "    <tr>\n",
              "      <th>1072230</th>\n",
              "      <td>187613</td>\n",
              "      <td>The Kissing Booth</td>\n",
              "      <td>Comedy|Romance</td>\n",
              "      <td>bff</td>\n",
              "    </tr>\n",
              "    <tr>\n",
              "      <th>7563</th>\n",
              "      <td>47</td>\n",
              "      <td>Seven</td>\n",
              "      <td>Mystery|Thriller</td>\n",
              "      <td>psychology</td>\n",
              "    </tr>\n",
              "  </tbody>\n",
              "</table>\n",
              "</div>"
            ],
            "text/plain": [
              "         movieId  ...         tag\n",
              "498480     31660  ...   steampunk\n",
              "702571     77629  ...   addiction\n",
              "947629    138940  ...  loneliness\n",
              "1072230   187613  ...         bff\n",
              "7563          47  ...  psychology\n",
              "\n",
              "[5 rows x 4 columns]"
            ]
          },
          "metadata": {
            "tags": []
          },
          "execution_count": 13
        }
      ]
    },
    {
      "cell_type": "code",
      "metadata": {
        "id": "8F_8VSyuNB1l",
        "colab_type": "code",
        "colab": {
          "base_uri": "https://localhost:8080/",
          "height": 370
        },
        "outputId": "99720e9a-f763-4413-e7f2-68f2f127610c"
      },
      "source": [
        "dev['title'] = dev['title'].apply(pre_processing)\n",
        "dev['genres'] = dev['genres'].apply(pre_processing)\n",
        "dev['tag'] = dev['tag'].apply(pre_processing)"
      ],
      "execution_count": 14,
      "outputs": [
        {
          "output_type": "stream",
          "text": [
            "/usr/local/lib/python3.6/dist-packages/ipykernel_launcher.py:4: SettingWithCopyWarning: \n",
            "A value is trying to be set on a copy of a slice from a DataFrame.\n",
            "Try using .loc[row_indexer,col_indexer] = value instead\n",
            "\n",
            "See the caveats in the documentation: https://pandas.pydata.org/pandas-docs/stable/user_guide/indexing.html#returning-a-view-versus-a-copy\n",
            "  after removing the cwd from sys.path.\n",
            "/usr/local/lib/python3.6/dist-packages/ipykernel_launcher.py:5: SettingWithCopyWarning: \n",
            "A value is trying to be set on a copy of a slice from a DataFrame.\n",
            "Try using .loc[row_indexer,col_indexer] = value instead\n",
            "\n",
            "See the caveats in the documentation: https://pandas.pydata.org/pandas-docs/stable/user_guide/indexing.html#returning-a-view-versus-a-copy\n",
            "  \"\"\"\n",
            "/usr/local/lib/python3.6/dist-packages/ipykernel_launcher.py:6: SettingWithCopyWarning: \n",
            "A value is trying to be set on a copy of a slice from a DataFrame.\n",
            "Try using .loc[row_indexer,col_indexer] = value instead\n",
            "\n",
            "See the caveats in the documentation: https://pandas.pydata.org/pandas-docs/stable/user_guide/indexing.html#returning-a-view-versus-a-copy\n",
            "  \n"
          ],
          "name": "stderr"
        }
      ]
    },
    {
      "cell_type": "code",
      "metadata": {
        "id": "jUFsF-ietJPh",
        "colab_type": "code",
        "colab": {
          "base_uri": "https://localhost:8080/",
          "height": 206
        },
        "outputId": "f479edb9-a325-483c-8854-3ab8cc1c7883"
      },
      "source": [
        "dev.head()"
      ],
      "execution_count": 15,
      "outputs": [
        {
          "output_type": "execute_result",
          "data": {
            "text/html": [
              "<div>\n",
              "<style scoped>\n",
              "    .dataframe tbody tr th:only-of-type {\n",
              "        vertical-align: middle;\n",
              "    }\n",
              "\n",
              "    .dataframe tbody tr th {\n",
              "        vertical-align: top;\n",
              "    }\n",
              "\n",
              "    .dataframe thead th {\n",
              "        text-align: right;\n",
              "    }\n",
              "</style>\n",
              "<table border=\"1\" class=\"dataframe\">\n",
              "  <thead>\n",
              "    <tr style=\"text-align: right;\">\n",
              "      <th></th>\n",
              "      <th>movieId</th>\n",
              "      <th>title</th>\n",
              "      <th>genres</th>\n",
              "      <th>tag</th>\n",
              "    </tr>\n",
              "  </thead>\n",
              "  <tbody>\n",
              "    <tr>\n",
              "      <th>498480</th>\n",
              "      <td>31660</td>\n",
              "      <td>steamboy</td>\n",
              "      <td>action animation drama sci fi</td>\n",
              "      <td>steampunk</td>\n",
              "    </tr>\n",
              "    <tr>\n",
              "      <th>702571</th>\n",
              "      <td>77629</td>\n",
              "      <td>reindeerspotting pako joulumaasta</td>\n",
              "      <td>documentary</td>\n",
              "      <td>addiction</td>\n",
              "    </tr>\n",
              "    <tr>\n",
              "      <th>947629</th>\n",
              "      <td>138940</td>\n",
              "      <td>duska</td>\n",
              "      <td>drama</td>\n",
              "      <td>loneliness</td>\n",
              "    </tr>\n",
              "    <tr>\n",
              "      <th>1072230</th>\n",
              "      <td>187613</td>\n",
              "      <td>the kissing booth</td>\n",
              "      <td>comedy romance</td>\n",
              "      <td>bff</td>\n",
              "    </tr>\n",
              "    <tr>\n",
              "      <th>7563</th>\n",
              "      <td>47</td>\n",
              "      <td>seven</td>\n",
              "      <td>mystery thriller</td>\n",
              "      <td>psychology</td>\n",
              "    </tr>\n",
              "  </tbody>\n",
              "</table>\n",
              "</div>"
            ],
            "text/plain": [
              "         movieId  ...         tag\n",
              "498480     31660  ...   steampunk\n",
              "702571     77629  ...   addiction\n",
              "947629    138940  ...  loneliness\n",
              "1072230   187613  ...         bff\n",
              "7563          47  ...  psychology\n",
              "\n",
              "[5 rows x 4 columns]"
            ]
          },
          "metadata": {
            "tags": []
          },
          "execution_count": 15
        }
      ]
    },
    {
      "cell_type": "code",
      "metadata": {
        "id": "BETQh8C2NBvx",
        "colab_type": "code",
        "colab": {}
      },
      "source": [
        "def tokenization_w(words):\n",
        "    w_new = []\n",
        "    w_token = word_tokenize(words)\n",
        "    words=[word.lower() for word in w_token if word.isalpha()]\n",
        "    word_token = [x for x in words if not re.fullmatch('[' + string.punctuation + ']+', x)]\n",
        "    if word_token != '':\n",
        "      w_new.append(word_token)\n",
        "    return w_new"
      ],
      "execution_count": 16,
      "outputs": []
    },
    {
      "cell_type": "code",
      "metadata": {
        "id": "KoW5_HDvNBzs",
        "colab_type": "code",
        "colab": {
          "base_uri": "https://localhost:8080/",
          "height": 370
        },
        "outputId": "56aeee07-0ac0-40e6-cbf7-5cb109588b21"
      },
      "source": [
        "dev['title'] = dev['title'].apply(tokenization_w)\n",
        "dev['genres'] = dev['genres'].apply(tokenization_w)\n",
        "dev['tag'] = dev['tag'].apply(tokenization_w)"
      ],
      "execution_count": 17,
      "outputs": [
        {
          "output_type": "stream",
          "text": [
            "/usr/local/lib/python3.6/dist-packages/ipykernel_launcher.py:1: SettingWithCopyWarning: \n",
            "A value is trying to be set on a copy of a slice from a DataFrame.\n",
            "Try using .loc[row_indexer,col_indexer] = value instead\n",
            "\n",
            "See the caveats in the documentation: https://pandas.pydata.org/pandas-docs/stable/user_guide/indexing.html#returning-a-view-versus-a-copy\n",
            "  \"\"\"Entry point for launching an IPython kernel.\n",
            "/usr/local/lib/python3.6/dist-packages/ipykernel_launcher.py:2: SettingWithCopyWarning: \n",
            "A value is trying to be set on a copy of a slice from a DataFrame.\n",
            "Try using .loc[row_indexer,col_indexer] = value instead\n",
            "\n",
            "See the caveats in the documentation: https://pandas.pydata.org/pandas-docs/stable/user_guide/indexing.html#returning-a-view-versus-a-copy\n",
            "  \n",
            "/usr/local/lib/python3.6/dist-packages/ipykernel_launcher.py:3: SettingWithCopyWarning: \n",
            "A value is trying to be set on a copy of a slice from a DataFrame.\n",
            "Try using .loc[row_indexer,col_indexer] = value instead\n",
            "\n",
            "See the caveats in the documentation: https://pandas.pydata.org/pandas-docs/stable/user_guide/indexing.html#returning-a-view-versus-a-copy\n",
            "  This is separate from the ipykernel package so we can avoid doing imports until\n"
          ],
          "name": "stderr"
        }
      ]
    },
    {
      "cell_type": "code",
      "metadata": {
        "id": "jpz7SXuD5-T3",
        "colab_type": "code",
        "colab": {
          "base_uri": "https://localhost:8080/",
          "height": 206
        },
        "outputId": "8e0b2524-6639-4489-a361-1f3eb173fa5e"
      },
      "source": [
        "dev.head()"
      ],
      "execution_count": 18,
      "outputs": [
        {
          "output_type": "execute_result",
          "data": {
            "text/html": [
              "<div>\n",
              "<style scoped>\n",
              "    .dataframe tbody tr th:only-of-type {\n",
              "        vertical-align: middle;\n",
              "    }\n",
              "\n",
              "    .dataframe tbody tr th {\n",
              "        vertical-align: top;\n",
              "    }\n",
              "\n",
              "    .dataframe thead th {\n",
              "        text-align: right;\n",
              "    }\n",
              "</style>\n",
              "<table border=\"1\" class=\"dataframe\">\n",
              "  <thead>\n",
              "    <tr style=\"text-align: right;\">\n",
              "      <th></th>\n",
              "      <th>movieId</th>\n",
              "      <th>title</th>\n",
              "      <th>genres</th>\n",
              "      <th>tag</th>\n",
              "    </tr>\n",
              "  </thead>\n",
              "  <tbody>\n",
              "    <tr>\n",
              "      <th>498480</th>\n",
              "      <td>31660</td>\n",
              "      <td>[[steamboy]]</td>\n",
              "      <td>[[action, animation, drama, sci, fi]]</td>\n",
              "      <td>[[steampunk]]</td>\n",
              "    </tr>\n",
              "    <tr>\n",
              "      <th>702571</th>\n",
              "      <td>77629</td>\n",
              "      <td>[[reindeerspotting, pako, joulumaasta]]</td>\n",
              "      <td>[[documentary]]</td>\n",
              "      <td>[[addiction]]</td>\n",
              "    </tr>\n",
              "    <tr>\n",
              "      <th>947629</th>\n",
              "      <td>138940</td>\n",
              "      <td>[[duska]]</td>\n",
              "      <td>[[drama]]</td>\n",
              "      <td>[[loneliness]]</td>\n",
              "    </tr>\n",
              "    <tr>\n",
              "      <th>1072230</th>\n",
              "      <td>187613</td>\n",
              "      <td>[[the, kissing, booth]]</td>\n",
              "      <td>[[comedy, romance]]</td>\n",
              "      <td>[[bff]]</td>\n",
              "    </tr>\n",
              "    <tr>\n",
              "      <th>7563</th>\n",
              "      <td>47</td>\n",
              "      <td>[[seven]]</td>\n",
              "      <td>[[mystery, thriller]]</td>\n",
              "      <td>[[psychology]]</td>\n",
              "    </tr>\n",
              "  </tbody>\n",
              "</table>\n",
              "</div>"
            ],
            "text/plain": [
              "         movieId  ...             tag\n",
              "498480     31660  ...   [[steampunk]]\n",
              "702571     77629  ...   [[addiction]]\n",
              "947629    138940  ...  [[loneliness]]\n",
              "1072230   187613  ...         [[bff]]\n",
              "7563          47  ...  [[psychology]]\n",
              "\n",
              "[5 rows x 4 columns]"
            ]
          },
          "metadata": {
            "tags": []
          },
          "execution_count": 18
        }
      ]
    },
    {
      "cell_type": "code",
      "metadata": {
        "id": "xI3W75VG5-Zk",
        "colab_type": "code",
        "colab": {}
      },
      "source": [
        ""
      ],
      "execution_count": 18,
      "outputs": []
    },
    {
      "cell_type": "code",
      "metadata": {
        "id": "Mj4dvqQv5-XT",
        "colab_type": "code",
        "colab": {}
      },
      "source": [
        ""
      ],
      "execution_count": 18,
      "outputs": []
    }
  ]
}