{
  "nbformat": 4,
  "nbformat_minor": 0,
  "metadata": {
    "colab": {
      "name": "ROBERTA.ipynb",
      "provenance": [],
      "mount_file_id": "1ETvVpT7FB2hWWc4gCNqQlZxNJJCQOTRf",
      "authorship_tag": "ABX9TyNcEI/Wsdd2oIHer2alRiTX",
      "include_colab_link": true
    },
    "kernelspec": {
      "name": "python3",
      "display_name": "Python 3"
    },
    "widgets": {
      "application/vnd.jupyter.widget-state+json": {
        "bb54b37682794eaebdd9b5562448a586": {
          "model_module": "@jupyter-widgets/controls",
          "model_name": "HBoxModel",
          "state": {
            "_view_name": "HBoxView",
            "_dom_classes": [],
            "_model_name": "HBoxModel",
            "_view_module": "@jupyter-widgets/controls",
            "_model_module_version": "1.5.0",
            "_view_count": null,
            "_view_module_version": "1.5.0",
            "box_style": "",
            "layout": "IPY_MODEL_6862ac6c7f5742618bfcc32310b2acf3",
            "_model_module": "@jupyter-widgets/controls",
            "children": [
              "IPY_MODEL_bf489c538c7d4141b339304eb2eba7c9",
              "IPY_MODEL_103945728b624a7ba71db0de630579f4"
            ]
          }
        },
        "6862ac6c7f5742618bfcc32310b2acf3": {
          "model_module": "@jupyter-widgets/base",
          "model_name": "LayoutModel",
          "state": {
            "_view_name": "LayoutView",
            "grid_template_rows": null,
            "right": null,
            "justify_content": null,
            "_view_module": "@jupyter-widgets/base",
            "overflow": null,
            "_model_module_version": "1.2.0",
            "_view_count": null,
            "flex_flow": null,
            "width": null,
            "min_width": null,
            "border": null,
            "align_items": null,
            "bottom": null,
            "_model_module": "@jupyter-widgets/base",
            "top": null,
            "grid_column": null,
            "overflow_y": null,
            "overflow_x": null,
            "grid_auto_flow": null,
            "grid_area": null,
            "grid_template_columns": null,
            "flex": null,
            "_model_name": "LayoutModel",
            "justify_items": null,
            "grid_row": null,
            "max_height": null,
            "align_content": null,
            "visibility": null,
            "align_self": null,
            "height": null,
            "min_height": null,
            "padding": null,
            "grid_auto_rows": null,
            "grid_gap": null,
            "max_width": null,
            "order": null,
            "_view_module_version": "1.2.0",
            "grid_template_areas": null,
            "object_position": null,
            "object_fit": null,
            "grid_auto_columns": null,
            "margin": null,
            "display": null,
            "left": null
          }
        },
        "bf489c538c7d4141b339304eb2eba7c9": {
          "model_module": "@jupyter-widgets/controls",
          "model_name": "FloatProgressModel",
          "state": {
            "_view_name": "ProgressView",
            "style": "IPY_MODEL_0b767dfc8a754b36961171157ae1474a",
            "_dom_classes": [],
            "description": "Epoch: 100%",
            "_model_name": "FloatProgressModel",
            "bar_style": "success",
            "max": 1,
            "_view_module": "@jupyter-widgets/controls",
            "_model_module_version": "1.5.0",
            "value": 1,
            "_view_count": null,
            "_view_module_version": "1.5.0",
            "orientation": "horizontal",
            "min": 0,
            "description_tooltip": null,
            "_model_module": "@jupyter-widgets/controls",
            "layout": "IPY_MODEL_5a28398fb5d94981802ef14de88e542c"
          }
        },
        "103945728b624a7ba71db0de630579f4": {
          "model_module": "@jupyter-widgets/controls",
          "model_name": "HTMLModel",
          "state": {
            "_view_name": "HTMLView",
            "style": "IPY_MODEL_05359343c6364b989dbd03a21623d52c",
            "_dom_classes": [],
            "description": "",
            "_model_name": "HTMLModel",
            "placeholder": "​",
            "_view_module": "@jupyter-widgets/controls",
            "_model_module_version": "1.5.0",
            "value": " 1/1 [00:16&lt;00:00, 16.27s/it]",
            "_view_count": null,
            "_view_module_version": "1.5.0",
            "description_tooltip": null,
            "_model_module": "@jupyter-widgets/controls",
            "layout": "IPY_MODEL_d21c9df636de419b8668977622ea7e3b"
          }
        },
        "0b767dfc8a754b36961171157ae1474a": {
          "model_module": "@jupyter-widgets/controls",
          "model_name": "ProgressStyleModel",
          "state": {
            "_view_name": "StyleView",
            "_model_name": "ProgressStyleModel",
            "description_width": "initial",
            "_view_module": "@jupyter-widgets/base",
            "_model_module_version": "1.5.0",
            "_view_count": null,
            "_view_module_version": "1.2.0",
            "bar_color": null,
            "_model_module": "@jupyter-widgets/controls"
          }
        },
        "5a28398fb5d94981802ef14de88e542c": {
          "model_module": "@jupyter-widgets/base",
          "model_name": "LayoutModel",
          "state": {
            "_view_name": "LayoutView",
            "grid_template_rows": null,
            "right": null,
            "justify_content": null,
            "_view_module": "@jupyter-widgets/base",
            "overflow": null,
            "_model_module_version": "1.2.0",
            "_view_count": null,
            "flex_flow": null,
            "width": null,
            "min_width": null,
            "border": null,
            "align_items": null,
            "bottom": null,
            "_model_module": "@jupyter-widgets/base",
            "top": null,
            "grid_column": null,
            "overflow_y": null,
            "overflow_x": null,
            "grid_auto_flow": null,
            "grid_area": null,
            "grid_template_columns": null,
            "flex": null,
            "_model_name": "LayoutModel",
            "justify_items": null,
            "grid_row": null,
            "max_height": null,
            "align_content": null,
            "visibility": null,
            "align_self": null,
            "height": null,
            "min_height": null,
            "padding": null,
            "grid_auto_rows": null,
            "grid_gap": null,
            "max_width": null,
            "order": null,
            "_view_module_version": "1.2.0",
            "grid_template_areas": null,
            "object_position": null,
            "object_fit": null,
            "grid_auto_columns": null,
            "margin": null,
            "display": null,
            "left": null
          }
        },
        "05359343c6364b989dbd03a21623d52c": {
          "model_module": "@jupyter-widgets/controls",
          "model_name": "DescriptionStyleModel",
          "state": {
            "_view_name": "StyleView",
            "_model_name": "DescriptionStyleModel",
            "description_width": "",
            "_view_module": "@jupyter-widgets/base",
            "_model_module_version": "1.5.0",
            "_view_count": null,
            "_view_module_version": "1.2.0",
            "_model_module": "@jupyter-widgets/controls"
          }
        },
        "d21c9df636de419b8668977622ea7e3b": {
          "model_module": "@jupyter-widgets/base",
          "model_name": "LayoutModel",
          "state": {
            "_view_name": "LayoutView",
            "grid_template_rows": null,
            "right": null,
            "justify_content": null,
            "_view_module": "@jupyter-widgets/base",
            "overflow": null,
            "_model_module_version": "1.2.0",
            "_view_count": null,
            "flex_flow": null,
            "width": null,
            "min_width": null,
            "border": null,
            "align_items": null,
            "bottom": null,
            "_model_module": "@jupyter-widgets/base",
            "top": null,
            "grid_column": null,
            "overflow_y": null,
            "overflow_x": null,
            "grid_auto_flow": null,
            "grid_area": null,
            "grid_template_columns": null,
            "flex": null,
            "_model_name": "LayoutModel",
            "justify_items": null,
            "grid_row": null,
            "max_height": null,
            "align_content": null,
            "visibility": null,
            "align_self": null,
            "height": null,
            "min_height": null,
            "padding": null,
            "grid_auto_rows": null,
            "grid_gap": null,
            "max_width": null,
            "order": null,
            "_view_module_version": "1.2.0",
            "grid_template_areas": null,
            "object_position": null,
            "object_fit": null,
            "grid_auto_columns": null,
            "margin": null,
            "display": null,
            "left": null
          }
        },
        "6c770b5f7c754f83891710008baaaf3c": {
          "model_module": "@jupyter-widgets/controls",
          "model_name": "HBoxModel",
          "state": {
            "_view_name": "HBoxView",
            "_dom_classes": [],
            "_model_name": "HBoxModel",
            "_view_module": "@jupyter-widgets/controls",
            "_model_module_version": "1.5.0",
            "_view_count": null,
            "_view_module_version": "1.5.0",
            "box_style": "",
            "layout": "IPY_MODEL_939edc7c13f747a5b62c8808d80c465c",
            "_model_module": "@jupyter-widgets/controls",
            "children": [
              "IPY_MODEL_2cd081a29d9840c5b0cbee3abb30b5cd",
              "IPY_MODEL_99099b9e3e5c4b70bde9c7963664fe38"
            ]
          }
        },
        "939edc7c13f747a5b62c8808d80c465c": {
          "model_module": "@jupyter-widgets/base",
          "model_name": "LayoutModel",
          "state": {
            "_view_name": "LayoutView",
            "grid_template_rows": null,
            "right": null,
            "justify_content": null,
            "_view_module": "@jupyter-widgets/base",
            "overflow": null,
            "_model_module_version": "1.2.0",
            "_view_count": null,
            "flex_flow": null,
            "width": null,
            "min_width": null,
            "border": null,
            "align_items": null,
            "bottom": null,
            "_model_module": "@jupyter-widgets/base",
            "top": null,
            "grid_column": null,
            "overflow_y": null,
            "overflow_x": null,
            "grid_auto_flow": null,
            "grid_area": null,
            "grid_template_columns": null,
            "flex": null,
            "_model_name": "LayoutModel",
            "justify_items": null,
            "grid_row": null,
            "max_height": null,
            "align_content": null,
            "visibility": null,
            "align_self": null,
            "height": null,
            "min_height": null,
            "padding": null,
            "grid_auto_rows": null,
            "grid_gap": null,
            "max_width": null,
            "order": null,
            "_view_module_version": "1.2.0",
            "grid_template_areas": null,
            "object_position": null,
            "object_fit": null,
            "grid_auto_columns": null,
            "margin": null,
            "display": null,
            "left": null
          }
        },
        "2cd081a29d9840c5b0cbee3abb30b5cd": {
          "model_module": "@jupyter-widgets/controls",
          "model_name": "FloatProgressModel",
          "state": {
            "_view_name": "ProgressView",
            "style": "IPY_MODEL_30006928c0024323b538b60aefe79438",
            "_dom_classes": [],
            "description": "Iteration: 100%",
            "_model_name": "FloatProgressModel",
            "bar_style": "success",
            "max": 228,
            "_view_module": "@jupyter-widgets/controls",
            "_model_module_version": "1.5.0",
            "value": 228,
            "_view_count": null,
            "_view_module_version": "1.5.0",
            "orientation": "horizontal",
            "min": 0,
            "description_tooltip": null,
            "_model_module": "@jupyter-widgets/controls",
            "layout": "IPY_MODEL_01354206dc06476fa6c07239f11c7562"
          }
        },
        "99099b9e3e5c4b70bde9c7963664fe38": {
          "model_module": "@jupyter-widgets/controls",
          "model_name": "HTMLModel",
          "state": {
            "_view_name": "HTMLView",
            "style": "IPY_MODEL_50fa5278a8ab42a7a1c1271e81a539ed",
            "_dom_classes": [],
            "description": "",
            "_model_name": "HTMLModel",
            "placeholder": "​",
            "_view_module": "@jupyter-widgets/controls",
            "_model_module_version": "1.5.0",
            "value": " 228/228 [00:16&lt;00:00, 14.04it/s]",
            "_view_count": null,
            "_view_module_version": "1.5.0",
            "description_tooltip": null,
            "_model_module": "@jupyter-widgets/controls",
            "layout": "IPY_MODEL_ff52f747f4274cb68acabea066529d67"
          }
        },
        "30006928c0024323b538b60aefe79438": {
          "model_module": "@jupyter-widgets/controls",
          "model_name": "ProgressStyleModel",
          "state": {
            "_view_name": "StyleView",
            "_model_name": "ProgressStyleModel",
            "description_width": "initial",
            "_view_module": "@jupyter-widgets/base",
            "_model_module_version": "1.5.0",
            "_view_count": null,
            "_view_module_version": "1.2.0",
            "bar_color": null,
            "_model_module": "@jupyter-widgets/controls"
          }
        },
        "01354206dc06476fa6c07239f11c7562": {
          "model_module": "@jupyter-widgets/base",
          "model_name": "LayoutModel",
          "state": {
            "_view_name": "LayoutView",
            "grid_template_rows": null,
            "right": null,
            "justify_content": null,
            "_view_module": "@jupyter-widgets/base",
            "overflow": null,
            "_model_module_version": "1.2.0",
            "_view_count": null,
            "flex_flow": null,
            "width": null,
            "min_width": null,
            "border": null,
            "align_items": null,
            "bottom": null,
            "_model_module": "@jupyter-widgets/base",
            "top": null,
            "grid_column": null,
            "overflow_y": null,
            "overflow_x": null,
            "grid_auto_flow": null,
            "grid_area": null,
            "grid_template_columns": null,
            "flex": null,
            "_model_name": "LayoutModel",
            "justify_items": null,
            "grid_row": null,
            "max_height": null,
            "align_content": null,
            "visibility": null,
            "align_self": null,
            "height": null,
            "min_height": null,
            "padding": null,
            "grid_auto_rows": null,
            "grid_gap": null,
            "max_width": null,
            "order": null,
            "_view_module_version": "1.2.0",
            "grid_template_areas": null,
            "object_position": null,
            "object_fit": null,
            "grid_auto_columns": null,
            "margin": null,
            "display": null,
            "left": null
          }
        },
        "50fa5278a8ab42a7a1c1271e81a539ed": {
          "model_module": "@jupyter-widgets/controls",
          "model_name": "DescriptionStyleModel",
          "state": {
            "_view_name": "StyleView",
            "_model_name": "DescriptionStyleModel",
            "description_width": "",
            "_view_module": "@jupyter-widgets/base",
            "_model_module_version": "1.5.0",
            "_view_count": null,
            "_view_module_version": "1.2.0",
            "_model_module": "@jupyter-widgets/controls"
          }
        },
        "ff52f747f4274cb68acabea066529d67": {
          "model_module": "@jupyter-widgets/base",
          "model_name": "LayoutModel",
          "state": {
            "_view_name": "LayoutView",
            "grid_template_rows": null,
            "right": null,
            "justify_content": null,
            "_view_module": "@jupyter-widgets/base",
            "overflow": null,
            "_model_module_version": "1.2.0",
            "_view_count": null,
            "flex_flow": null,
            "width": null,
            "min_width": null,
            "border": null,
            "align_items": null,
            "bottom": null,
            "_model_module": "@jupyter-widgets/base",
            "top": null,
            "grid_column": null,
            "overflow_y": null,
            "overflow_x": null,
            "grid_auto_flow": null,
            "grid_area": null,
            "grid_template_columns": null,
            "flex": null,
            "_model_name": "LayoutModel",
            "justify_items": null,
            "grid_row": null,
            "max_height": null,
            "align_content": null,
            "visibility": null,
            "align_self": null,
            "height": null,
            "min_height": null,
            "padding": null,
            "grid_auto_rows": null,
            "grid_gap": null,
            "max_width": null,
            "order": null,
            "_view_module_version": "1.2.0",
            "grid_template_areas": null,
            "object_position": null,
            "object_fit": null,
            "grid_auto_columns": null,
            "margin": null,
            "display": null,
            "left": null
          }
        }
      }
    },
    "accelerator": "GPU"
  },
  "cells": [
    {
      "cell_type": "markdown",
      "metadata": {
        "id": "view-in-github",
        "colab_type": "text"
      },
      "source": [
        "<a href=\"https://colab.research.google.com/github/Dharani1999/Word-embedding-techniques/blob/master/ROBERTA.ipynb\" target=\"_parent\"><img src=\"https://colab.research.google.com/assets/colab-badge.svg\" alt=\"Open In Colab\"/></a>"
      ]
    },
    {
      "cell_type": "code",
      "metadata": {
        "id": "dVIdyTbUk59U",
        "colab_type": "code",
        "colab": {}
      },
      "source": [
        "import pandas as pd\n",
        "import numpy as np\n",
        "import pickle\n",
        "import gensim\n",
        "from gensim import corpora, models, similarities\n",
        "from gensim.models import Word2Vec, TfidfModel, LsiModel\n",
        "from gensim.models.doc2vec import Doc2Vec, TaggedDocument\n",
        "from gensim.models.fasttext import FastText\n",
        "from sklearn.feature_extraction.text import HashingVectorizer\n",
        "from sklearn.feature_extraction.text import CountVectorizer\n",
        "\n",
        "def save_object(obj, filename):\n",
        "    with open(filename, 'wb') as output:  # Overwrites any existing file.\n",
        "        pickle.dump(obj, output, pickle.HIGHEST_PROTOCOL)\n",
        "\n",
        "def load_object(filename):\n",
        "    with open(filename, 'rb') as input:\n",
        "        pickle_object = pickle.load(input)\n",
        "    return  pickle_object"
      ],
      "execution_count": 1,
      "outputs": []
    },
    {
      "cell_type": "code",
      "metadata": {
        "id": "VXYcHjKSm7z1",
        "colab_type": "code",
        "colab": {}
      },
      "source": [
        "def data_module(name, location, output_location, dict_location, max_seq_length=100):\n",
        "  dataset1 = pd.read_csv(location)\n",
        "  dataset = dataset1.iloc[0:1000000,:]\n",
        "\n",
        "  if name == 'word2vec':\n",
        "    data_corpus, users_total = data_word2vec(dataset,max_seq_length)\n",
        "  elif name == 'doc2vec':\n",
        "    data_corpus, users_total = data_doc2vec(dataset,max_seq_length)\n",
        "  elif name == 'lsi':\n",
        "    data_corpus, users_total = data_lsi(dataset,max_seq_length,dict_loc=dict_location)\n",
        "  elif name == 'tfidf':\n",
        "    data_corpus, users_total = data_lsi(dataset,max_seq_length,dict_loc=dict_location)\n",
        "  elif name == 'glove':\n",
        "    data_corpus, users_total = data_word2vec(dataset,max_seq_length)\n",
        "  elif name == 'hashing':\n",
        "    data_corpus, users_total = data_hashing(dataset,max_seq_length)\n",
        "  elif name == 'cooccur':\n",
        "    data_corpus, users_total = data_hashing(dataset,max_seq_length)\n",
        "  #elif name == 'fasttext':\n",
        "   # data_corpus, users_total = data_word2vec(dataset,max_seq_length)\n",
        "  #data_corpus.save('/content/drive/My Drive/Movielensdata/ml25m/data_corpus')\n",
        "  #print(data_corpus)\n",
        "  save_object(obj=data_corpus, filename=output_location)\n",
        "  #return data_corpus, users_total\n",
        "\n",
        "def data_word2vec(dataset,max_seq_length):\n",
        "  dataset.sort_values(by=['userId','timestamp'],inplace=True)\n",
        "  user_total = len(dataset['userId'].unique())\n",
        "  \n",
        "  #Selecting the most recent movies rated by each user and padding if necessary\n",
        "  movie_list = []\n",
        "  for i in range(user_total):\n",
        "    list1 = []\n",
        "    list1 = dataset.loc[dataset['userId'] ==(i+1),['movieId']]['movieId'].tolist()\n",
        "    if len(list1)>max_seq_length:\n",
        "      list1 = list1[(len(list1)-max_seq_length):]\n",
        "    elif len(list1)<max_seq_length:\n",
        "      list1 = list1+[0 for j in range((max_seq_length-len(list1)))]\n",
        "      #for j in range((max_seq_length-len(list1))):\n",
        "       # list1.append(0)\n",
        "    movie_list.append(list1)\n",
        "  \n",
        "  #Selecting the most recent ratings rated by each user and padding if necessary\n",
        "  rating_list =[]\n",
        "  for i in range(user_total):\n",
        "    list2 = []\n",
        "    list2 = dataset.loc[dataset['userId'] ==(i+1),['rating']]['rating'].tolist()\n",
        "    if len(list2)>max_seq_length:\n",
        "      list2 = list2[(len(list2)-max_seq_length):]\n",
        "    elif len(list2)<max_seq_length:\n",
        "      list2 = list2+[0 for j in range((max_seq_length-len(list2)))]\n",
        "      #for j in range((max_seq_length-len(list2))):\n",
        "       # list2.append(0)\n",
        "    rating_list.append(list2)\n",
        "  \n",
        "  #Creating user_id level transpose matrices\n",
        "  movies_transpose = pd.DataFrame(data=movie_list,index=[i+1 for i in range(user_total)])\n",
        "  movies_transpose.index.names = ['userId']\n",
        "  #print(movies_transpose)\n",
        "\n",
        "  ratings_transpose = pd.DataFrame(data=rating_list,index=[i+1 for i in range(user_total)])\n",
        "  ratings_transpose.index.names = ['userId']\n",
        "  #print(ratings_transpose)\n",
        "\n",
        "  # Select features from original dataset to form a new dataframe \n",
        "  df1 = movies_transpose.iloc[:]# For each row, combine all the columns into one column\n",
        "  df2 = df1.apply(lambda x: ','.join(x.astype(str)), axis=1)# Store them in a pandas dataframe\n",
        "  df_clean = pd.DataFrame({'clean': df2})# Create the list of list format of the custom corpus for gensim modeling \n",
        "  sent = [row.split(',') for row in df_clean['clean']]\n",
        "\n",
        "  return sent, user_total\n",
        "\n",
        "def data_doc2vec(dataset,max_seq_length):\n",
        "  Sent, user_total = data_word2vec(dataset,max_seq_length)\n",
        "  tagged_data = []\n",
        "  tags = []\n",
        "  \n",
        "  for i in range(user_total):\n",
        "    tagged_data = tagged_data + [TaggedDocument(words=Sent[i], tags=[str(i)])]\n",
        "\n",
        "  return tagged_data, user_total\n",
        "\n",
        "def data_lsi(dataset,max_seq_length,dict_loc):\n",
        "  Sent, user_total = data_word2vec(dataset,max_seq_length)\n",
        "  dictionary = corpora.Dictionary(Sent)\n",
        "  #print(dictionary.token2id)\n",
        "  corpus = [dictionary.doc2bow(text) for text in Sent]\n",
        "  dictionary.save(dict_loc)\n",
        "  #corpus = np.array([[(id, freq) for id, freq in cp] for cp in corp])\n",
        "  #corpus = gensim.matutils.Dense2Corpus(np.array(Sent),documents_columns=False)\n",
        "\n",
        "  return corpus, user_total\n",
        "\n",
        "def data_hashing(dataset,max_seq_length):\n",
        "  Sent, user_total = data_word2vec(dataset,max_seq_length)\n",
        "  corpus = [str(str(doc)[1:-1]) for doc in Sent]\n",
        "  return corpus, user_total"
      ],
      "execution_count": 2,
      "outputs": []
    },
    {
      "cell_type": "code",
      "metadata": {
        "id": "E93LA63NoJKl",
        "colab_type": "code",
        "colab": {}
      },
      "source": [
        "def embedding_model(name,Data_location,model_save_location,matrix_location, vector_dims=10,Sg=1,size_window=3,topics=10,mini_count=1,num_workers=3,max_num_epochs = 100,alpha = 0.025,min_alpha=0.00025,dm=1, maxi_features=None):\n",
        "  Data = load_object(Data_location)\n",
        "  #print(Data)\n",
        "  if name == 'word2vec':\n",
        "    word2vec(input_data=Data, save_loc=model_save_location, vec_dims=vector_dims, SG=Sg, size_of_window=size_window, minimum_count=mini_count, no_workers=num_workers)\n",
        "    #voc = model1.wv\n",
        "    #words = list(model1.wv.vocab)\n",
        "    #vectors = model1[model1.wv.vocab]\n",
        "  elif name == 'doc2vec':\n",
        "    doc2vec(input_data=Data, save_loc=model_save_location, vec_dims=vector_dims, alpha_=alpha, size_of_window=size_window, no_workers=num_workers, max_epochs=max_num_epochs,min_alpha_=min_alpha, minimum_count=mini_count, dms=dm)\n",
        "  elif name == 'lsi':\n",
        "    lsi(input_data=Data, save_loc=model_save_location, total_topics=topics)\n",
        "  elif name == 'tfidf':\n",
        "    tfidf(input_data=Data,save_loc=model_save_location)\n",
        "  elif name == 'glove':\n",
        "    glove_model(input_data=Data, vec_dims=vector_dims, size_of_window=size_window, save_loc=model_save_location, num_epochs=max_num_epochs, alpha_=0.05, num_threads=4)\n",
        "  elif name == 'hashing':\n",
        "    hashing(input_data=Data, vec_dims=vector_dims, save_loc=model_save_location)\n",
        "  elif name == 'cooccur':\n",
        "    co_occur(input_data=Data, maximum_features=maxi_features, save_loc=model_save_location, matrix_loc = matrix_location)\n",
        "  #elif name == 'fasttext':\n",
        "   # fast_text(input_data=Data, save_loc=model_save_location, vec_dims=vector_dims, SG=Sg, size_of_window=size_window, minimum_count=mini_count, no_workers=num_workers, alpha_=0.025)\n",
        "\n",
        "def word2vec(input_data,save_loc,vec_dims,SG,size_of_window,minimum_count,no_workers):\n",
        "  model = Word2Vec(input_data,min_count=minimum_count,size= vec_dims,workers=no_workers, window =size_of_window, sg = SG)\n",
        "  model.save(save_loc)\n",
        "\n",
        "def doc2vec(input_data,save_loc,vec_dims,alpha_,size_of_window,min_alpha_,minimum_count,dms,no_workers,max_epochs):\n",
        "  model = Doc2Vec(size=vec_dims,\n",
        "                alpha=alpha_, \n",
        "                min_alpha=min_alpha_,\n",
        "                window = size_of_window,\n",
        "                min_count=minimum_count,\n",
        "                dm =dms)\n",
        "  model.build_vocab(input_data)\n",
        "\n",
        "  for epoch in range(max_epochs):\n",
        "    #print('iteration {0}'.format(epoch))\n",
        "    model.train(input_data, total_examples=model.corpus_count, epochs=model.iter)\n",
        "    # decrease the learning rate\n",
        "    model.alpha -= 0.0002\n",
        "    # fix the learning rate, no decay\n",
        "    model.min_alpha = model.alpha\n",
        "  model.save(save_loc)\n",
        "\n",
        "def lsi(input_data,save_loc,total_topics):\n",
        "  model = models.LsiModel(corpus=input_data, num_topics=total_topics)\n",
        "  index = similarities.MatrixSimilarity(model[input_data])\n",
        "  lsi_data = model[input_data]\n",
        "  lsi_topics = model.print_topics()\n",
        "  #for topic in lsi_topics:\n",
        "    #print(topic)\n",
        "  model.save(save_loc)\n",
        "\n",
        "def tfidf(input_data,save_loc):\n",
        "  model = models.TfidfModel(corpus=input_data)\n",
        "  tfidf_data = model[input_data]\n",
        "\n",
        "  tfidf_token= np.zeros((len(tfidf_data), 350), dtype=np.float64)\n",
        "  tfidf_vals= np.zeros((len(tfidf_data), 350), dtype=np.float64)\n",
        " \n",
        "  for i in range(len(input_data)):\n",
        "    for k in range(len(list(tfidf_data)[i])):\n",
        "      tfidf_token[i][k]=(list(tfidf_data))[i][k][0]\n",
        "      tfidf_vals[i][k]=(list(tfidf_data))[i][k][1]\n",
        "  tfidf_list=list(tfidf_data)\n",
        "  #print(list(tfidf_data))\n",
        "  model.save(save_loc)\n",
        "\n",
        "def glove_model(input_data,vec_dims,size_of_window,save_loc,alpha_=0.05,num_epochs=30, num_threads=4):\n",
        "  #importing the glove library\n",
        "  corpus = Corpus() #training the corpus to generate the co occurence matrix which is used in GloVe\n",
        "  corpus.fit(input_data, window=size_of_window)#creating a Glove object which will use the matrix created in the above lines to create embeddings\n",
        "  #We can set the learning rate as it uses Gradient Descent and number of components\n",
        "  glove = Glove(no_components=vec_dims, learning_rate=alpha_) \n",
        "  glove.fit(corpus.matrix, epochs=num_epochs, no_threads=4, verbose=True)\n",
        "  glove.add_dictionary(corpus.dictionary)\n",
        "  glove.save(save_loc)\n",
        "\n",
        "def fast_text(input_data,save_loc,vec_dims,SG,size_of_window,minimum_count,no_workers,alpha_=0.025):\n",
        "  model = FastText(min_count=minimum_count, alpha=alpha_, size= vec_dims, workers=no_workers, window =size_of_window)\n",
        "  model.build_vocab(input_data)\n",
        "  model.train(input_data, epochs=model.epochs, total_examples=model.corpus_count, total_words=model.corpus_total_words)\n",
        "  model.save(save_loc)\n",
        "\n",
        "def hashing(input_data,vec_dims,save_loc):\n",
        "  model = HashingVectorizer(n_features=vec_dims)\n",
        "  model.transform(input_data)\n",
        "  #vectors = model.toarray()\n",
        "  #vocab = model.get_feature_names()\n",
        "  save_object(obj=model, filename=save_loc)\n",
        "\n",
        "def co_occur(input_data, save_loc, matrix_loc, maximum_features):\n",
        "  print(input_data[3])\n",
        "  model = CountVectorizer(ngram_range=(1,1),max_features=maximum_features, token_pattern= r\"(?u)\\b\\w+\\b\")\n",
        "  X = model.fit_transform(input_data)\n",
        "  Xc = (X.T * X)\n",
        "  Xc.setdiag(0)\n",
        "  #cooccur = Xc.todense()\n",
        "  names = model.get_feature_names() # This are the entity names (i.e. keywords)\n",
        "  save_object(obj=names, filename='/content/drive/My Drive/Movielensdata/ml25m/cooccur/vocab')\n",
        "  df = pd.DataFrame(data = Xc.toarray(), columns = names, index = names)\n",
        "  save_object(obj=model, filename=save_loc)\n",
        "  save_object(obj=df, filename=matrix_loc)"
      ],
      "execution_count": 3,
      "outputs": []
    },
    {
      "cell_type": "code",
      "metadata": {
        "id": "bnPTam8xlcWR",
        "colab_type": "code",
        "colab": {
          "base_uri": "https://localhost:8080/",
          "height": 753
        },
        "outputId": "874ef349-357f-43c0-cafb-0781459ef98f"
      },
      "source": [
        "!pip install git+https://github.com/huggingface/transformers\n",
        "!pip list | grep -E 'transformers|tokenizers'"
      ],
      "execution_count": 4,
      "outputs": [
        {
          "output_type": "stream",
          "text": [
            "Collecting git+https://github.com/huggingface/transformers\n",
            "  Cloning https://github.com/huggingface/transformers to /tmp/pip-req-build-i99fcz1k\n",
            "  Running command git clone -q https://github.com/huggingface/transformers /tmp/pip-req-build-i99fcz1k\n",
            "Requirement already satisfied: numpy in /usr/local/lib/python3.6/dist-packages (from transformers==3.0.2) (1.18.5)\n",
            "Collecting tokenizers==0.8.1.rc1\n",
            "\u001b[?25l  Downloading https://files.pythonhosted.org/packages/40/d0/30d5f8d221a0ed981a186c8eb986ce1c94e3a6e87f994eae9f4aa5250217/tokenizers-0.8.1rc1-cp36-cp36m-manylinux1_x86_64.whl (3.0MB)\n",
            "\u001b[K     |████████████████████████████████| 3.0MB 12.8MB/s \n",
            "\u001b[?25hRequirement already satisfied: packaging in /usr/local/lib/python3.6/dist-packages (from transformers==3.0.2) (20.4)\n",
            "Requirement already satisfied: filelock in /usr/local/lib/python3.6/dist-packages (from transformers==3.0.2) (3.0.12)\n",
            "Requirement already satisfied: requests in /usr/local/lib/python3.6/dist-packages (from transformers==3.0.2) (2.23.0)\n",
            "Requirement already satisfied: tqdm>=4.27 in /usr/local/lib/python3.6/dist-packages (from transformers==3.0.2) (4.41.1)\n",
            "Requirement already satisfied: regex!=2019.12.17 in /usr/local/lib/python3.6/dist-packages (from transformers==3.0.2) (2019.12.20)\n",
            "Collecting sentencepiece!=0.1.92\n",
            "\u001b[?25l  Downloading https://files.pythonhosted.org/packages/d4/a4/d0a884c4300004a78cca907a6ff9a5e9fe4f090f5d95ab341c53d28cbc58/sentencepiece-0.1.91-cp36-cp36m-manylinux1_x86_64.whl (1.1MB)\n",
            "\u001b[K     |████████████████████████████████| 1.1MB 50.8MB/s \n",
            "\u001b[?25hCollecting sacremoses\n",
            "\u001b[?25l  Downloading https://files.pythonhosted.org/packages/7d/34/09d19aff26edcc8eb2a01bed8e98f13a1537005d31e95233fd48216eed10/sacremoses-0.0.43.tar.gz (883kB)\n",
            "\u001b[K     |████████████████████████████████| 890kB 47.5MB/s \n",
            "\u001b[?25hRequirement already satisfied: dataclasses in /usr/local/lib/python3.6/dist-packages (from transformers==3.0.2) (0.7)\n",
            "Requirement already satisfied: pyparsing>=2.0.2 in /usr/local/lib/python3.6/dist-packages (from packaging->transformers==3.0.2) (2.4.7)\n",
            "Requirement already satisfied: six in /usr/local/lib/python3.6/dist-packages (from packaging->transformers==3.0.2) (1.12.0)\n",
            "Requirement already satisfied: certifi>=2017.4.17 in /usr/local/lib/python3.6/dist-packages (from requests->transformers==3.0.2) (2020.6.20)\n",
            "Requirement already satisfied: urllib3!=1.25.0,!=1.25.1,<1.26,>=1.21.1 in /usr/local/lib/python3.6/dist-packages (from requests->transformers==3.0.2) (1.24.3)\n",
            "Requirement already satisfied: chardet<4,>=3.0.2 in /usr/local/lib/python3.6/dist-packages (from requests->transformers==3.0.2) (3.0.4)\n",
            "Requirement already satisfied: idna<3,>=2.5 in /usr/local/lib/python3.6/dist-packages (from requests->transformers==3.0.2) (2.9)\n",
            "Requirement already satisfied: click in /usr/local/lib/python3.6/dist-packages (from sacremoses->transformers==3.0.2) (7.1.2)\n",
            "Requirement already satisfied: joblib in /usr/local/lib/python3.6/dist-packages (from sacremoses->transformers==3.0.2) (0.15.1)\n",
            "Building wheels for collected packages: transformers, sacremoses\n",
            "  Building wheel for transformers (setup.py) ... \u001b[?25l\u001b[?25hdone\n",
            "  Created wheel for transformers: filename=transformers-3.0.2-cp36-none-any.whl size=788747 sha256=1e42362013300df8cb32637c86adf938d38259a370cfe50ffb1bda3a80d82f81\n",
            "  Stored in directory: /tmp/pip-ephem-wheel-cache-jzs1impb/wheels/70/d3/52/b3fa4f8b8ef04167ac62e5bb2accb62ae764db2a378247490e\n",
            "  Building wheel for sacremoses (setup.py) ... \u001b[?25l\u001b[?25hdone\n",
            "  Created wheel for sacremoses: filename=sacremoses-0.0.43-cp36-none-any.whl size=893260 sha256=eaae95263096c52985fdb63dd89d3250d71169596e2be9b882fc8b98e4cfc930\n",
            "  Stored in directory: /root/.cache/pip/wheels/29/3c/fd/7ce5c3f0666dab31a50123635e6fb5e19ceb42ce38d4e58f45\n",
            "Successfully built transformers sacremoses\n",
            "Installing collected packages: tokenizers, sentencepiece, sacremoses, transformers\n",
            "Successfully installed sacremoses-0.0.43 sentencepiece-0.1.91 tokenizers-0.8.1rc1 transformers-3.0.2\n",
            "tokenizers               0.8.1rc1       \n",
            "transformers             3.0.2          \n"
          ],
          "name": "stdout"
        }
      ]
    },
    {
      "cell_type": "code",
      "metadata": {
        "id": "2oKUZOP9noqd",
        "colab_type": "code",
        "colab": {
          "base_uri": "https://localhost:8080/",
          "height": 110
        },
        "outputId": "e67e55d2-6799-48fe-9e84-b2480346eea7"
      },
      "source": [
        "data_module(name='cooccur',max_seq_length=100,location='/content/drive/My Drive/Movielensdata/ml25m/ratings.csv',output_location='/content/drive/My Drive/Movielensdata/ml25m/cooccur/data', dict_location='/content/drive/My Drive/Movielensdata/ml25m/tfidf/dict')"
      ],
      "execution_count": 5,
      "outputs": [
        {
          "output_type": "stream",
          "text": [
            "/usr/local/lib/python3.6/dist-packages/ipykernel_launcher.py:27: SettingWithCopyWarning: \n",
            "A value is trying to be set on a copy of a slice from a DataFrame\n",
            "\n",
            "See the caveats in the documentation: https://pandas.pydata.org/pandas-docs/stable/user_guide/indexing.html#returning-a-view-versus-a-copy\n"
          ],
          "name": "stderr"
        }
      ]
    },
    {
      "cell_type": "code",
      "metadata": {
        "id": "-1qHEAsakqLi",
        "colab_type": "code",
        "colab": {
          "base_uri": "https://localhost:8080/",
          "height": 55
        },
        "outputId": "d24a9a0f-3367-40ea-afd9-979f9f0e089b"
      },
      "source": [
        "embedding_model(name='cooccur',Data_location='/content/drive/My Drive/Movielensdata/ml25m/cooccur/data',model_save_location='/content/drive/My Drive/Movielensdata/ml25m/cooccur/co_occur', matrix_location='/content/drive/My Drive/Movielensdata/ml25m/cooccur/matrix', vector_dims=10,Sg=1,size_window=3,topics=10,mini_count=1,num_workers=3,max_num_epochs = 10,alpha = 0.025,min_alpha=0.00025,dm=1,maxi_features=None)"
      ],
      "execution_count": 6,
      "outputs": [
        {
          "output_type": "stream",
          "text": [
            "'81564', '81229', '103253', '111360', '51935', '69526', '106916', '5110', '6156', '79695', '71264', '136020', '138036', '45431', '179819', '71057', '115122', '7324', '49649', '44193', '50601', '46948', '54881', '108945', '48982', '159817', '179401', '103384', '49396', '189333', '4974', '6550', '152081', '7451', '1036', '111781', '173145', '63859', '3751', '6863', '5299', '79091', '3624', '86332', '88140', '102125', '106489', '122918', '46972', '4709', '96079', '924', '148426', '168612', '1265', '182715', '1201', '3681', '7569', '2993', '1732', '2019', '2918', '3175', '1278', '1080', '3114', '3671', '2791', '1288', '1270', '1', '541', '1200', '2716', '3039', '96110', '2115', '2951', '3033', '112138', '176101', '4963', '203519', '187541', '1197', '111759', '180989', '171011', '142115', '127098', '53956', '156706', '139644', '5952', '122912', '77561', '93363', '3793', '1136'\n"
          ],
          "name": "stdout"
        }
      ]
    },
    {
      "cell_type": "code",
      "metadata": {
        "id": "8SSvNLzPoTHP",
        "colab_type": "code",
        "colab": {}
      },
      "source": [
        "bert_vocab = load_object('/content/drive/My Drive/Movielensdata/ml25m/cooccur/vocab')"
      ],
      "execution_count": 7,
      "outputs": []
    },
    {
      "cell_type": "code",
      "metadata": {
        "id": "Uir0gd5ek0S4",
        "colab_type": "code",
        "colab": {
          "base_uri": "https://localhost:8080/",
          "height": 55
        },
        "outputId": "57997613-8e08-4ece-c6c3-7367eacb08e1"
      },
      "source": [
        "print(bert_vocab)"
      ],
      "execution_count": 8,
      "outputs": [
        {
          "output_type": "stream",
          "text": [
            "['0', '1', '10', '100', '1000', '100017', '100044', '100046', '100083', '1001', '100106', '100108', '100159', '100163', '100167', '100169', '100194', '1002', '100205', '100238', '100244', '100289', '1003', '100302', '100322', '100326', '100344', '100383', '100390', '100397', '1004', '100401', '100404', '100436', '100444', '100469', '100487', '100498', '1005', '100507', '100509', '100515', '100527', '100556', '100579', '100581', '100591', '1006', '100611', '1007', '100714', '100737', '100745', '1008', '100810', '100843', '1009', '100946', '101', '1010', '101025', '101060', '101070', '101074', '101076', '101079', '101088', '1011', '101106', '101112', '101137', '101142', '101170', '101180', '101186', '1012', '101218', '101258', '101260', '101262', '101281', '101283', '101285', '101296', '1013', '101360', '101362', '1014', '101415', '101425', '101448', '101450', '101498', '1015', '101525', '101527', '101529', '101577', '101597', '1016', '101612', '101687', '1017', '101703', '101708', '101739', '101741', '101747', '101761', '101765', '101770', '1018', '101850', '101864', '101891', '101893', '101895', '101897', '1019', '101904', '101942', '101962', '101969', '101971', '101973', '101997', '102', '1020', '102033', '102062', '102066', '102070', '102072', '102088', '1021', '102123', '102125', '102158', '102160', '102188', '102194', '1022', '102245', '102275', '102294', '1023', '1024', '102407', '102445', '102469', '102481', '102483', '102485', '1025', '102588', '102590', '102602', '102666', '102684', '102686', '102688', '1027', '102716', '102720', '102747', '102753', '1028', '102800', '102819', '102880', '1029', '102903', '102905', '102953', '102956', '102974', '102991', '102993', '102995', '103', '1030', '103008', '103017', '103027', '103042', '103048', '103050', '103055', '103059', '103075', '103083', '1031', '103107', '103120', '103137', '103141', '103175', '1032', '103203', '103210', '103219', '103228', '103249', '103253', '103255', '103279', '103299', '1033', '103306', '103315', '103335', '103339', '103341', '103372', '103384', '1034', '103444', '103452', '103483', '1035', '103534', '103539', '103541', '103543', '103547', '103549', '103554', '103561', '1036', '103606', '103621', '103624', '103641', '103645', '103655', '103665', '103685', '103688', '1037', '103721', '103727', '103736', '103751', '103755', '103772', '1038', '103801', '103810', '103816', '103849', '103865', '103883', '1039', '103912', '103980', '103984', '104', '1040', '104072', '104074', '104076', '104078', '104089', '104097', '1041', '104137', '1042', '104211', '104218', '104231', '104241', '104243', '104245', '104272', '104283', '104298', '1043', '104303', '104312', '104337', '104339', '104361', '104374', '104379', '1044', '104441', '104451', '104457', '1045', '104518', '1046', '104604', '104631', '104685', '1047', '104728', '104736', '104757', '104762', '104841', '104863', '104875', '104879', '104881', '104883', '1049', '104906', '104908', '104913', '104920', '104925', '104944', '104975', '105', '1050', '105037', '105040', '105053', '1051', '105197', '1052', '105211', '105213', '105215', '105246', '105250', '105292', '1053', '105340', '105343', '105351', '105355', '105364', '1054', '105420', '105429', '105468', '1055', '105504', '105519', '105531', '105585', '105593', '1056', '105620', '105653', '1057', '105703', '105715', '105717', '105731', '105742', '105755', '105769', '105778', '105799', '1058', '105805', '105811', '105813', '105835', '105837', '105841', '105844', '105855', '105869', '1059', '105943', '105954', '105972', '106', '1060', '106002', '106011', '106022', '106062', '106072', '106076', '106082', '106094', '1061', '106100', '106109', '106138', '106163', '106170', '106195', '1062', '106236', '106240', '106243', '1063', '106326', '106330', '106332', '106438', '106441', '106452', '106471', '106473', '106487', '106489', '106491', '106503', '106508', '106540', '106559', '106565', '1066', '106696', '106734', '106762', '106766', '106782', '106785', '1068', '106841', '106863', '106870', '106879', '106889', '1069', '106916', '106918', '106920', '106927', '106983', '107', '107069', '107083', '1071', '107117', '107130', '107141', '107196', '1073', '107314', '107346', '107348', '107354', '107406', '107408', '107410', '107412', '107436', '107447', '107462', '107557', '107565', '107591', '1076', '107625', '107649', '107662', '1077', '107700', '107702', '107756', '107769', '107771', '1078', '107883', '1079', '107910', '107951', '1080', '108078', '1081', '108156', '108188', '108190', '1082', '108220', '108243', '1083', '108318', '1084', '108466', '108488', '1085', '108514', '108529', '108566', '108599', '1086', '108660', '108689', '1087', '108727', '108729', '108760', '108778', '108780', '108787', '108791', '108797', '1088', '108811', '108825', '108879', '1089', '108928', '108932', '108945', '108977', '108981', '108983', '1090', '109000', '1091', '109157', '109177', '109181', '109187', '109189', '109191', '1092', '109241', '109243', '109282', '1093', '109330', '109351', '109374', '109376', '109390', '109399', '1094', '109423', '109455', '109463', '109483', '109487', '1095', '109569', '109576', '109578', '109596', '1096', '109613', '109627', '109633', '109645', '109673', '109687', '109697', '1097', '109740', '109742', '109769', '1098', '109846', '109848', '109850', '109853', '109864', '109895', '109897', '1099', '109941', '109968', '109971', '11', '110', '1100', '110044', '1101', '110102', '110110', '110116', '110127', '110130', '110134', '110181', '110194', '1102', '110200', '110295', '110297', '1103', '110322', '110328', '110330', '110387', '1104', '110407', '110433', '110453', '110461', '1105', '110501', '110503', '110553', '110586', '110591', '1106', '110603', '110611', '110633', '110655', '110675', '1107', '110718', '110730', '110746', '110748', '110765', '110771', '110809', '110828', '110882', '110968', '111', '1110', '1111', '111113', '1112', '111235', '111245', '111249', '111255', '111259', '1113', '111312', '111360', '111362', '111364', '111373', '111375', '111384', '111387', '111389', '1114', '111403', '111439', '111443', '1115', '111551', '1116', '111617', '111622', '111659', '111680', '1117', '111732', '111734', '111743', '111759', '111762', '111778', '111781', '1118', '111817', '1119', '111913', '111921', '111924', '112', '1120', '112023', '112066', '112070', '112072', '112085', '112087', '1121', '112138', '112171', '112175', '112183', '112245', '112283', '112290', '112293', '1123', '112303', '112316', '112328', '112334', '112370', '112399', '1124', '112421', '112450', '112469', '112485', '112497', '1125', '112512', '112552', '112556', '112580', '112582', '112591', '1126', '112623', '112653', '1127', '112727', '112733', '112788', '1128', '112804', '112818', '112850', '112852', '112866', '112868', '112895', '112897', '1129', '112911', '112940', '112946', '113', '1130', '113037', '113064', '113066', '113089', '1131', '113103', '113188', '1132', '113207', '113216', '113225', '113236', '113238', '113240', '113250', '113252', '113275', '1133', '113313', '113315', '113345', '113348', '113350', '113374', '113378', '113394', '1134', '113453', '113497', '1135', '113521', '113532', '113565', '113573', '1136', '113604', '113640', '113696', '1137', '113705', '113741', '113780', '1138', '113829', '113843', '113862', '1139', '114', '1140', '114007', '114028', '114033', '114042', '114044', '114060', '114066', '114074', '114180', '114184', '1142', '114244', '114246', '114248', '114265', '114273', '114277', '1143', '114329', '114342', '114396', '1144', '114426', '114439', '114459', '114486', '114494', '1145', '114514', '114552', '114554', '1146', '114601', '114635', '114662', '114670', '114678', '114680', '1147', '114713', '114762', '114766', '114793', '114795', '1148', '114818', '114847', '114898', '1149', '114925', '114935', '114945', '114958', '1150', '115075', '1151', '115122', '115147', '115149', '115170', '115172', '1152', '115210', '115216', '115231', '115235', '1153', '115381', '1154', '1155', '115502', '115569', '1156', '115617', '115629', '115664', '115667', '115669', '115680', '1157', '115705', '115708', '115713', '115756', '115819', '115824', '115828', '115881', '115929', '115939', '115941', '115943', '115945', '115967', '115991', '115998', '116', '1160', '116008', '116034', '1161', '116136', '116138', '116155', '116161', '116191', '1162', '116213', '116215', '116217', '1163', '116397', '116399', '1164', '116491', '1165', '116505', '116551', '1166', '116660', '116668', '1167', '116724', '116781', '116797', '116799', '1168', '116809', '116823', '116849', '116855', '116859', '116861', '116887', '116897', '1169', '116901', '116905', '116951', '116977', '117', '1170', '1171', '117107', '117109', '117121', '117123', '117136', '117158', '117176', '1172', '1173', '117308', '117312', '117314', '117318', '117322', '117324', '117350', '117362', '117368', '117434', '117438', '117442', '117444', '117446', '117450', '117456', '117464', '117466', '117488', '1175', '117511', '117529', '117533', '117545', '117549', '117551', '117565', '117590', '117592', '1176', '117650', '117652', '117678', '117696', '1177', '117706', '117728', '117738', '1178', '117849', '117851', '117861', '117867', '117871', '117877', '117879', '117881', '117887', '117893', '117895', '1179', '117913', '117922', '118', '1180', '118082', '1181', '118101', '118166', '118198', '118206', '118244', '118246', '118252', '118256', '1183', '118300', '118302', '118338', '118346', '118354', '1184', '118466', '118496', '1185', '118512', '118532', '1186', '118684', '118686', '118696', '1187', '118700', '118702', '118710', '118760', '118764', '118792', '1188', '118814', '118854', '118876', '118880', '118888', '118894', '118896', '118898', '1189', '118900', '118924', '118930', '118970', '118985', '118997', '119', '1190', '119065', '119068', '1191', '119126', '119139', '119141', '119145', '119153', '119155', '119167', '119182', '1192', '119218', '119222', '119226', '1193', '1194', '1196', '119655', '119687', '1197', '119701', '119714', '119782', '1198', '119804', '1199', '12', '120', '1200', '1201', '120112', '120130', '120132', '120138', '1202', '120214', '1203', '120392', '1204', '120428', '120440', '120466', '120470', '120478', '1206', '120633', '120635', '120637', '1207', '120783', '120799', '1208', '120807', '120811', '120813', '120815', '120825', '120853', '120887', '1209', '120950', '121', '1210', '121033', '121097', '121099', '1211', '121126', '121139', '121145', '121178', '121190', '1212', '121207', '121231', '121235', '121239', '121255', '1213', '121308', '121314', '121316', '121366', '121372', '1214', '121453', '121457', '121483', '121485', '121487', '121489', '121491', '121493', '1215', '121594', '1216', '1217', '121709', '1218', '1219', '122', '1220', '1221', '122100', '122129', '1222', '122222', '122224', '122228', '122232', '122274', '122282', '122294', '1223', '122300', '122308', '122325', '122335', '122343', '122357', '1224', '122413', '122425', '122486', '1225', '122517', '122523', '122543', '122569', '1226', '122651', '1227', '122781', '1228', '122831', '122851', '122882', '122884', '122886', '122888', '122890', '122892', '122896', '122898', '122900', '122902', '122904', '122906', '122910', '122912', '122914', '122916', '122918', '122920', '122922', '122924', '122926', '122940', '123', '1230', '123014', '123052', '1231', '123109', '123121', '123174', '123192', '1232', '1233', '123379', '1234', '123405', '123473', '123477', '1235', '123532', '123567', '123571', '123589', '1236', '123675', '1237', '123715', '1238', '123947', '124', '1240', '1241', '1242', '1243', '124302', '124308', '124326', '124348', '1244', '124404', '124488', '1245', '1246', '1247', '124749', '1248', '124851', '124859', '124869', '1249', '125', '1250', '125077', '1251', '125109', '1252', '125207', '125233', '125265', '125281', '1253', '1254', '125405', '1255', '125557', '1256', '1257', '125704', '1258', '125858', '125874', '1259', '125904', '125914', '125916', '125918', '125920', '125926', '125936', '125952', '125960', '125968', '125970', '125972', '125974', '126', '1260', '126016', '126058', '126064', '126082', '126086', '126090', '1261', '126106', '126134', '1262', '126237', '126245', '1263', '126341', '126393', '1264', '126409', '126426', '126430', '126482', '1265', '126548', '126579', '126584', '126599', '1266', '1267', '1268', '126801', '1269', '126947', '126953', '126977', '1270', '127019', '127052', '127084', '127096', '127098', '1271', '127108', '127114', '127116', '127118', '127124', '127130', '127134', '127136', '127140', '127144', '127146', '127152', '127164', '127178', '127180', '127184', '127186', '127192', '127196', '127198', '1272', '127202', '127204', '127208', '127210', '127212', '127214', '127218', '127228', '127294', '127298', '1273', '127309', '127319', '127323', '1274', '1275', '127583', '1276', '1277', '1278', '127833', '1279', '128', '1280', '128001', '128093', '1281', '128177', '128181', '1282', '1283', '128320', '128358', '128360', '128366', '1284', '128478', '128488', '1285', '128510', '128512', '128520', '128538', '128540', '128542', '128548', '128550', '128552', '128580', '128592', '1286', '128604', '128606', '128610', '128620', '128632', '128679', '128695', '1287', '1288', '128832', '128838', '128840', '128852', '128854', '128868', '1289', '128924', '128936', '128944', '128968', '128975', '129', '1290', '129005', '129013', '129032', '129076', '129078', '1291', '1292', '1293', '129309', '129354', '129428', '129437', '1295', '129514', '129534', '1296', '129657', '129659', '129675', '1297', '129707', '129737', '129739', '129771', '129773', '129779', '129781', '1298', '129820', '129859', '1299', '129913', '129937', '13', '1300', '130052', '130073', '130075', '130085', '130087', '1301', '130163', '1302', '1303', '130396', '1304', '130448', '130450', '130452', '130462', '130464', '130490', '130492', '130494', '130496', '1305', '130506', '130508', '130510', '130518', '130520', '130576', '130578', '130582', '130588', '1306', '130628', '130634', '130636', '130642', '130684', '130686', '1307', '130746', '130784', '1308', '130840', '1309', '130956', '130970', '130976', '130978', '130988', '130992', '131', '1310', '131013', '131017', '131023', '131050', '131066', '131080', '131092', '1311', '131168', '131170', '1312', '131237', '131243', '131248', '131252', '131270', '1313', '131389', '1314', '131429', '131431', '131433', '131451', '131470', '1315', '131506', '131578', '1316', '131622', '131656', '131658', '1317', '131714', '131724', '131739', '131796', '1318', '131830', '131848', '131850', '1319', '131920', '131930', '131980', '132', '1320', '132046', '132058', '1321', '132157', '132169', '1322', '132224', '132286', '1323', '132315', '132335', '132344', '132358', '132372', '1324', '132424', '132446', '132456', '132480', '132490', '132496', '1325', '132549', '132569', '132577', '132579', '132590', '1326', '132610', '132630', '132632', '132656', '132658', '132660', '132688', '1327', '132796', '132798', '1328', '132800', '132883', '1329', '132961', '132965', '132977', '132991', '1330', '1331', '133123', '133149', '133155', '133185', '133195', '1332', '133207', '133219', '133255', '133276', '133281', '133295', '1333', '133349', '133377', '133389', '1334', '133419', '1335', '133593', '1336', '133645', '133653', '133693', '133697', '1337', '133712', '133741', '133771', '133780', '133798', '133802', '133808', '133832', '133867', '133869', '133873', '1339', '1340', '134021', '134023', '134041', '134089', '134095', '1341', '134101', '134115', '134117', '134130', '134158', '134170', '134178', '134180', '134182', '134184', '1342', '134204', '134214', '134230', '134244', '134246', '134248', '134256', '1343', '134326', '134332', '134350', '134368', '134374', '134393', '1344', '1345', '134528', '134587', '134597', '1346', '134629', '134643', '134645', '134647', '134649', '134651', '134653', '134680', '134684', '1347', '134751', '134775', '134783', '134796', '1348', '134800', '134812', '134829', '134833', '134849', '134851', '134853', '134859', '134881', '134883', '1349', '135', '1350', '1351', '135127', '135133', '135135', '135137', '135141', '135143', '135182', '135184', '1352', '135216', '135248', '135264', '135278', '135288', '1353', '1354', '135426', '135436', '135456', '135488', '1355', '135502', '135504', '135512', '135518', '135520', '135528', '135530', '135532', '135534', '135536', '135541', '135567', '135569', '135585', '135589', '1356', '135603', '135605', '135627', '135695', '1357', '135727', '135753', '1358', '135803', '135817', '135848', '135852', '135859', '135861', '135867', '135875', '135885', '135887', '135889', '1359', '135925', '135933', '135995', '135997', '1360', '136016', '136018', '136020', '1361', '136204', '136221', '136245', '136247', '136249', '136251', '1363', '136305', '136309', '136311', '136331', '136333', '136335', '136337', '136339', '136341', '136343', '136345', '136349', '136351', '136353', '136355', '136357', '136361', '136363', '1364', '136431', '136447', '136449', '136457', '136459', '136467', '136469', '136471', '136477', '136495', '136497', '1365', '136501', '136511', '136513', '136515', '136517', '136528', '136538', '136542', '136556', '136562', '136564', '136580', '136590', '136598', '1366', '136602', '136642', '136652', '136656', '136680', '136686', '136694', '1367', '136778', '136786', '1368', '136814', '136864', '1369', '136906', '136932', '136950', '136972', '137', '1370', '1371', '137108', '1372', '1373', '137337', '137399', '1374', '137457', '137496', '1375', '137563', '137595', '1376', '1377', '137761', '1378', '137815', '137857', '1379', '137968', '138', '1380', '138036', '1381', '1382', '138204', '138208', '138210', '138212', '138300', '1384', '138402', '138422', '1385', '138610', '138632', '1387', '138702', '138754', '1388', '138898', '1389', '138923', '138952', '1390', '139052', '139098', '1391', '139100', '139120', '139124', '139130', '1392', '139205', '139207', '139291', '1393', '139317', '139385', '1394', '139415', '139417', '139419', '139495', '1395', '139507', '139525', '139539', '139553', '1396', '139606', '139620', '139626', '139642', '139644', '139655', '139663', '1397', '139715', '139721', '139723', '139747', '139757', '1398', '139805', '139845', '139847', '139855', '139857', '139859', '139861', '139863', '1399', '139915', '14', '140', '1400', '140012', '140038', '140074', '140088', '1401', '140106', '140110', '140135', '140144', '140146', '140160', '140162', '140174', '140196', '140247', '140265', '140267', '140289', '140301', '140341', '140345', '140367', '1404', '140429', '140447', '140473', '140481', '1405', '140511', '140523', '140525', '140529', '140535', '140579', '140581', '1406', '140627', '140653', '1407', '140711', '140713', '140715', '140737', '140747', '140785', '1408', '140816', '140820', '140856', '140860', '140862', '1409', '140922', '140928', '140940', '140942', '140944', '140946', '140956', '140958', '141', '1410', '141004', '1411', '141116', '141131', '141139', '141168', '1412', '1413', '141311', '1414', '141408', '141414', '141420', '141422', '141432', '141452', '1415', '141505', '141536', '141538', '141544', '141552', '141570', '1416', '141648', '141668', '141676', '141688', '141690', '141692', '1417', '141702', '141712', '141716', '141718', '141749', '141799', '141812', '141818', '141842', '141846', '141866', '141870', '141890', '1419', '141924', '141928', '141930', '141946', '141956', '142', '1420', '142020', '142032', '142052', '142070', '142074', '142084', '1421', '142113', '142115', '142148', '142158', '1422', '142210', '142218', '142222', '142226', '142228', '142238', '142266', '142372', '142382', '142386', '142388', '1424', '142420', '142422', '142424', '142448', '142450', '142452', '142456', '142476', '142488', '142492', '1425', '142503', '142507', '142509', '142532', '142536', '142540', '142566', '142574', '142598', '1426', '142604', '1427', '142791', '1428', '142811', '142817', '142831', '142841', '142843', '142861', '142875', '142885', '1429', '142925', '142947', '142997', '142999', '1430', '143009', '143029', '143031', '143033', '143043', '1431', '143197', '1432', '143209', '143245', '143257', '143271', '143275', '1433', '143309', '143311', '143341', '143345', '143347', '143355', '143361', '143365', '143367', '143385', '143387', '143389', '143404', '143410', '143434', '143440', '143444', '143462', '143466', '143476', '143506', '143511', '143531', '1436', '143647', '143657', '1437', '1438', '143859', '143868', '143884', '143886', '1439', '143969', '143990', '144', '1440', '144013', '144017', '144050', '144062', '1441', '144138', '144172', '144194', '1442', '144204', '144206', '144216', '144224', '144262', '1443', '144362', '1444', '144410', '144426', '144444', '144464', '144468', '144470', '144472', '144474', '144480', '144482', '144488', '144490', '144492', '144494', '144496', '144498', '1445', '144500', '144502', '144504', '144506', '144508', '144510', '144512', '144514', '144516', '144518', '144520', '144522', '144524', '144526', '144530', '144532', '144534', '144536', '144538', '144540', '144542', '144544', '144546', '144548', '144550', '144552', '144554', '144556', '144558', '144560', '144562', '144564', '144566', '144568', '144570', '144572', '144574', '144576', '144578', '144580', '144582', '144584', '144586', '144588', '144590', '144594', '144596', '144598', '1446', '144600', '144602', '144604', '144606', '144608', '144610', '144612', '144620', '144632', '144644', '144674', '144698', '1447', '144734', '144762', '144776', '1449', '144916', '144958', '144976', '144980', '144982', '144984', '145', '1450', '145030', '145034', '145064', '145066', '145080', '145094', '145096', '145132', '145140', '145150', '145162', '145182', '145208', '1453', '1454', '145418', '145489', '145491', '145493', '1455', '145504', '145514', '1456', '1457', '145775', '1458', '145809', '145839', '1459', '145935', '145994', '145996', '146', '1460', '146004', '146022', '146024', '146028', '146038', '1461', '146134', '146156', '146196', '1462', '146272', '1463', '146307', '146309', '146327', '146329', '1464', '146423', '146443', '1465', '146509', '1466', '146604', '146642', '146654', '146656', '146662', '146688', '1468', '146866', '146900', '146902', '146926', '146944', '147', '147002', '147008', '147022', '147035', '147041', '147045', '147047', '1471', '147108', '147144', '147184', '1472', '147206', '147236', '147238', '147244', '147250', '147260', '147264', '1473', '147300', '147326', '147328', '147330', '147336', '1474', '147410', '147432', '147434', '147436', '147471', '1475', '147597', '1476', '147617', '1477', '147750', '147768', '147831', '147847', '147865', '1479', '147905', '147909', '147940', '148', '1480', '148036', '148058', '148062', '148070', '148166', '148172', '148186', '1482', '148238', '148240', '148280', '148286', '1483', '148359', '148369', '148376', '148388', '1484', '148410', '148426', '148432', '148434', '148466', '148474', '148476', '148480', '148482', '1485', '1486', '148614', '148616', '148618', '148620', '148622', '148624', '148626', '148628', '148652', '148667', '148671', '148679', '148697', '1487', '148727', '148773', '148775', '148789', '1488', '148807', '148855', '148881', '148888', '1489', '148923', '148956', '148966', '148970', '148978', '148980', '148984', '149', '1490', '149011', '149034', '149090', '149100', '149120', '149144', '149146', '149162', '149178', '149186', '1493', '149334', '149352', '149354', '149382', '149394', '149406', '149418', '1495', '149506', '149532', '149584', '149586', '1496', '149614', '1497', '149723', '1498', '149826', '149830', '149834', '149894', '1499', '15', '150', '1500', '1501', '1502', '150240', '150244', '150254', '150258', '150262', '150294', '1503', '150316', '150322', '150324', '150338', '150342', '150373', '1504', '150604', '150694', '1507', '150776', '1508', '150842', '1509', '151', '1510', '1511', '151113', '151199', '1513', '151309', '151315', '151317', '151345', '151367', '1514', '151455', '151459', '1515', '151513', '151573', '151597', '1516', '151605', '151629', '151639', '151645', '151675', '151693', '151695', '1517', '151719', '151731', '151735', '151739', '151759', '151765', '151767', '151773', '151781', '151797', '1518', '151810', '1519', '151915', '151951', '152', '1520', '152001', '152017', '152025', '152057', '152059', '152061', '152063', '152067', '152077', '152079', '152081', '152083', '152085', '152091', '152131', '152198', '152248', '152270', '152272', '152284', '152290', '1523', '152326', '152372', '1524', '152479', '152493', '152499', '1525', '152545', '152591', '152593', '1526', '152660', '1527', '152836', '152838', '152864', '152866', '1529', '152970', '152976', '153', '153016', '153070', '1531', '153188', '1533', '153302', '153386', '1534', '1535', '153524', '153546', '153630', '1537', '153766', '153768', '153780', '153782', '153784', '153788', '153790', '153792', '153798', '1538', '153816', '153828', '153873', '1539', '154', '154051', '1541', '154160', '1542', '154218', '1543', '154331', '154358', '154378', '1544', '154400', '154432', '154470', '1545', '154512', '1546', '154678', '1547', '154890', '1549', '154915', '154941', '154996', '155', '1550', '155056', '155062', '155064', '155074', '1551', '1552', '155288', '155366', '155392', '1554', '155501', '155509', '155583', '155589', '1556', '155625', '155650', '155659', '155663', '1557', '155715', '155743', '155798', '155812', '155820', '155830', '155874', '155968', '155970', '156', '156000', '156025', '156104', '1562', '1563', '156369', '156371', '156387', '1565', '1566', '156605', '156607', '156609', '1567', '156706', '156726', '156755', '156819', '156896', '1569', '156903', '156944', '156956', '157', '1570', '1571', '157102', '157122', '157128', '157138', '157142', '157176', '1572', '157200', '157210', '157224', '157268', '157274', '157276', '157284', '157294', '157296', '157298', '1573', '157300', '157302', '157318', '157326', '157338', '157340', '157361', '157373', '1574', '157407', '157498', '1575', '157667', '157669', '157671', '157699', '157847', '157849', '157851', '157881', '1579', '157961', '157969', '158', '1580', '158070', '158072', '1581', '158159', '1582', '158238', '158254', '158260', '1583', '158314', '158336', '158376', '158382', '1584', '158402', '158491', '1585', '158528', '158538', '158575', '1586', '158661', '1587', '158731', '158783', '1588', '158807', '158813', '158823', '158830', '158842', '158846', '158852', '158864', '158872', '1589', '158900', '158930', '158956', '158962', '158966', '158972', '158974', '159', '1590', '159061', '159077', '159093', '1591', '159161', '159163', '159191', '159193', '159195', '1592', '1593', '159355', '1594', '159401', '159403', '159415', '159419', '159435', '159441', '159447', '1595', '1596', '159606', '159658', '159690', '1597', '159717', '159719', '159755', '159771', '1598', '159811', '159817', '159819', '159849', '159853', '159858', '159877', '1599', '159917', '159942', '159972', '159980', '16', '160', '1600', '160010', '160020', '160080', '1601', '160110', '160149', '160187', '1602', '160217', '160271', '160289', '1603', '160301', '160317', '160335', '160398', '1604', '160438', '1605', '160533', '160559', '160563', '160565', '160567', '160569', '160571', '160573', '160584', '1606', '160644', '160656', '160684', '160710', '160718', '1608', '160800', '160848', '160874', '160876', '160896', '1609', '160954', '160980', '160982', '160990', '161', '1610', '161024', '161072', '161078', '161092', '1611', '161127', '161131', '161175', '161177', '161179', '161190', '1612', '161240', '1613', '161328', '161334', '161354', '1614', '1615', '161580', '161582', '1616', '161604', '161608', '161620', '161622', '161634', '161650', '161676', '1617', '161738', '161864', '1619', '161918', '161920', '161922', '161954', '161966', '162', '1620', '162082', '1621', '162150', '162158', '162202', '1623', '162322', '162348', '162350', '162396', '1624', '162414', '162478', '1625', '162546', '162566', '162578', '162590', '162592', '162594', '162596', '162598', '1626', '162600', '162602', '162606', '162640', '162660', '1627', '162726', '162730', '162738', '162776', '162828', '162842', '162868', '162876', '162882', '1629', '162982', '162990', '163', '163022', '163026', '163032', '163048', '163052', '163056', '163072', '163092', '1631', '163134', '163136', '1632', '163242', '163294', '1633', '163312', '163438', '163496', '1635', '163504', '163508', '163512', '163569', '163585', '163645', '163771', '163807', '163809', '1639', '163921', '163931', '163937', '163939', '163949', '163955', '163959', '163965', '163971', '163979', '163985', '163995', '164', '1640', '164001', '1641', '164107', '164141', '164145', '164147', '164163', '164175', '164179', '164181', '1642', '164200', '164204', '164222', '164226', '164228', '164236', '164260', '164280', '164288', '1643', '164367', '164371', '164373', '164375', '164399', '1644', '164405', '164411', '164455', '1645', '164503', '164540', '164546', '164598', '1646', '164602', '164606', '164622', '164639', '164659', '164699', '1647', '164707', '164725', '164727', '164735', '1648', '164821', '164853', '164855', '164863', '164899', '1649', '164903', '164909', '164917', '164921', '164949', '164975', '164981', '165', '1650', '165003', '165059', '165069', '165087', '1651', '165101', '165103', '165105', '165141', '165185', '1652', '165217', '165219', '165239', '1653', '165327', '165337', '165343', '165347', '165349', '165351', '165353', '165395', '1654', '165421', '165441', '165483', '165487', '165491', '165493', '1655', '165503', '165527', '165539', '165549', '165551', '165555', '165569', '1656', '165603', '165639', '165641', '165669', '165673', '165699', '1657', '165723', '1658', '165869', '165885', '1659', '165927', '165933', '165937', '165947', '165969', '166', '1660', '166013', '166024', '166074', '1661', '166126', '166140', '166149', '166167', '166183', '1662', '166221', '166233', '166235', '166291', '166295', '1663', '166369', '166401', '166455', '166461', '166465', '166486', '166492', '1665', '166526', '166528', '166532', '166534', '166558', '166562', '166568', '166572', '166635', '166643', '166655', '1667', '166703', '166705', '166711', '166761', '166763', '166765', '166777', '166788', '1668', '166802', '166862', '166894', '1669', '166918', '166938', '166946', '166958', '1670', '167018', '167036', '167038', '167040', '167064', '1671', '167112', '167126', '167136', '167172', '167186', '1672', '167234', '167248', '1673', '167334', '167352', '167366', '167370', '167380', '167392', '1674', '167440', '167448', '167494', '167544', '167546', '167564', '167570', '1676', '167634', '167640', '167654', '167696', '167698', '1677', '167738', '167746', '167792', '1678', '167818', '167832', '167838', '167840', '167860', '167870', '1679', '167984', '168', '1680', '1681', '168122', '168130', '168168', '168174', '1682', '168226', '168240', '168248', '168250', '168252', '168254', '168266', '168274', '168286', '168288', '1683', '168326', '168328', '168330', '168344', '168348', '168352', '168366', '1684', '168418', '168492', '168498', '1685', '168528', '1686', '168608', '168610', '168612', '168650', '168660', '1687', '168712', '168726', '168738', '168778', '1688', '168806', '1689', '168910', '168962', '169', '1690', '169020', '169022', '169166', '169170', '169178', '169180', '169190', '169192', '1692', '169218', '169252', '169256', '169278', '169288', '1693', '169302', '169390', '1694', '169406', '169480', '1695', '169506', '1696', '169656', '169666', '169670', '169692', '169694', '169750', '169756', '169760', '169764', '169792', '169814', '169854', '169864', '1699', '169900', '169906', '169948', '169954', '169982', '169984', '169992', '17', '170', '170024', '1701', '170129', '170151', '1702', '170213', '170229', '170231', '170241', '170253', '170279', '1703', '170317', '170349', '170355', '170357', '170359', '170393', '170399', '1704', '170401', '170403', '170405', '170425', '170461', '170477', '170489', '170509', '170555', '170627', '170629', '170635', '170645', '170697', '1707', '170705', '170707', '170729', '170745', '170751', '170777', '170787', '170799', '170813', '170817', '170827', '170875', '170881', '170891', '170897', '170913', '170917', '170939', '170943', '170945', '170947', '170957', '170959', '171', '171007', '171011', '171013', '171023', '171031', '171095', '1711', '171113', '171117', '171133', '171141', '171157', '171177', '171209', '171211', '171225', '171227', '171233', '171253', '171263', '171265', '171285', '171287', '1713', '171345', '171371', '1714', '171435', '171439', '171443', '171491', '171495', '171497', '171501', '171505', '171581', '171583', '171591', '171599', '171601', '171603', '171611', '171647', '1717', '171715', '171717', '171727', '171729', '171749', '171757', '171759', '171763', '171765', '171843', '171869', '1719', '171937', '171955', '171957', '171959', '172', '1720', '172009', '172017', '172019', '172041', '172065', '172077', '1721', '1722', '172229', '172255', '172289', '172365', '172389', '172391', '172421', '172429', '172431', '172473', '1725', '172515', '172527', '172529', '172535', '172547', '172559', '172577', '172583', '1726', '172623', '172641', '172663', '172699', '1727', '172731', '172745', '172753', '172755', '172763', '172795', '172799', '1728', '172809', '172813', '172865', '172877', '172879', '172881', '172887', '172889', '1729', '172913', '173', '1730', '173007', '173079', '1731', '173137', '173145', '173151', '173153', '173161', '173195', '173197', '1732', '173203', '173205', '173207', '173209', '173291', '1733', '173315', '173321', '173369', '1734', '173429', '173439', '173443', '173447', '173463', '1735', '173515', '173517', '173519', '173521', '173523', '173525', '173527', '173529', '173531', '173533', '173535', '173537', '173539', '173541', '173543', '173545', '173547', '173549', '173551', '173553', '173555', '173557', '173559', '173561', '173563', '173565', '173567', '173569', '173571', '173573', '173575', '173577', '173579', '173581', '173583', '173585', '173587', '173589', '173591', '173593', '173595', '173597', '173599', '173601', '173603', '173605', '173607', '173609', '173611', '173613', '173615', '173617', '173619', '173621', '173623', '173625', '173627', '173629', '173631', '173633', '173635', '173637', '173639', '173641', '173643', '173645', '173647', '173649', '173651', '173653', '173655', '173657', '173659', '173661', '173663', '173665', '173667', '173669', '173671', '173673', '173675', '173677', '173679', '173681', '173683', '173685', '173687', '173689', '173691', '173693', '173695', '173697', '173699', '173701', '173703', '173707', '173711', '173725', '173727', '173729', '173731', '173733', '173735', '173737', '173739', '173751', '173781', '173813', '173817', '173887', '1739', '173913', '173925', '173939', '173941', '173955', '173963', '174', '174055', '174057', '174141', '174181', '1742', '174371', '174373', '174395', '1744', '174473', '174499', '174503', '174531', '174533', '174551', '174585', '1746', '174613', '174615', '174645', '174679', '1747', '174703', '174727', '1748', '174807', '174815', '174829', '174859', '174893', '1749', '174901', '174905', '174909', '174959', '175', '1750', '175141', '175143', '175151', '175155', '175169', '175197', '175199', '1752', '175229', '175243', '175277', '175281', '175293', '1753', '175303', '175311', '175361', '175363', '175367', '1754', '175401', '175411', '175475', '175485', '1755', '175507', '175515', '175569', '175579', '175585', '1756', '175621', '175655', '175659', '175661', '175667', '175669', '175673', '1757', '175753', '175755', '175813', '1759', '175947', '175981', '176', '1760', '176075', '176101', '176103', '176105', '176127', '176157', '176175', '176185', '1762', '176211', '176219', '176271', '176289', '176341', '176349', '176355', '176371', '176389', '176391', '176397', '176403', '176419', '176423', '176459', '176487', '176521', '176523', '176533', '176551', '176567', '176579', '176601', '176603', '176615', '176619', '176681', '176751', '176763', '176773', '176775', '176779', '176801', '176855', '176887', '1769', '176919', '176921', '176923', '176927', '176929', '176933', '176935', '176937', '176939', '176953', '176965', '177', '1770', '177041', '177069', '177071', '177095', '1771', '177115', '177123', '1772', '177211', '177213', '177225', '177231', '177237', '177239', '177241', '177243', '177287', '1773', '177331', '177337', '177339', '177353', '177359', '177379', '177497', '177501', '177513', '177545', '177561', '177573', '177587', '177593', '177607', '177611', '177615', '177617', '177651', '177689', '1777', '177737', '177763', '177765', '177769', '177771', '177787', '177867', '177871', '177883', '1779', '177939', '177941', '177951', '178', '1780', '178041', '178061', '178079', '178081', '178083', '178123', '178271', '1783', '178319', '178335', '178339', '178341', '178355', '1784', '178415', '178419', '178421', '178447', '1785', '178521', '178523', '178551', '178605', '178615', '178667', '178673', '178679', '178685', '178715', '1788', '178827', '178839', '178885', '178907', '178933', '178961', '178981', '179', '179005', '179081', '179085', '179099', '1791', '179119', '179133', '179135', '179155', '179157', '179163', '179173', '179185', '179187', '179189', '179191', '1792', '179221', '179247', '179251', '179275', '179287', '179295', '179297', '179309', '179325', '179331', '179333', '179357', '179369', '179371', '179379', '179397', '1794', '179401', '179409', '179429', '179491', '179605', '179647', '179689', '1797', '179709', '179745', '179747', '179749', '179761', '179767', '179779', '1798', '179815', '179817', '179819', '179823', '179863', '179881', '1799', '179925', '179933', '179941', '179953', '179977', '179983', '18', '180', '180031', '180037', '180043', '180045', '180081', '180095', '1801', '180129', '180149', '180211', '180231', '180249', '180261', '180263', '180265', '180297', '180325', '180367', '1804', '180465', '180471', '180497', '1805', '180539', '180555', '180587', '1806', '180639', '1807', '180737', '1809', '180985', '180987', '180989', '181', '1810', '181041', '1811', '1812', '181251', '181267', '181275', '181315', '181357', '181361', '1814', '181405', '181449', '181453', '181497', '181529', '181593', '1816', '181601', '181671', '181673', '181679', '181689', '181695', '181697', '181701', '181751', '182', '1820', '1821', '1822', '182353', '1824', '182429', '182433', '182443', '182445', '182467', '182479', '1825', '182547', '182557', '182559', '1826', '182637', '182679', '1827', '182715', '182723', '182735', '182775', '182777', '182783', '182819', '182823', '182825', '182835', '1829', '182909', '183', '183011', '183077', '183087', '1831', '183139', '183151', '183155', '183247', '183277', '183295', '1833', '183309', '183323', '183345', '183353', '1834', '183409', '183419', '183421', '183423', '183437', '183445', '183461', '183497', '1835', '183589', '183597', '1836', '183605', '183607', '183611', '183613', '183619', '183635', '183641', '183661', '183699', '1837', '183701', '183705', '183803', '183805', '183833', '183837', '183843', '183855', '183869', '183897', '1839', '183909', '184', '1840', '184015', '184017', '184023', '184069', '184089', '1841', '184119', '184129', '184157', '184165', '184189', '184213', '184223', '184231', '184233', '184239', '184253', '184257', '184275', '184353', '184383', '184399', '1844', '184445', '184471', '184473', '1845', '1846', '184619', '184623', '184641', '184649', '184685', '184713', '184721', '184797', '1848', '184807', '184865', '184867', '184869', '1849', '184925', '184931', '184987', '184997', '184999', '185', '185001', '185025', '185029', '185031', '185033', '185109', '185171', '185215', '185295', '185299', '185313', '185319', '185385', '1854', '185425', '185431', '185435', '185437', '185443', '185473', '185475', '185481', '1855', '185569', '185571', '185575', '185585', '185597', '1856', '185601', '1857', '1858', '185841', '185851', '185869', '1859', '185927', '185973', '185975', '185977', '185979', '185981', '185987', '185989', '185997', '186', '1860', '186003', '186005', '186173', '186197', '1862', '186213', '186249', '186251', '186263', '186271', '186295', '1863', '186311', '186331', '186365', '186367', '186381', '186393', '1864', '1865', '186563', '186573', '186585', '186587', '1866', '186631', '1867', '186761', '186777', '186785', '186863', '1869', '186901', '186905', '186919', '186935', '186947', '186953', '186983', '186985', '187', '1870', '187001', '187023', '187031', '187051', '187067', '187069', '187097', '187123', '187145', '187167', '187179', '187215', '187231', '1873', '187309', '1874', '187495', '1875', '187501', '187505', '187523', '187531', '187541', '187557', '187561', '187573', '187575', '187577', '187593', '187595', '1876', '187601', '187611', '187613', '187713', '187717', '187719', '187723', '187751', '1878', '187815', '187847', '187979', '188', '188043', '1881', '188121', '188125', '188175', '188187', '188189', '1882', '188207', '188247', '188253', '188271', '188283', '1883', '188301', '188303', '188305', '188307', '188309', '188315', '188317', '188333', '188343', '188383', '1884', '188477', '1885', '188533', '188541', '1886', '188623', '188625', '188679', '188697', '1887', '188731', '188749', '188751', '188753', '188757', '188773', '188797', '1888', '188829', '188833', '188859', '1889', '188909', '188941', '189', '189033', '189041', '189061', '189065', '1891', '189103', '189159', '189161', '189177', '189195', '1892', '189203', '189205', '189241', '1893', '189301', '189329', '189331', '189333', '189363', '189381', '189399', '1894', '189461', '189475', '1895', '189567', '189577', '1896', '1897', '189701', '189713', '189745', '189781', '189783', '189805', '189819', '189873', '189885', '189893', '1899', '19', '190', '1900', '190029', '190077', '190083', '190089', '190097', '1901', '190183', '190187', '1902', '190287', '190289', '1903', '190309', '190367', '190395', '190397', '190399', '1904', '190401', '190545', '190551', '190555', '1906', '190623', '190629', '1907', '190705', '190741', '190745', '190765', '190813', '190823', '1909', '190937', '190939', '190945', '190947', '190949', '190963', '190997', '191', '1910', '1911', '191113', '1912', '1913', '191351', '191359', '191367', '1914', '191439', '191441', '191459', '191469', '191479', '191483', '191489', '191495', '191497', '1915', '1916', '191687', '1917', '191739', '191799', '1918', '191811', '191867', '191869', '191873', '1919', '191925', '191929', '191997', '192', '1920', '192001', '192045', '192055', '192081', '1921', '192123', '192199', '1922', '192203', '192205', '192207', '192209', '192211', '192245', '192251', '192255', '192275', '192283', '192285', '192293', '1923', '192307', '192319', '192327', '192357', '192379', '192381', '192383', '192385', '192389', '192393', '1924', '1925', '192537', '192551', '192559', '192561', '192565', '192579', '1926', '192639', '192649', '192677', '192693', '192697', '1927', '192761', '192777', '192787', '1928', '192803', '192849', '1929', '192997', '192999', '193', '1930', '193041', '193065', '193073', '1931', '193119', '193147', '193175', '1932', '193221', '193243', '193253', '193257', '193291', '193295', '1933', '1934', '193445', '193449', '193451', '193477', '1935', '193507', '193589', '193599', '1936', '193637', '193647', '193697', '1937', '193749', '193759', '193771', '1938', '193843', '193851', '193874', '193898', '1939', '193900', '193906', '193916', '193942', '193944', '193950', '193952', '193954', '193956', '193958', '193960', '193968', '194', '1940', '194004', '194006', '194016', '194026', '194052', '194058', '194074', '194098', '1941', '194170', '1942', '194200', '1943', '194312', '194348', '194396', '1944', '194400', '194448', '194450', '1945', '194556', '1946', '194620', '194628', '194636', '194638', '194664', '194680', '194692', '194696', '1947', '194722', '194728', '194729', '194738', '194762', '194783', '194787', '1948', '194819', '194861', '1949', '194927', '194947', '194951', '194959', '194967', '194969', '195', '1950', '195001', '195045', '195067', '195095', '1951', '195159', '195161', '195163', '195165', '195167', '195175', '1952', '195237', '195255', '195257', '195261', '195295', '1953', '195303', '195305', '195307', '195315', '195327', '195349', '1954', '195423', '195497', '1955', '195507', '195509', '195511', '195513', '195515', '195517', '195519', '195521', '195533', '195551', '195553', '1956', '195639', '195671', '195681', '1957', '195713', '195717', '195719', '195733', '195745', '195777', '195779', '195781', '195783', '195785', '1958', '195823', '195847', '195849', '195881', '1959', '195921', '195927', '195977', '195985', '196', '1960', '196021', '196067', '196073', '196081', '196085', '1961', '196117', '196191', '1962', '196223', '196251', '196267', '1963', '196343', '1964', '196407', '196417', '196487', '196491', '1965', '196567', '1966', '196611', '196681', '1967', '196707', '1968', '196887', '196889', '196891', '196895', '1969', '196937', '196997', '197', '1970', '197039', '197079', '1971', '197109', '197123', '197175', '197177', '197199', '1972', '197201', '197203', '197207', '197211', '197225', '1973', '197343', '1974', '197455', '197491', '1975', '197529', '197537', '1976', '197611', '197617', '197651', '197663', '197689', '197691', '197697', '1977', '197707', '197709', '197711', '197715', '1978', '197875', '197877', '197879', '197881', '197883', '197889', '1979', '197909', '198', '1980', '198099', '1981', '198101', '198107', '198111', '198145', '198147', '198153', '198157', '198185', '1982', '198227', '198265', '1983', '1984', '198499', '1985', '198519', '1986', '198611', '198673', '198687', '198691', '198693', '198695', '198697', '1987', '198703', '198731', '198781', '1988', '198857', '1989', '199', '1990', '199073', '1991', '1992', '199223', '199237', '199265', '199269', '1993', '199307', '199311', '199333', '1994', '199412', '199430', '199436', '199476', '1995', '199538', '199562', '1996', '1997', '199772', '1998', '199830', '1999', '199910', '199960', '2', '20', '200', '2000', '200008', '200038', '200054', '2001', '200110', '2002', '200200', '200222', '200254', '200256', '200290', '2003', '200306', '200322', '200326', '200332', '200354', '2004', '200448', '200486', '2005', '200530', '200540', '2006', '200614', '200618', '200626', '200630', '200638', '200678', '2007', '200768', '2008', '200814', '200818', '200820', '200822', '200824', '200838', '200842', '2009', '200938', '200982', '201', '2010', '201038', '2011', '201194', '2012', '201200', '201242', '201270', '2013', '201304', '201314', '201340', '201348', '201368', '2014', '201436', '201444', '201476', '2015', '201586', '201588', '201594', '2016', '201646', '201662', '201664', '2017', '201729', '201749', '201767', '201773', '2018', '201811', '2019', '201937', '201951', '202', '2020', '202015', '202017', '202051', '202093', '2021', '202101', '202103', '202155', '202157', '202159', '202161', '202191', '2022', '202237', '202263', '202265', '2023', '202335', '202357', '202363', '202393', '2024', '202421', '202423', '202429', '202439', '202495', '2025', '202519', '202575', '202599', '2026', '2027', '202749', '202759', '2028', '2029', '202934', '203', '203010', '203022', '203048', '203066', '2031', '203128', '2032', '203208', '203218', '203222', '203244', '203278', '2033', '203322', '203375', '2034', '2035', '203503', '203513', '203519', '203537', '203593', '2036', '203649', '203683', '203697', '2037', '203723', '203749', '203751', '203763', '203765', '203767', '203769', '2038', '203881', '203950', '203974', '204', '2040', '204068', '2041', '204102', '204132', '204188', '204198', '2042', '204246', '204268', '204294', '2043', '204304', '204318', '204342', '204352', '204394', '2044', '2045', '204504', '204542', '204580', '2046', '204626', '204690', '204692', '204698', '2047', '204702', '204704', '204780', '2048', '204878', '2049', '204980', '205', '2050', '205054', '205066', '205072', '205074', '205076', '2051', '205106', '205126', '205156', '205160', '2052', '205275', '205279', '205287', '205291', '205297', '2053', '205303', '205383', '205397', '2054', '205413', '205419', '205421', '205425', '205435', '205499', '205509', '205557', '205575', '205583', '2056', '205661', '2057', '205799', '2058', '2059', '205945', '205967', '206', '2060', '206024', '206068', '206135', '2062', '206208', '206272', '206293', '2063', '206329', '206385', '2064', '206409', '206435', '206499', '2065', '206523', '2066', '2067', '206700', '206714', '206727', '206777', '2068', '206805', '206845', '206861', '206899', '2069', '206949', '207', '2070', '2071', '207111', '2072', '207203', '207213', '2073', '207309', '207311', '207367', '2074', '207405', '2075', '2076', '207642', '2077', '2078', '207830', '207890', '2079', '208', '2080', '208002', '208080', '2081', '2082', '2083', '2084', '2085', '2086', '2087', '208737', '208793', '2088', '2089', '208939', '209', '2090', '2091', '2093', '2094', '2095', '2096', '2097', '2098', '2099', '21', '210', '2100', '2101', '2102', '2103', '2104', '2105', '2106', '2107', '2108', '2109', '211', '2110', '2111', '2112', '2113', '2114', '2115', '2116', '2117', '2118', '2119', '212', '2120', '2121', '2122', '2123', '2124', '2125', '2126', '2127', '2129', '213', '2130', '2131', '2132', '2133', '2134', '2135', '2136', '2137', '2138', '2139', '214', '2140', '2141', '2142', '2143', '2144', '2145', '2146', '2147', '2148', '2149', '215', '2150', '2151', '2152', '2153', '2154', '2155', '2156', '2157', '2158', '2159', '216', '2160', '2161', '2162', '2163', '2164', '2165', '2166', '2167', '2168', '2169', '217', '2170', '2171', '2172', '2173', '2174', '2175', '2176', '2177', '2178', '2179', '218', '2180', '2181', '2182', '2183', '2184', '2185', '2186', '2187', '2188', '2189', '219', '2190', '2191', '2192', '2193', '2194', '2195', '2196', '2197', '2198', '2199', '22', '220', '2200', '2201', '2202', '2203', '2204', '2205', '2206', '2207', '2208', '2210', '2211', '2212', '2216', '222', '2227', '223', '2231', '2232', '2233', '2234', '2235', '2236', '2237', '2238', '2239', '224', '2240', '2241', '2242', '2243', '2244', '2245', '2246', '2247', '2248', '2249', '225', '2250', '2252', '2253', '2255', '2256', '2257', '2259', '2261', '2262', '2263', '2264', '2265', '2266', '2267', '2268', '2269', '227', '2271', '2272', '2273', '2274', '2275', '2276', '2277', '2278', '2279', '228', '2280', '2281', '2282', '2283', '2284', '2285', '2286', '2287', '2288', '2289', '229', '2290', '2291', '2292', '2293', '2294', '2295', '2296', '2297', '2298', '2299', '23', '230', '2300', '2301', '2302', '2303', '2304', '2305', '2306', '2307', '2309', '231', '2310', '2311', '2312', '2313', '2314', '2315', '2316', '2317', '2318', '2319', '232', '2320', '2321', '2322', '2323', '2324', '2325', '2326', '2327', '2328', '2329', '233', '2330', '2331', '2332', '2333', '2334', '2335', '2336', '2337', '2338', '2339', '234', '2340', '2341', '2342', '2343', '2344', '2345', '2346', '2347', '2348', '2349', '235', '2350', '2351', '2352', '2353', '2354', '2355', '2356', '2357', '2358', '2359', '236', '2360', '2361', '2362', '2363', '2364', '2365', '2366', '2367', '2368', '2369', '237', '2370', '2371', '2372', '2373', '2374', '2375', '2376', '2377', '2378', '2379', '238', '2380', '2381', '2382', '2383', '2384', '2385', '2386', '2387', '2388', '2389', '239', '2390', '2391', '2392', '2393', '2394', '2395', '2396', '2397', '2398', '2399', '24', '240', '2400', '2401', '2402', '2403', '2404', '2405', '2406', '2407', '2408', '2409', '241', '2410', '2411', '2412', '2413', '2414', '2415', '2416', '2417', '2418', '2419', '242', '2420', '2421', '2422', '2423', '2424', '2425', '2427', '2428', '2429', '243', '2430', '2431', '2432', '2433', '2434', '2435', '2436', '2437', '2439', '244', '2440', '2441', '2442', '2443', '2444', '2445', '2446', '2447', '2448', '2449', '245', '2450', '2451', '2452', '2453', '2454', '2455', '2456', '2457', '2458', '2459', '246', '2460', '2461', '2462', '2463', '2464', '2465', '2466', '2467', '2468', '2469', '247', '2470', '2471', '2472', '2473', '2474', '2475', '2476', '2477', '2478', '2479', '248', '2480', '2481', '2482', '2483', '2484', '2485', '2486', '2487', '2488', '2489', '249', '2490', '2491', '2492', '2493', '2494', '2495', '2496', '2497', '2498', '2499', '25', '250', '2500', '2501', '2502', '2503', '2504', '2505', '2506', '2507', '2508', '2509', '251', '2510', '2511', '2512', '2513', '2514', '2515', '2516', '2517', '2518', '2519', '252', '2520', '2521', '2522', '2523', '2524', '2525', '2526', '2527', '2528', '2529', '253', '2530', '2531', '2532', '2533', '2534', '2535', '2536', '2537', '2538', '2539', '254', '2540', '2541', '2542', '2543', '2544', '2545', '2546', '2547', '2548', '2549', '255', '2550', '2551', '2552', '2553', '2554', '2555', '2556', '2557', '2558', '2559', '256', '2560', '2561', '2562', '2563', '2564', '2565', '2566', '2567', '2568', '2569', '257', '2570', '2571', '2572', '2573', '25736', '25738', '2574', '25741', '25742', '25746', '25748', '2575', '25750', '25751', '25752', '25753', '25755', '25759', '2576', '25763', '25764', '25767', '25769', '2577', '25771', '25773', '25774', '25777', '25778', '2578', '25782', '25785', '25788', '25789', '2579', '25792', '25793', '25795', '25797', '258', '2580', '25805', '25806', '25807', '25808', '2581', '25812', '25818', '2582', '25820', '25826', '25827', '25828', '2583', '25830', '25832', '25833', '25834', '25835', '25839', '2584', '25840', '25841', '25842', '2585', '25850', '25852', '25854', '25855', '25856', '25859', '2586', '25866', '25868', '2587', '25870', '2588', '25886', '2589', '25891', '25893', '25898', '259', '2590', '25900', '25901', '25905', '25906', '2591', '25911', '25914', '25916', '25918', '2592', '25920', '25923', '25927', '25929', '2593', '25930', '25931', '25937', '25938', '2594', '25940', '25941', '25943', '25944', '25946', '25947', '2595', '25954', '25956', '25959', '2596', '25962', '25963', '2597', '25972', '25977', '2598', '2599', '25990', '25993', '25995', '25996', '25999', '26', '260', '2600', '26003', '26007', '26008', '26009', '26010', '26012', '26013', '2602', '26025', '26034', '2604', '26048', '2605', '26051', '26052', '26055', '2606', '26064', '26066', '2607', '26073', '26074', '26078', '26079', '26082', '26083', '26084', '26085', '2609', '26090', '26094', '26095', '26099', '261', '2610', '26101', '26108', '2611', '26111', '26113', '26116', '2612', '26122', '26125', '2613', '26131', '26133', '26139', '2614', '26147', '26148', '2615', '26150', '26151', '26152', '26155', '26156', '26157', '26158', '26159', '2616', '26163', '2617', '26170', '26171', '26172', '2618', '26181', '26183', '26184', '26188', '26191', '26198', '262', '2620', '26203', '26204', '26208', '2621', '2622', '26222', '26226', '2623', '26231', '26237', '2624', '26240', '26241', '26242', '26246', '26249', '2625', '26252', '26257', '26258', '2626', '26268', '26269', '26270', '2628', '26280', '26283', '26285', '26288', '26289', '2629', '26294', '26299', '263', '2630', '26302', '26306', '26307', '26313', '26314', '26318', '2632', '26322', '26324', '26325', '26326', '2633', '26333', '26336', '26338', '26339', '2634', '26340', '26344', '26347', '26349', '2635', '26350', '26359', '26366', '2637', '26375', '26379', '2638', '26380', '26386', '2639', '26391', '26393', '26394', '26395', '26398', '26399', '264', '2640', '26400', '2641', '26413', '26417', '26418', '2642', '26422', '26425', '2643', '26431', '2644', '2646', '26462', '26463', '26464', '26465', '26467', '2647', '26471', '26472', '26476', '26479', '2648', '26483', '26485', '26487', '26488', '2649', '26491', '26492', '26493', '26495', '26497', '265', '2650', '26504', '26509', '2651', '26513', '2652', '26524', '26527', '2653', '2654', '26540', '26544', '26547', '2655', '26550', '26554', '26555', '26558', '2656', '26561', '26562', '26564', '26565', '26566', '2657', '26578', '2658', '26581', '26585', '26587', '2659', '26593', '26599', '266', '2660', '26602', '26603', '26606', '2661', '2662', '26622', '26629', '26630', '26631', '2664', '2665', '2666', '26662', '26663', '2667', '26676', '2668', '26680', '26681', '26684', '26686', '26688', '2669', '26691', '26694', '26696', '267', '2670', '26700', '26702', '26704', '2671', '26710', '26712', '26713', '26717', '26719', '2672', '26720', '26729', '26732', '2674', '26745', '26746', '26750', '26757', '26758', '2676', '26760', '26762', '2677', '26770', '26776', '26778', '2678', '26782', '26796', '26797', '268', '2680', '26802', '2681', '26812', '26818', '26819', '2682', '26828', '2683', '26834', '26840', '26842', '2686', '26865', '2687', '26870', '2688', '2689', '269', '2690', '26903', '2691', '26915', '2692', '2693', '26939', '2694', '26947', '26949', '2695', '2696', '26964', '26965', '2697', '26974', '26975', '2699', '27', '270', '2700', '27003', '27005', '2701', '2702', '27020', '27022', '27027', '2703', '27032', '27033', '2704', '2705', '2706', '27067', '2707', '27073', '2708', '2709', '271', '2710', '27109', '2711', '2712', '2713', '27134', '2714', '2715', '27152', '27156', '2716', '2717', '27170', '27178', '2718', '27180', '27186', '2719', '27192', '27193', '272', '2720', '2721', '27216', '2722', '27221', '2723', '27238', '2724', '27246', '2725', '27255', '2726', '27266', '2727', '27271', '27276', '2728', '2729', '27298', '273', '2730', '27304', '27305', '27309', '2731', '27315', '27317', '2732', '27322', '27326', '27329', '2733', '27332', '27334', '27338', '2734', '2735', '27351', '2736', '27362', '27366', '27368', '27369', '27373', '27376', '2738', '2739', '27391', '27392', '27397', '274', '2740', '27402', '27408', '2741', '27416', '2742', '27431', '27432', '27434', '2744', '27441', '2745', '27450', '27455', '27456', '2746', '2747', '27473', '27474', '27478', '2748', '27482', '27484', '27485', '27488', '2749', '27491', '275', '2750', '27509', '2751', '27515', '27518', '2752', '27523', '2753', '27537', '27550', '27555', '2756', '27563', '27564', '2757', '27571', '2758', '27584', '2759', '27592', '276', '27604', '27608', '2761', '27618', '2762', '27627', '2763', '27636', '2764', '27640', '27641', '27643', '27647', '27648', '2765', '2766', '27660', '27664', '2767', '27674', '2768', '27685', '27689', '2769', '27699', '277', '2770', '27700', '27704', '27706', '2771', '27716', '27717', '27719', '2772', '27721', '27722', '27724', '27727', '27728', '27731', '2774', '27740', '27741', '27746', '2775', '27751', '27765', '27768', '27772', '27773', '27776', '27778', '2778', '27783', '27784', '27787', '27788', '2779', '27790', '27792', '27793', '27797', '27798', '278', '2780', '27800', '27801', '27802', '27803', '27808', '2781', '27811', '27815', '27816', '2782', '27820', '27821', '27822', '27826', '27827', '27828', '2783', '27831', '27833', '27834', '27837', '27838', '27839', '2784', '27841', '27843', '27846', '2785', '27850', '27851', '27856', '27857', '2786', '27864', '27865', '27866', '27869', '2787', '27871', '27873', '27875', '27876', '27878', '27879', '2788', '27882', '27884', '27888', '2789', '27891', '27899', '279', '2790', '27904', '27905', '2791', '27912', '2792', '27922', '2793', '2794', '2795', '2796', '2797', '2798', '2799', '28', '280', '2800', '2801', '2802', '2803', '2804', '2805', '2806', '2807', '2808', '2809', '281', '2810', '2812', '2814', '2815', '2816', '2817', '2818', '2819', '282', '2820', '2822', '2826', '2827', '2828', '2829', '283', '2830', '2833', '2834', '2835', '2836', '2837', '2839', '2840', '2841', '2842', '2843', '2844', '2846', '2847', '2848', '2849', '285', '2850', '2851', '2852', '2853', '2854', '2855', '2856', '2857', '2858', '2859', '286', '2860', '2861', '2862', '2863', '2864', '2865', '2866', '2867', '2868', '287', '2870', '2871', '2872', '2873', '2874', '2875', '2876', '2877', '2878', '2879', '288', '2880', '2881', '2882', '2883', '2884', '2885', '2886', '2887', '2888', '2889', '289', '2890', '2891', '2892', '2893', '2894', '2896', '2897', '2898', '2899', '29', '290', '2900', '2901', '2902', '2903', '2904', '2905', '2906', '2907', '2908', '2910', '2911', '2912', '2913', '2914', '2915', '2916', '2917', '2918', '2919', '292', '2920', '2921', '2922', '2923', '2924', '2925', '2926', '2927', '2928', '2929', '293', '2931', '2932', '2933', '2935', '2936', '2937', '2938', '2939', '294', '2940', '2941', '2942', '2943', '2944', '2945', '2946', '2947', '2948', '2949', '295', '2950', '2951', '2952', '2953', '2956', '2958', '2959', '296', '2961', '2962', '2963', '2964', '2965', '2966', '2967', '2968', '2969', '297', '2970', '2971', '2972', '2973', '2974', '2975', '2976', '2977', '2978', '2979', '298', '2982', '2983', '2984', '2985', '2986', '2987', '2988', '2989', '299', '2990', '2991', '2992', '2993', '2994', '2995', '2996', '2997', '2998', '2999', '3', '30', '300', '3000', '3002', '3003', '3004', '3005', '3006', '3007', '3008', '301', '3010', '3011', '3012', '3013', '3014', '3015', '3016', '3017', '3018', '3019', '302', '3020', '3021', '3022', '3024', '3026', '3028', '3029', '303', '3030', '3031', '3032', '3033', '3034', '3035', '3036', '3037', '3038', '3039', '304', '3040', '3041', '3042', '3043', '3044', '3045', '3046', '3047', '3048', '3049', '305', '3051', '3052', '3053', '3054', '3055', '3056', '306', '3060', '3061', '3062', '3063', '3064', '30659', '3066', '3067', '3068', '3069', '307', '3070', '30701', '30707', '3071', '3072', '3073', '3074', '30742', '30745', '30749', '3075', '3076', '3077', '3078', '3079', '30791', '30793', '30798', '308', '30803', '3081', '30810', '30812', '30816', '30818', '3082', '30820', '30822', '30825', '3083', '30846', '30848', '3085', '30850', '30854', '3086', '30867', '3087', '3088', '30883', '3089', '30890', '30892', '30894', '30898', '309', '3090', '3091', '3093', '3094', '3095', '3096', '3097', '3098', '3099', '30996', '31', '310', '3100', '31000', '3101', '3102', '31026', '3103', '31030', '31035', '3104', '31042', '3105', '31053', '3106', '3107', '31079', '3108', '3109', '311', '3110', '31101', '31104', '31107', '31109', '3111', '31114', '31116', '3112', '31123', '3113', '3114', '31148', '3115', '31150', '31156', '31158', '3116', '31160', '31162', '3117', '3118', '31184', '3119', '31193', '312', '3120', '3121', '3122', '31221', '31223', '31225', '3124', '31247', '3125', '31251', '31255', '3126', '31260', '3127', '31270', '3128', '3129', '313', '3130', '31309', '3133', '31337', '3134', '31340', '31349', '3135', '31353', '31362', '31364', '31367', '31374', '3138', '3139', '314', '31408', '3141', '31410', '31413', '3142', '31420', '31422', '31424', '31427', '31429', '3143', '31431', '31433', '31435', '31437', '3144', '31445', '31447', '3145', '3146', '3147', '3148', '31485', '3149', '315', '3150', '31502', '3152', '31528', '3153', '3154', '31545', '31547', '3155', '31553', '3156', '3157', '3158', '31588', '3159', '31598', '316', '3160', '3161', '31617', '3162', '31628', '3163', '3165', '31658', '31660', '31664', '3167', '31672', '3168', '31685', '31689', '3169', '31694', '31696', '31698', '317', '31700', '31702', '3171', '31724', '3173', '31737', '3174', '3175', '3176', '3177', '31770', '3178', '31785', '3179', '318', '3180', '31804', '31807', '3181', '3182', '3183', '3184', '31847', '3185', '31854', '3186', '31867', '31878', '3188', '3189', '31894', '319', '3190', '31903', '3192', '31921', '31923', '31930', '31932', '31934', '3194', '31948', '31950', '31952', '31954', '31956', '3196', '3197', '31973', '3198', '31983', '3199', '31991', '32', '320', '3200', '3201', '32011', '32017', '32019', '32022', '32029', '3203', '32031', '3204', '3205', '32058', '3206', '3207', '32076', '32078', '3208', '32084', '321', '3210', '3211', '32116', '32124', '32128', '3213', '32139', '3214', '32149', '32153', '3216', '32160', '3217', '32170', '32174', '32179', '3218', '3219', '32196', '322', '32203', '3221', '32213', '3222', '32225', '3223', '32234', '3224', '3225', '32250', '3226', '32261', '32263', '32285', '32289', '32291', '32296', '32298', '3230', '32300', '32302', '3231', '32314', '32316', '3232', '32349', '3235', '32352', '32354', '3236', '32369', '32371', '3238', '32381', '32383', '32385', '32387', '3239', '324', '3240', '3241', '3243', '3244', '32442', '3245', '32452', '3246', '32460', '32464', '32469', '3247', '3248', '3249', '32493', '32497', '325', '3250', '32509', '3251', '32511', '3252', '3253', '3254', '3255', '3256', '32562', '3257', '3258', '32582', '32587', '32589', '3259', '32591', '32593', '32596', '32598', '326', '3260', '3261', '3262', '32627', '3263', '3264', '32646', '32649', '3265', '32657', '32659', '3266', '32666', '3267', '3268', '3269', '327', '3270', '3271', '3272', '32721', '32728', '3273', '3274', '32741', '3275', '3276', '32770', '32783', '32792', '32799', '328', '3280', '3281', '3282', '32825', '32834', '3284', '32840', '3285', '3286', '32862', '3287', '32875', '3289', '32892', '32898', '329', '32906', '3291', '32914', '3292', '3294', '32941', '32943', '3296', '32974', '3298', '3299', '330', '3300', '33004', '3301', '33019', '3302', '33021', '33036', '3304', '3305', '3306', '3307', '33072', '3308', '33081', '33085', '3309', '331', '3310', '3311', '33113', '3313', '33136', '33138', '33145', '33154', '33158', '3316', '33162', '33164', '33166', '3317', '33171', '3318', '3319', '332', '3320', '33237', '3324', '3325', '33251', '3326', '33264', '3327', '33270', '3328', '33288', '3329', '33294', '33296', '333', '3330', '3331', '33312', '33316', '3332', '3334', '33340', '33358', '3338', '3339', '334', '3340', '3341', '33415', '3342', '33421', '33435', '33437', '3344', '3345', '33451', '33454', '33463', '3347', '33480', '3349', '33493', '33495', '33499', '335', '3350', '3351', '33524', '33539', '3354', '3355', '33558', '33564', '33567', '3357', '3358', '33585', '3359', '33592', '336', '3360', '33603', '3361', '33615', '3362', '33621', '33629', '3363', '33639', '3364', '33644', '33646', '33649', '3365', '33660', '33669', '3367', '33672', '33677', '33679', '3368', '33681', '33683', '33688', '337', '3370', '33709', '3371', '3372', '33722', '33725', '3373', '3374', '3375', '33750', '33755', '33779', '3379', '33794', '338', '33801', '3381', '33815', '33817', '33819', '33823', '33826', '33830', '33834', '33836', '33838', '3384', '33847', '3385', '3386', '3387', '3388', '33880', '3389', '33893', '33896', '339', '3390', '33903', '33905', '3391', '33912', '3392', '3393', '3394', '3395', '3396', '33966', '3397', '3398', '3399', '34', '340', '3400', '3401', '3402', '3403', '34032', '34039', '3404', '34045', '34048', '3405', '34057', '3406', '34072', '3408', '3409', '341', '34111', '3412', '3414', '34143', '34148', '3415', '34150', '34153', '34162', '34164', '34170', '3418', '34198', '342', '3420', '3421', '3422', '3423', '34238', '3424', '3425', '3426', '3427', '34271', '3428', '3429', '34292', '343', '3430', '3431', '34319', '3432', '34321', '34323', '34326', '3433', '34332', '34334', '34336', '34338', '3434', '3435', '34359', '3436', '34375', '3438', '3439', '344', '3440', '34405', '3441', '3442', '34435', '34437', '3444', '3445', '3446', '34466', '34469', '3447', '3448', '34482', '345', '3450', '3451', '3452', '34520', '34523', '34528', '3453', '34530', '34532', '34534', '34536', '3454', '34540', '34542', '3455', '34552', '3456', '3457', '3458', '34583', '3459', '346', '3461', '3462', '34648', '3465', '3466', '3467', '3468', '3469', '347', '3470', '3471', '3472', '3474', '3475', '3476', '3477', '3478', '3479', '348', '3480', '3481', '34811', '3483', '3484', '3487', '3489', '349', '3490', '3491', '3492', '3494', '3496', '3497', '3498', '3499', '35', '350', '3500', '3501', '35015', '3502', '3503', '3504', '3505', '3506', '3507', '3508', '3509', '351', '3510', '3511', '3512', '3513', '3514', '3515', '3516', '3518', '3519', '352', '3520', '3521', '3524', '3525', '3526', '3527', '3528', '3529', '353', '3531', '3533', '3534', '35347', '3535', '3536', '3537', '3538', '3539', '354', '3543', '3544', '3545', '3546', '3547', '3548', '3549', '355', '3550', '3551', '3552', '3553', '3554', '3555', '3556', '3557', '3559', '356', '3562', '3563', '3564', '3565', '3566', '3567', '3569', '357', '3571', '3572', '3574', '3576', '3577', '3578', '3579', '358', '3580', '3581', '35826', '35836', '3584', '3585', '3587', '3588', '359', '3590', '3591', '3593', '3594', '3595', '35957', '3596', '3597', '3598', '3599', '36', '360', '3600', '3602', '3604', '3605', '3606', '3608', '36086', '361', '3612', '3613', '3614', '3615', '3616', '3617', '3618', '3619', '362', '3620', '3621', '3622', '3623', '3624', '3626', '3627', '36276', '3628', '36289', '3629', '363', '3632', '36326', '3633', '3634', '3635', '3636', '36363', '3637', '3638', '3639', '36397', '364', '3640', '36401', '3643', '3645', '3646', '36477', '3648', '3649', '365', '36509', '3651', '36513', '36517', '36519', '36525', '36527', '36529', '3653', '36531', '36533', '36535', '36537', '36539', '3654', '36545', '3655', '3656', '3658', '3659', '366', '3666', '3667', '3668', '3669', '367', '3670', '3671', '3672', '3673', '3674', '3675', '3676', '3677', '3678', '3679', '368', '3680', '3681', '3682', '3683', '3684', '3685', '36850', '3686', '3687', '3688', '3689', '369', '3690', '3691', '3692', '3693', '3694', '3695', '3696', '3697', '3698', '3699', '370', '3700', '3701', '3702', '3703', '3704', '3705', '3706', '3707', '3708', '3709', '371', '3710', '3712', '3713', '3714', '3715', '3716', '3717', '3718', '3719', '372', '3720', '3721', '3722', '3723', '3724', '37240', '3725', '3726', '3727', '37277', '3728', '37287', '3729', '373', '3730', '3731', '3733', '37335', '3734', '3735', '3736', '3737', '3738', '37380', '37382', '37384', '37386', '3739', '374', '3740', '3741', '3742', '3743', '3744', '3745', '3746', '3747', '37475', '37477', '3749', '37495', '375', '3751', '3752', '3753', '3754', '37545', '3755', '3756', '3757', '3758', '3759', '376', '3760', '3761', '3763', '3764', '3765', '3766', '3767', '3768', '3769', '377', '3770', '3771', '37720', '37727', '37729', '3773', '37731', '37733', '37736', '37739', '3774', '37741', '3775', '3776', '378', '3782', '3783', '37830', '3784', '37844', '3785', '37853', '37855', '37857', '3786', '3787', '3788', '3789', '379', '3790', '3791', '3792', '3793', '3794', '3795', '37955', '3796', '3797', '3798', '3799', '38', '380', '3801', '3802', '38038', '3804', '3805', '3806', '38061', '3807', '3808', '3809', '38095', '381', '3810', '3811', '3812', '3813', '3814', '38159', '3816', '38164', '3817', '38188', '3819', '38198', '382', '3820', '3821', '3822', '3823', '3824', '3825', '3826', '3827', '3829', '38294', '383', '3830', '38304', '3831', '3832', '38320', '3833', '3834', '3835', '3836', '3837', '38376', '3838', '38384', '38388', '3839', '384', '3840', '3841', '3843', '3844', '3845', '3846', '3847', '3848', '3849', '385', '3850', '3851', '3852', '38538', '3854', '3855', '3857', '3858', '3859', '386', '3861', '3862', '3863', '3864', '3865', '38656', '3866', '3867', '3868', '3869', '387', '3870', '3871', '3872', '3873', '3874', '3875', '3877', '3879', '38798', '388', '3880', '3881', '3882', '3883', '3884', '38843', '3885', '3886', '3887', '38886', '3889', '389', '3892', '3893', '3894', '3895', '3896', '3897', '3898', '3899', '38992', '38994', '39', '390', '3900', '3901', '3903', '3905', '3906', '3908', '3909', '391', '3910', '3911', '3912', '3913', '3914', '3915', '3916', '3917', '3918', '39183', '3919', '392', '3920', '3921', '3922', '3923', '39231', '39234', '3924', '3925', '3926', '3927', '3928', '3929', '39292', '393', '3930', '39307', '3931', '3932', '3933', '3936', '39364', '3937', '3938', '39381', '39394', '39398', '394', '3940', '39400', '39408', '3941', '39414', '39421', '39427', '3943', '39435', '3944', '39441', '39444', '39446', '39449', '3945', '3946', '3947', '3948', '39481', '3949', '3950', '3951', '3952', '39529', '3953', '3955', '3956', '3957', '3959', '3961', '3962', '3963', '3964', '3965', '39659', '3966', '3967', '3968', '3969', '397', '3970', '3971', '3972', '3973', '3974', '39740', '3975', '3976', '39768', '3977', '39777', '39779', '3978', '39786', '3979', '3980', '39801', '3981', '3982', '3983', '3984', '3985', '3986', '39869', '3987', '3988', '39886', '3989', '39896', '3990', '3991', '3992', '3993', '39934', '3994', '3996', '3997', '3998', '3999', '4', '40', '400', '4000', '4001', '40010', '4002', '4003', '4005', '4006', '4007', '4008', '4009', '4010', '4011', '4012', '4014', '40148', '4015', '4016', '4017', '4018', '4019', '402', '4020', '4021', '4022', '4023', '4024', '4025', '4026', '4027', '40275', '40278', '4028', '4029', '4030', '4031', '4032', '4033', '40339', '4034', '4035', '4036', '4037', '4039', '404', '4040', '4041', '40412', '40414', '4042', '4043', '4046', '4047', '4049', '405', '4051', '4052', '4053', '4054', '4055', '4056', '4057', '40574', '40581', '40583', '40591', '40597', '406', '4061', '40614', '4062', '40629', '4063', '4064', '4065', '4066', '4067', '4068', '4069', '407', '4070', '4072', '40723', '4073', '40732', '40738', '4074', '40755', '4077', '4079', '408', '4080', '4081', '40815', '40819', '4082', '40826', '4084', '4085', '40851', '4086', '4087', '40870', '40887', '4089', '409', '4090', '4091', '4092', '4093', '40946', '4095', '40952', '40955', '40959', '40962', '40966', '4097', '40973', '4098', '40988', '4099', '41', '410', '4100', '41014', '4102', '41025', '4103', '4104', '4105', '41058', '4106', '4108', '4109', '41094', '4110', '4111', '4113', '41136', '4116', '4117', '4118', '4119', '412', '4121', '41226', '4123', '4124', '4125', '4126', '4127', '4128', '41285', '4129', '413', '4130', '4132', '4133', '4135', '4138', '4139', '414', '4140', '4141', '41411', '4142', '4143', '4144', '4146', '4147', '4148', '4149', '415', '4151', '41527', '4153', '4154', '4155', '4156', '41566', '41569', '4157', '41571', '41573', '4158', '41585', '4159', '416', '4160', '4161', '41617', '4162', '41627', '4164', '4166', '4167', '4168', '4169', '41699', '417', '41712', '41716', '41721', '41724', '4173', '4174', '4175', '4176', '41769', '4177', '4178', '4179', '418', '4181', '41815', '41828', '4183', '41831', '4184', '4185', '4186', '41863', '4187', '4188', '4189', '419', '4190', '4191', '4192', '4193', '4194', '41941', '4195', '4197', '4198', '4199', '41997', '42', '420', '4200', '42002', '42004', '42007', '42009', '42011', '42013', '42015', '42018', '42021', '4203', '4204', '4205', '42053', '4206', '4207', '4208', '4209', '42094', '421', '4210', '4211', '4212', '4213', '4214', '4215', '42150', '4216', '42163', '4217', '4218', '4219', '42197', '422', '4220', '4221', '42213', '42217', '4222', '4223', '4224', '4225', '4226', '4227', '4228', '4229', '423', '4231', '4232', '4233', '4234', '4235', '4236', '4238', '4239', '424', '4240', '4241', '42418', '4244', '4245', '4246', '4247', '4248', '4249', '425', '4250', '4251', '42518', '4252', '4254', '4255', '42550', '42556', '42559', '4256', '4259', '426', '4262', '4263', '42632', '42634', '42636', '4265', '4266', '4267', '42681', '427', '4270', '4271', '42718', '4272', '42721', '42723', '42725', '42728', '4273', '42730', '42732', '42734', '42738', '4274', '4275', '4276', '42761', '4277', '4278', '42783', '4279', '428', '4280', '4281', '4282', '4283', '4285', '42856', '4286', '4287', '4288', '4289', '429', '4290', '4291', '4292', '4293', '4294', '42946', '42958', '4296', '4297', '4298', '42984', '4299', '43', '430', '4300', '43007', '43009', '4301', '4302', '43022', '4303', '43039', '4304', '4305', '4306', '4308', '431', '4310', '4311', '4312', '4313', '4314', '4316', '4317', '43177', '4318', '432', '4320', '4321', '4322', '4323', '4324', '4325', '4326', '43267', '4327', '4328', '4329', '433', '4331', '4332', '4333', '43333', '4334', '4335', '4336', '4337', '43376', '4338', '43389', '4339', '43396', '434', '4340', '4341', '43415', '43419', '4342', '4343', '4344', '43444', '4345', '43460', '4347', '43482', '4349', '43497', '435', '4350', '4351', '4353', '4354', '43549', '4355', '43552', '43556', '43558', '4356', '43560', '4357', '4359', '436', '4360', '4361', '4363', '43635', '43652', '4366', '4367', '43677', '43679', '4368', '43684', '4369', '437', '4370', '43708', '4371', '43710', '4372', '4373', '4374', '43744', '4375', '4376', '4377', '4378', '438', '4380', '43801', '4381', '4382', '4383', '43832', '43836', '4384', '4385', '4386', '43869', '4387', '43871', '4388', '4389', '43897', '4390', '43904', '43908', '4391', '43912', '43914', '43917', '43919', '4392', '43921', '43926', '43928', '4393', '43930', '43932', '43934', '43936', '4394', '4395', '4396', '43967', '4397', '43987', '4399', '44', '440', '4400', '44004', '4401', '4402', '44022', '4404', '44041', '4405', '44058', '4406', '4407', '4408', '4409', '441', '4410', '44100', '4411', '44115', '4412', '44124', '4414', '4415', '44153', '4416', '44168', '44187', '44189', '4419', '44191', '44193', '44195', '44197', '44199', '442', '4420', '44204', '4422', '44225', '44238', '4424', '4425', '4426', '4427', '4428', '4429', '443', '4430', '44317', '4432', '4433', '4434', '4435', '4436', '4437', '4438', '4439', '44397', '44399', '444', '4440', '4441', '4442', '4443', '4444', '4445', '4446', '4447', '4448', '4449', '445', '4450', '4451', '44511', '4452', '4453', '4454', '4455', '44555', '44568', '4458', '44587', '4459', '44595', '446', '4460', '4461', '44613', '4462', '44628', '4463', '44633', '4464', '4465', '44653', '44655', '44657', '4466', '44665', '4467', '44671', '44674', '4468', '44685', '4469', '44694', '447', '4470', '44709', '4471', '4472', '44729', '4473', '44731', '4474', '44759', '4476', '44761', '4477', '4478', '44788', '4479', '448', '4480', '4482', '44828', '4483', '4484', '44840', '44844', '44849', '4485', '44851', '4486', '44864', '4487', '4488', '44889', '4489', '449', '4492', '44929', '4493', '44937', '44943', '44947', '4495', '4496', '4497', '44972', '44974', '4498', '4499', '45', '450', '4500', '45000', '45003', '4501', '4502', '45028', '4504', '4505', '4506', '45062', '45074', '4508', '45081', '4509', '451', '4510', '45106', '4512', '4513', '4514', '4515', '4516', '4517', '45170', '45172', '45175', '4518', '45183', '45186', '4519', '45192', '45194', '452', '4520', '45208', '4521', '45210', '45221', '4523', '4524', '4525', '4526', '4527', '4528', '4529', '453', '4531', '4532', '4533', '45335', '4534', '4535', '45361', '4537', '45382', '454', '4541', '45412', '4543', '45431', '4544', '45440', '45442', '45447', '4545', '4546', '45499', '455', '45501', '45503', '45506', '4551', '45517', '4552', '45525', '45527', '4553', '4555', '4557', '4558', '456', '4560', '4561', '4562', '4563', '45635', '4564', '4565', '45656', '45658', '4566', '45662', '45666', '45668', '4567', '45672', '4568', '45691', '457', '4570', '4571', '4572', '45720', '45722', '45726', '45728', '4573', '45730', '45732', '4574', '4575', '4576', '4577', '4578', '458', '4580', '4581', '4582', '4583', '4584', '4585', '45852', '4586', '4587', '4588', '45880', '4589', '45891', '459', '4590', '4591', '45928', '45940', '4595', '45950', '45969', '4597', '4598', '4599', '46', '460', '4600', '4602', '4603', '46034', '4605', '46062', '4608', '4609', '46098', '461', '4610', '4611', '4612', '4613', '4614', '4616', '4617', '4618', '4619', '462', '4620', '4621', '4622', '4623', '4624', '4625', '46258', '4626', '4627', '4628', '4629', '463', '4630', '4632', '46322', '4633', '46335', '46337', '4634', '46347', '4635', '4636', '4637', '4638', '4639', '464', '4640', '4641', '4642', '4643', '4644', '4645', '4646', '4649', '465', '4650', '4652', '46530', '4654', '4655', '46559', '4657', '46572', '46574', '46578', '4658', '4659', '466', '4660', '46604', '4661', '4662', '46627', '4664', '4665', '46653', '46664', '4668', '4669', '467', '4670', '4672', '46723', '4673', '4674', '46748', '4675', '4676', '4677', '46772', '4678', '4679', '468', '4680', '46803', '4681', '4682', '4683', '4684', '4685', '46850', '46855', '4686', '46865', '4687', '4688', '469', '4690', '46919', '4692', '46948', '46957', '4696', '46965', '46967', '4697', '46970', '46972', '46974', '46976', '4699', '47', '470', '4700', '4701', '4703', '4704', '47044', '4705', '4706', '4708', '4709', '47099', '471', '4710', '4711', '4712', '47122', '47124', '4713', '4714', '47148', '4715', '47150', '47152', '4716', '4717', '4718', '4719', '472', '4720', '47200', '47202', '4721', '4722', '47221', '4723', '4725', '47254', '47261', '47264', '4727', '47274', '4728', '47287', '4729', '473', '4732', '4733', '4734', '4735', '4736', '4737', '4738', '47382', '47384', '4739', '47394', '474', '4740', '47404', '4741', '47423', '4743', '4744', '47446', '4745', '47452', '47465', '4748', '4749', '47491', '475', '4750', '47516', '47518', '4752', '47525', '4753', '4754', '4755', '4756', '4757', '4759', '476', '4760', '4761', '47610', '47629', '47640', '47644', '47646', '4765', '4766', '4767', '4768', '4769', '477', '4770', '4771', '47719', '4772', '47721', '47725', '47728', '47736', '4774', '4775', '4776', '4777', '47774', '47778', '4778', '4779', '47793', '478', '4780', '4781', '47810', '4782', '4783', '4784', '4785', '4786', '47868', '4787', '4788', '4789', '47894', '479', '4790', '47904', '4792', '4793', '47937', '4795', '47950', '47952', '4796', '47970', '47978', '4798', '47980', '4799', '47997', '47999', '48', '480', '4800', '4801', '4802', '4803', '48032', '4804', '48043', '48049', '48059', '4806', '48061', '4808', '48082', '4809', '481', '4811', '4812', '4813', '4814', '48142', '4815', '48159', '4816', '48161', '4819', '482', '4821', '4822', '4823', '4824', '4825', '4826', '48262', '48268', '4827', '4828', '4829', '483', '4830', '48301', '48304', '48319', '48322', '48326', '4833', '4834', '4835', '4836', '4837', '4838', '48385', '4839', '48394', '484', '4840', '48412', '48414', '48416', '4842', '4844', '4845', '48458', '4846', '4847', '4848', '4849', '485', '4850', '48501', '4851', '48516', '48518', '48520', '48522', '4855', '4856', '48560', '4857', '4859', '48591', '48593', '48596', '48598', '486', '48600', '4861', '4862', '4863', '48638', '4864', '4865', '4866', '48660', '4867', '48673', '48678', '4868', '48696', '48698', '487', '4870', '48704', '4871', '48711', '4872', '4873', '48738', '4874', '48741', '48744', '4875', '4876', '4877', '48774', '4878', '48780', '48783', '4879', '48791', '488', '4880', '4881', '48825', '48833', '4884', '4885', '48856', '4886', '4887', '48872', '48877', '48879', '4888', '4889', '489', '4890', '4892', '4893', '48957', '4896', '4897', '48972', '4898', '48982', '4899', '48997', '49', '490', '4900', '4901', '49013', '4902', '4903', '4907', '4908', '4909', '491', '4910', '4911', '49110', '4912', '49130', '49132', '4914', '4915', '4916', '4917', '492', '4920', '4921', '49220', '49225', '4923', '4925', '4926', '49263', '4927', '49272', '49274', '49276', '49278', '4928', '49280', '49284', '49286', '4929', '493', '49312', '49314', '4932', '4934', '49347', '49355', '49359', '4936', '49389', '4939', '49396', '494', '4940', '4941', '49412', '49422', '4945', '4946', '4947', '495', '4950', '4951', '49526', '49528', '49530', '4954', '4956', '4957', '49571', '4958', '4959', '496', '4960', '4961', '4962', '4963', '4964', '49642', '49647', '49649', '4965', '49651', '4966', '49666', '4967', '4968', '49688', '4969', '497', '4970', '4971', '4972', '4973', '49735', '4974', '4975', '49752', '4976', '49766', '4977', '49772', '4978', '4979', '49793', '498', '4980', '4981', '49815', '49817', '4982', '49822', '49824', '4987', '4988', '4989', '499', '4990', '4991', '49910', '49917', '4992', '49926', '4993', '49932', '4994', '4995', '49957', '4996', '49961', '4997', '4998', '4999', '5', '50', '500', '5000', '50003', '50005', '5001', '50011', '5002', '5003', '5004', '5005', '5006', '50064', '50066', '50068', '5007', '5008', '5009', '501', '5010', '5011', '5012', '5013', '5014', '50147', '50149', '5015', '50151', '50158', '5016', '50160', '50162', '5017', '50183', '502', '5021', '5022', '50229', '5023', '5024', '5025', '50259', '5026', '5027', '50271', '50274', '5028', '5029', '5031', '5032', '5033', '5034', '5035', '5036', '5038', '5039', '504', '5040', '5041', '5042', '50440', '50442', '50445', '50447', '5045', '5046', '5047', '5048', '5049', '505', '5050', '5051', '50514', '50517', '5052', '5053', '5054', '5055', '5056', '50583', '5059', '50594', '506', '5060', '50601', '5061', '5062', '5064', '50641', '5065', '50651', '50658', '5066', '5068', '50685', '5069', '507', '50703', '5071', '5072', '5073', '5074', '50740', '50742', '5075', '5076', '5077', '5079', '50792', '50794', '50798', '508', '5080', '50800', '50802', '50804', '50806', '5081', '50821', '50842', '5085', '50851', '50858', '5086', '5087', '50872', '5088', '509', '5090', '50912', '5092', '50923', '5093', '5094', '50944', '5095', '50954', '5096', '5099', '51', '510', '51007', '5102', '5103', '51037', '51044', '5105', '5106', '5107', '51077', '5108', '51080', '51082', '51084', '51086', '51088', '5109', '51091', '51094', '511', '5110', '5111', '5112', '5113', '5117', '51174', '5118', '51187', '5119', '512', '5120', '51207', '5121', '5122', '5123', '5124', '5125', '51255', '5126', '5127', '51277', '5128', '5129', '513', '51300', '51312', '51317', '5133', '5134', '5135', '51357', '5136', '5137', '51372', '5139', '514', '5140', '5141', '51412', '51418', '5142', '5145', '5146', '5147', '51471', '51486', '51498', '515', '5151', '5152', '51520', '5153', '51540', '51545', '51559', '5157', '51573', '51575', '51579', '5159', '516', '5161', '5164', '5165', '51660', '51662', '51666', '51678', '5168', '5169', '51694', '51698', '517', '5170', '51705', '51709', '5171', '5172', '5174', '5175', '5177', '518', '5180', '51800', '51834', '51847', '5187', '51884', '519', '5190', '51903', '5192', '51925', '51927', '5193', '51931', '51933', '51935', '51937', '51939', '5194', '5195', '5196', '5197', '5198', '51991', '52', '520', '5201', '5202', '5203', '52037', '52042', '5205', '52078', '521', '52104', '5211', '5214', '5216', '52170', '5218', '5219', '522', '5220', '5221', '5222', '52227', '5223', '52237', '5224', '52241', '52245', '5225', '5226', '52279', '5228', '52281', '52283', '52285', '52287', '52299', '523', '5230', '5231', '52319', '5232', '52321', '52328', '5235', '52356', '5237', '52375', '5239', '524', '5240', '5242', '52427', '52435', '5244', '52448', '52456', '52458', '5246', '52460', '52462', '5247', '5249', '525', '5250', '5251', '5252', '5254', '52545', '5255', '5256', '52561', '52579', '5258', '52581', '52591', '526', '5260', '52604', '52606', '5262', '5263', '5264', '52644', '5265', '5266', '52666', '52668', '5267', '5268', '5269', '52694', '527', '52712', '52717', '5272', '52722', '52724', '5273', '52730', '52742', '5276', '52767', '5278', '5279', '528', '5280', '52806', '5282', '5283', '52838', '5284', '5285', '52858', '5286', '52867', '5287', '52872', '5288', '52885', '5289', '529', '5290', '5291', '52913', '5292', '5293', '5294', '5295', '52950', '52952', '5296', '52967', '5297', '52973', '52975', '5298', '5299', '53', '5300', '53000', '53002', '53004', '53024', '5303', '5304', '5305', '5306', '53066', '5307', '5308', '5309', '531', '5310', '5311', '5312', '53121', '53123', '53125', '53127', '53129', '5313', '53138', '5314', '53140', '5315', '5316', '53161', '53189', '5319', '532', '53207', '5321', '5322', '5323', '5324', '5325', '5327', '5328', '5329', '533', '5331', '53318', '5332', '53322', '53326', '5333', '5334', '5335', '53352', '53355', '5337', '53370', '53373', '53375', '5339', '534', '5340', '5341', '53435', '5344', '53443', '53447', '53450', '53453', '5346', '53460', '53464', '53466', '53468', '5347', '5348', '5349', '535', '5350', '5351', '53519', '5352', '5353', '5354', '53550', '5357', '53574', '53578', '5358', '53582', '5359', '536', '5360', '5361', '5363', '5364', '5365', '5367', '5368', '5369', '537', '5370', '5372', '5373', '53737', '5375', '5376', '53769', '5377', '5378', '53788', '5379', '538', '5380', '5382', '53827', '5383', '53835', '5385', '5386', '5387', '5388', '53883', '5389', '53894', '539', '5390', '5391', '53919', '5392', '53921', '5394', '53953', '53956', '5397', '53972', '53974', '5398', '53988', '5399', '53993', '53996', '53999', '54', '540', '5400', '54001', '54004', '5401', '5404', '5406', '54075', '5408', '5409', '54094', '541', '5410', '54116', '5413', '5414', '54144', '5415', '5416', '5417', '5418', '54185', '5419', '54190', '542', '5420', '5421', '5422', '54229', '5423', '54241', '5425', '54256', '54259', '54272', '54276', '54278', '5428', '54281', '54286', '54290', '543', '5430', '54328', '5433', '54331', '5434', '54341', '54349', '5435', '5437', '54372', '54378', '5438', '5439', '544', '54406', '5442', '5443', '5444', '5445', '5446', '5447', '5448', '5449', '5450', '54503', '54505', '5451', '54510', '54513', '5452', '5453', '5454', '5455', '5456', '5457', '5458', '5459', '546', '5460', '54605', '54612', '54617', '5462', '5463', '5464', '54648', '5466', '5468', '54686', '5469', '547', '5470', '5472', '5473', '54732', '54734', '54736', '54738', '5474', '54745', '5475', '5476', '54768', '5477', '54771', '54775', '5478', '54780', '54785', '54787', '5479', '54796', '548', '5480', '5481', '5482', '5483', '5484', '5485', '5488', '54881', '5489', '549', '5490', '54908', '54910', '5493', '54934', '5496', '54962', '54967', '5497', '5498', '5499', '54995', '54997', '54999', '55', '550', '5500', '5501', '5502', '55020', '5504', '5505', '55050', '55052', '5506', '55061', '55063', '55067', '55069', '5507', '55071', '55078', '5508', '55080', '5509', '55094', '55098', '551', '55106', '55110', '55116', '55118', '5513', '55132', '5515', '55156', '5516', '55167', '55176', '552', '55205', '55207', '5521', '5522', '5523', '55232', '5524', '55241', '55245', '55247', '5525', '55250', '55253', '55255', '55257', '55259', '5526', '55261', '55267', '55269', '5527', '55272', '55274', '55276', '55278', '5528', '55280', '55282', '55284', '55286', '55288', '5529', '55290', '55292', '553', '5530', '5531', '5532', '5535', '55360', '55363', '5538', '5539', '55391', '554', '5540', '55402', '55408', '5541', '55417', '55419', '5543', '5544', '55442', '55444', '55451', '5546', '55462', '55469', '5548', '55492', '55498', '555', '55517', '5552', '5553', '55549', '5555', '55553', '55555', '5556', '55566', '5557', '55577', '556', '5560', '55603', '5561', '55620', '5563', '5564', '55652', '55659', '5568', '55687', '5569', '5570', '55705', '5571', '5572', '55721', '55729', '5573', '55732', '5574', '5575', '5576', '55765', '55768', '5577', '5579', '558', '5580', '55805', '5581', '55814', '5582', '55820', '55830', '5584', '55844', '5585', '55854', '55856', '5587', '55872', '5588', '5589', '55895', '5590', '55901', '55908', '5591', '55926', '5593', '55946', '5595', '55955', '5596', '5597', '5598', '5599', '55995', '55999', '56', '560', '5600', '56003', '5601', '56015', '5602', '56022', '5603', '5604', '5605', '5606', '56060', '5607', '56079', '5608', '5609', '56093', '56095', '56098', '561', '5610', '5611', '5612', '5613', '5614', '56141', '56145', '56152', '56156', '56165', '56167', '56169', '5617', '56171', '56174', '56176', '5618', '5619', '562', '5620', '5621', '5625', '56274', '5628', '56286', '5629', '563', '5630', '5632', '5633', '56331', '56333', '56339', '56350', '5636', '56367', '5637', '56372', '56379', '5638', '56389', '5639', '564', '5640', '5642', '5643', '5644', '5646', '5647', '56479', '5649', '565', '5650', '56508', '5651', '5652', '5653', '5655', '5656', '56561', '56563', '5657', '5658', '56587', '5659', '566', '5660', '56607', '56614', '5663', '56633', '5664', '5665', '56651', '5666', '5667', '56671', '5668', '5669', '567', '5670', '56700', '56715', '56719', '5672', '5673', '56744', '5675', '56757', '5677', '56775', '56779', '5678', '56782', '56786', '56788', '5679', '568', '5680', '56801', '56805', '5681', '5682', '56837', '5684', '56846', '56848', '5685', '5686', '5687', '56885', '5689', '569', '5690', '56908', '5691', '56915', '5692', '5693', '5694', '56941', '56945', '56949', '5695', '5696', '5697', '57', '570', '5703', '57038', '5705', '5706', '57069', '5707', '571', '5712', '5713', '5714', '57147', '5715', '5716', '5717', '57183', '5721', '5722', '57223', '5724', '57243', '5725', '5727', '57274', '5728', '5729', '573', '5730', '5731', '5732', '57326', '5733', '5734', '5735', '57353', '5736', '57368', '5737', '57370', '5738', '5739', '57393', '574', '5740', '57401', '5741', '57418', '57421', '5743', '5745', '57464', '5747', '5748', '5749', '575', '57502', '57504', '57509', '5752', '57520', '57522', '57526', '57528', '5753', '57532', '57534', '57536', '57538', '5754', '57543', '5756', '5762', '5763', '57637', '5764', '57640', '5765', '57655', '57669', '5767', '5768', '5769', '57695', '577', '5771', '5772', '5773', '5777', '5778', '5779', '57792', '5780', '5782', '5784', '57845', '5785', '57854', '57865', '5787', '5788', '5791', '57910', '5792', '5794', '57946', '57949', '57951', '5796', '57970', '57980', '5799', '58', '580', '5800', '58003', '5801', '58025', '5803', '5804', '58047', '58078', '5808', '5809', '581', '5810', '58103', '58105', '58107', '58111', '5812', '58123', '58146', '5815', '58154', '58156', '5816', '58162', '5817', '5818', '5819', '582', '5820', '58223', '5824', '58246', '5825', '5826', '5827', '58287', '5829', '58291', '58293', '58295', '58297', '58299', '583', '58301', '58303', '58306', '58315', '5832', '58324', '5833', '58332', '58334', '58347', '58351', '5836', '58376', '5838', '58381', '5839', '5840', '5841', '58418', '5842', '58425', '5843', '58432', '58434', '5845', '5846', '5847', '5849', '58490', '58492', '58494', '585', '5852', '5853', '5855', '58554', '58559', '5858', '5859', '586', '5862', '58622', '58627', '5863', '5864', '58652', '58655', '5866', '5867', '5868', '587', '5872', '5873', '5874', '58740', '5875', '5876', '5878', '5879', '588', '58803', '58806', '5881', '58812', '58816', '5882', '5883', '58839', '5885', '58870', '58874', '58876', '58879', '5888', '58889', '5889', '58895', '589', '5890', '5891', '5893', '58933', '58937', '5896', '58964', '58972', '58975', '5898', '5899', '58992', '58998', '59', '590', '5900', '5901', '59014', '59016', '59018', '5902', '59022', '59026', '5903', '59031', '59037', '59065', '5907', '5908', '5909', '59103', '59107', '5911', '59118', '5912', '59126', '5913', '5914', '59141', '59143', '5915', '59178', '59180', '59188', '592', '5920', '59220', '5923', '59256', '59258', '59260', '5927', '5929', '593', '59306', '59315', '5932', '59333', '59336', '5935', '59369', '5937', '5938', '59387', '5939', '59399', '594', '5940', '59404', '5941', '59418', '5942', '59421', '5943', '5944', '59440', '5945', '5947', '59485', '5949', '595', '59501', '5951', '59519', '5952', '5953', '5954', '59549', '5955', '5956', '5957', '5958', '5959', '59590', '59594', '596', '5960', '59602', '59604', '5961', '59615', '5962', '5963', '5964', '5965', '5966', '59684', '5969', '597', '5970', '59709', '5971', '59715', '59725', '59727', '59731', '5974', '5975', '59753', '5977', '59784', '5979', '598', '5980', '5981', '59810', '59814', '5983', '59838', '5984', '59842', '5985', '59854', '5988', '5989', '59895', '599', '5990', '59900', '5991', '59910', '59915', '5992', '5993', '5994', '5995', '59976', '5998', '59985', '5999', '59995', '6', '60', '600', '6000', '60007', '6001', '6002', '60020', '6003', '60032', '60037', '60040', '60046', '6005', '6006', '60069', '60072', '60074', '6008', '6009', '601', '6010', '60106', '6011', '6012', '60126', '60128', '6013', '60133', '60135', '60137', '6014', '60141', '6016', '60198', '602', '6020', '60201', '6021', '60225', '6023', '6024', '6025', '60259', '6027', '60286', '60291', '60293', '60295', '603', '6030', '6031', '6032', '6033', '60333', '60338', '60341', '60343', '6035', '60353', '6036', '60363', '6037', '60382', '60389', '6039', '60397', '6040', '60405', '60408', '6041', '60411', '60418', '6042', '6044', '60461', '60463', '60482', '60487', '605', '6050', '6051', '60514', '60516', '60530', '60538', '6055', '60551', '6056', '60566', '6057', '60579', '6058', '6059', '60599', '606', '6060', '60609', '6061', '6062', '6063', '6064', '60647', '60649', '60654', '6066', '6067', '60684', '60702', '60707', '60737', '6074', '60753', '60756', '60758', '6076', '60760', '60763', '60766', '6077', '6078', '6079', '608', '60803', '60825', '60832', '6086', '6088', '60894', '609', '6090', '6093', '60937', '60939', '6094', '60941', '60943', '60948', '6095', '60950', '6096', '6098', '60992', '61', '610', '6100', '61009', '6101', '61013', '61024', '61026', '6104', '6107', '61071', '61075', '611', '6111', '61123', '61132', '6114', '6115', '6116', '61160', '61167', '6117', '6118', '6119', '612', '6120', '6121', '61210', '6122', '6123', '61236', '6124', '61240', '61246', '61248', '6125', '61250', '61255', '61257', '6126', '61262', '6127', '6128', '61289', '613', '6130', '61319', '61323', '6134', '61348', '6135', '61350', '61352', '61354', '61361', '61373', '614', '6140', '61401', '61406', '6141', '6143', '61449', '61465', '61493', '615', '6151', '6153', '6154', '6155', '6156', '61567', '6157', '6158', '6159', '616', '6160', '6162', '6163', '6164', '6166', '61678', '6168', '61697', '617', '6170', '61705', '6171', '61729', '6173', '6174', '6176', '6178', '618', '6180', '61816', '6182', '6183', '6184', '6185', '6186', '6187', '6188', '619', '6192', '6193', '61931', '61937', '61948', '6195', '6196', '61967', '6197', '61986', '62', '62000', '6201', '6202', '6203', '6204', '62049', '6208', '62081', '621', '6210', '6211', '62113', '62115', '6212', '6213', '62137', '6214', '6215', '62153', '62155', '6216', '6218', '6219', '62198', '6220', '62203', '6221', '6222', '6223', '62235', '62245', '62250', '62254', '6226', '62265', '62277', '6228', '6229', '62293', '623', '6230', '6231', '6232', '6233', '62344', '6235', '6237', '62374', '62376', '6238', '62383', '6239', '62394', '6240', '6241', '6242', '62420', '6243', '62434', '62437', '62439', '6244', '6247', '6249', '6250', '6251', '62511', '6252', '62526', '6254', '6255', '62553', '6257', '62577', '6258', '62586', '6259', '626', '6260', '6261', '6263', '6264', '62644', '6265', '6266', '6267', '6268', '6269', '627', '6270', '6271', '62718', '6272', '62729', '6273', '62733', '62764', '6279', '62792', '62799', '628', '6280', '62801', '62803', '6281', '6283', '62836', '6284', '62849', '6286', '6287', '6288', '6289', '6290', '6291', '62912', '6293', '6294', '6295', '6296', '6297', '6298', '6299', '62999', '63', '630', '6300', '63001', '6301', '6303', '63033', '6304', '6305', '6306', '63062', '63072', '6308', '63082', '631', '6311', '63113', '63121', '6313', '63131', '6314', '6315', '63179', '63189', '6319', '632', '6320', '6322', '63222', '6323', '63239', '6325', '6329', '633', '6330', '6331', '63312', '6332', '63329', '6333', '6335', '6337', '6338', '6339', '63391', '63393', '634', '6341', '6342', '63433', '63436', '6344', '63446', '6345', '6346', '6347', '63479', '63481', '6349', '635', '6350', '6351', '63515', '6352', '63540', '6355', '6356', '6357', '6358', '63629', '6365', '6366', '6367', '63676', '6368', '63698', '637', '6370', '6371', '6373', '6374', '6375', '6377', '6378', '63781', '6379', '638', '6380', '63808', '6382', '63826', '6383', '6385', '63853', '63859', '6386', '6387', '63876', '639', '6390', '6391', '6392', '6394', '6395', '6396', '6398', '63989', '63992', '64', '640', '6400', '6401', '64010', '6402', '6403', '64030', '64032', '64034', '64037', '6404', '6405', '6406', '6407', '641', '6410', '6411', '64114', '64116', '6412', '6413', '6414', '64153', '6416', '6419', '64197', '6422', '64229', '6423', '64231', '64249', '6425', '6426', '6427', '64278', '6428', '64285', '6429', '64321', '6433', '6436', '6437', '6438', '6440', '6441', '6442', '6448', '6449', '64497', '64499', '645', '6450', '64501', '6451', '64519', '6452', '6453', '6454', '6455', '6457', '64575', '6458', '6459', '6460', '6461', '64614', '64620', '64622', '6463', '6464', '64650', '6466', '64660', '6469', '64695', '647', '64701', '6471', '64716', '6474', '6476', '6477', '6478', '648', '6480', '6481', '6482', '6483', '64839', '6484', '64845', '6485', '6486', '649', '6492', '6493', '64930', '6495', '64957', '64969', '6497', '6498', '64983', '64993', '64997', '65', '650', '6502', '6503', '65037', '6506', '6508', '65088', '6509', '65091', '651', '6511', '65126', '6513', '65130', '65133', '65142', '6515', '65155', '6516', '6517', '6518', '65188', '6519', '65193', '6521', '65216', '65225', '6523', '65230', '6524', '65243', '6525', '6526', '65261', '6528', '653', '6530', '6531', '65315', '6533', '6534', '6535', '65357', '65359', '6536', '6537', '6538', '6539', '6540', '6541', '65418', '6542', '65435', '6544', '6545', '6546', '65465', '6547', '6548', '6549', '6550', '6551', '65514', '6552', '6556', '65567', '65577', '6558', '65585', '65588', '6559', '65596', '656', '6560', '65601', '6561', '65612', '6562', '65631', '6564', '65642', '6565', '6566', '65665', '65667', '65669', '6567', '65682', '65685', '65709', '6571', '6573', '65738', '6574', '6577', '65770', '65772', '6578', '6579', '65796', '658', '65802', '65810', '65813', '65817', '6582', '6584', '6585', '6586', '65868', '6587', '6588', '65882', '65899', '659', '6591', '6592', '6593', '6595', '6596', '6597', '6598', '65982', '66', '660', '6601', '66019', '66066', '6609', '66090', '66092', '66097', '661', '6611', '6612', '66130', '6614', '6615', '6616', '6617', '66171', '6618', '6619', '66198', '662', '6620', '66200', '66203', '6623', '6624', '66246', '6625', '66279', '6629', '663', '6630', '66304', '66317', '66320', '66323', '66330', '66335', '6635', '6636', '66371', '6638', '66385', '6639', '664', '6640', '6641', '6642', '66427', '6643', '6644', '6645', '6646', '6647', '6648', '6649', '665', '6650', '66503', '66509', '6651', '66511', '6652', '6653', '6654', '66544', '66547', '6655', '6656', '6657', '6658', '6659', '66596', '666', '6660', '6661', '6662', '6663', '66639', '6664', '6665', '6666', '66665', '6667', '6668', '6669', '66691', '667', '6671', '66718', '6672', '66744', '6678', '66783', '66785', '66789', '6679', '66798', '668', '66808', '6682', '6683', '6684', '6686', '6687', '66870', '66897', '66915', '6692', '66934', '66943', '6695', '6696', '66979', '67', '670', '6702', '6703', '6704', '6705', '67068', '6707', '67073', '6708', '67087', '6709', '671', '6710', '6711', '6713', '67138', '6714', '67168', '67186', '67193', '67197', '672', '6720', '6721', '6722', '6723', '6724', '6725', '67252', '67255', '67267', '6727', '6729', '673', '6730', '6731', '67314', '6732', '6734', '6735', '67361', '67363', '67365', '674', '6740', '67408', '67429', '6743', '67464', '6748', '6749', '675', '6750', '67501', '67508', '6751', '6752', '6753', '67534', '6754', '6755', '6757', '676', '6760', '6761', '6763', '6764', '6765', '67665', '6768', '6769', '67695', '6770', '67702', '6772', '6773', '67734', '6774', '6776', '6777', '67784', '67788', '6779', '67799', '678', '6780', '67801', '6781', '6782', '6783', '67839', '6784', '6785', '6786', '67867', '6787', '6789', '67898', '679', '6790', '67907', '6791', '6792', '67923', '6793', '6794', '67957', '6796', '6797', '6798', '67997', '67999', '68', '680', '6800', '6801', '6803', '68039', '6805', '6806', '6807', '68073', '6808', '6809', '68099', '681', '6810', '6811', '6812', '6813', '68135', '68137', '6815', '68157', '68159', '6816', '68173', '6818', '68194', '6820', '68205', '68226', '68237', '68259', '68265', '68269', '6827', '6829', '683', '68319', '6832', '68324', '68347', '6835', '68358', '6837', '6839', '684', '6840', '68444', '68472', '6849', '685', '6850', '6851', '68511', '68519', '6852', '68522', '6853', '68536', '68541', '68554', '6856', '6857', '6858', '6860', '6862', '6863', '6864', '68650', '68659', '68667', '6867', '68674', '6868', '68685', '6869', '687', '6870', '6871', '6872', '6873', '6874', '68749', '6875', '6876', '6879', '68791', '68793', '688', '6880', '6881', '6882', '6883', '68835', '68838', '6884', '68848', '6885', '6886', '68868', '6887', '68872', '6888', '6889', '68890', '6890', '68901', '68915', '6892', '6893', '68932', '6894', '68941', '6895', '68952', '68954', '68956', '68959', '6896', '68963', '6898', '69', '6900', '69005', '69007', '6901', '6902', '69027', '69061', '69069', '6907', '69075', '69088', '6909', '691', '6910', '69118', '6912', '69122', '69131', '69134', '69136', '69140', '6917', '6918', '69199', '692', '6920', '69203', '6923', '6924', '69253', '6926', '69269', '6927', '69275', '69278', '6928', '69280', '69299', '69304', '69306', '6932', '6934', '6935', '69356', '6936', '6938', '69394', '694', '6940', '69406', '6942', '69436', '69438', '6944', '69448', '6945', '69458', '6946', '69469', '6947', '6948', '69481', '69489', '69498', '695', '6950', '6951', '69516', '6952', '69524', '69526', '69529', '6953', '6954', '6957', '69574', '6958', '6959', '69604', '69606', '6961', '6963', '69640', '69644', '6966', '69677', '6968', '69685', '6969', '69699', '697', '6970', '6971', '69712', '6972', '6973', '6974', '69746', '6975', '69757', '6976', '69761', '6977', '6978', '69784', '6979', '698', '6980', '69805', '69809', '6981', '6982', '6983', '69830', '6984', '69842', '69844', '69849', '6985', '6986', '6987', '6988', '6989', '699', '6990', '6991', '6992', '6993', '6994', '69945', '69947', '6995', '69951', '6996', '6997', '6998', '69988', '6999', '69995', '7', '70', '700', '7000', '7001', '7002', '7003', '70032', '7004', '7005', '7007', '7008', '7009', '70093', '701', '7010', '7011', '7012', '70121', '7013', '70130', '70133', '7014', '7015', '70159', '7016', '7017', '70175', '7018', '70183', '7019', '702', '7020', '70206', '70208', '7021', '7022', '7023', '7024', '7025', '7026', '7027', '7028', '70282', '70286', '7029', '70293', '703', '7030', '70305', '7031', '7033', '70334', '70336', '7034', '70344', '7035', '7036', '70361', '7037', '7038', '7039', '704', '7040', '7042', '70423', '7043', '70432', '7044', '7045', '70451', '7046', '70465', '7048', '70495', '705', '7050', '7051', '7052', '7053', '70533', '70535', '7054', '7055', '7056', '70565', '70567', '7057', '7058', '7059', '70597', '70599', '706', '7060', '7061', '7062', '7063', '70637', '7064', '70643', '70649', '7065', '7066', '70663', '7067', '70670', '70678', '7068', '70687', '7069', '70695', '70697', '707', '7070', '70706', '7071', '7072', '70728', '7073', '7074', '7075', '7076', '70762', '70769', '7077', '7079', '708', '7080', '70802', '7081', '7082', '7084', '70846', '7085', '7086', '70862', '7087', '70871', '7088', '7089', '70898', '709', '7090', '7091', '70912', '7092', '7093', '70932', '7094', '7095', '7096', '70968', '70976', '70984', '7099', '70994', '71', '710', '7101', '7102', '7103', '71033', '7104', '71057', '7106', '7107', '711', '71106', '71108', '71129', '7113', '71131', '71135', '7114', '7115', '71156', '7116', '7117', '7118', '71184', '7119', '712', '71205', '7121', '71211', '7122', '7123', '7124', '71248', '71252', '71254', '7126', '71264', '7127', '71282', '713', '7130', '71300', '71302', '71304', '7132', '71322', '71325', '71327', '7134', '7135', '7136', '7137', '71372', '71374', '71379', '7139', '71390', '714', '71418', '7142', '71429', '7143', '71438', '71448', '71450', '71460', '71462', '71464', '71466', '7147', '7148', '71484', '7149', '71494', '715', '7150', '71500', '7151', '71518', '7152', '71520', '7153', '71530', '71535', '71537', '7154', '71542', '7155', '7156', '71560', '71571', '71573', '71579', '7158', '71591', '716', '7160', '7161', '71619', '7162', '7163', '7164', '7165', '71668', '7167', '71670', '7168', '71688', '7169', '71691', '71693', '71700', '71707', '7171', '7172', '7173', '7174', '71745', '7175', '7177', '7178', '7179', '718', '7180', '71823', '7183', '71838', '71867', '71876', '71878', '719', '7190', '71902', '7191', '71910', '71926', '7193', '71936', '71938', '71940', '7195', '71978', '7198', '71989', '7199', '72', '720', '72011', '7202', '72035', '7204', '72043', '7205', '7206', '7207', '7208', '7209', '7210', '72104', '72113', '72117', '7212', '72129', '72131', '7215', '72156', '7216', '72165', '72167', '7217', '72171', '72176', '7218', '7219', '722', '72209', '7221', '7222', '72224', '72226', '72228', '7223', '72249', '7225', '7226', '72261', '7227', '7228', '7229', '72294', '723', '72304', '72321', '7234', '7235', '72356', '7236', '72360', '7237', '72378', '7238', '72380', '72386', '72393', '72395', '724', '72405', '72407', '7241', '7243', '7244', '7247', '72479', '72489', '725', '7250', '7252', '7253', '7254', '7255', '72559', '7256', '7257', '7258', '72589', '7259', '72591', '726', '7260', '72603', '72605', '7261', '7262', '7263', '72630', '72641', '7265', '7266', '72692', '72694', '72696', '7270', '72701', '72712', '72720', '72731', '72733', '72737', '72741', '7276', '72762', '72787', '728', '7282', '7283', '7285', '72850', '72919', '7293', '72931', '7294', '7297', '72980', '7299', '72998', '73', '730', '7300', '73000', '7301', '73015', '73017', '7302', '73023', '73027', '7303', '7304', '73042', '7305', '73064', '7307', '7308', '73089', '7309', '731', '7310', '73101', '7311', '7312', '7313', '7315', '73154', '7316', '73168', '7317', '7318', '7319', '732', '7320', '7321', '73211', '7323', '7324', '7325', '73266', '73268', '7327', '73270', '7328', '73290', '733', '7331', '73319', '73321', '73323', '7333', '7334', '73344', '7336', '7338', '73399', '734', '7340', '73416', '7342', '7343', '7345', '7346', '7347', '7348', '7349', '73494', '73499', '735', '73504', '73511', '73513', '7352', '7353', '7354', '7355', '73572', '73587', '736', '7360', '73608', '7361', '73614', '7362', '73630', '7364', '7365', '7366', '73664', '7367', '7369', '737', '7371', '73713', '73718', '7373', '7374', '73744', '7375', '7376', '7377', '73778', '7378', '7379', '7380', '73804', '73808', '7381', '7382', '73820', '73829', '7384', '7385', '73854', '7386', '73860', '7387', '73870', '73879', '7388', '73881', '7389', '73900', '73914', '7392', '73929', '7394', '7395', '7396', '73983', '7399', '74', '74014', '74089', '74095', '741', '74111', '74131', '74139', '74152', '74154', '74156', '74164', '7419', '742', '7420', '74204', '74228', '74275', '743', '74355', '7437', '74370', '7438', '7439', '7440', '74416', '74428', '74431', '7444', '7445', '74450', '74452', '74458', '7448', '74484', '74486', '74488', '7449', '745', '7450', '74508', '7451', '74510', '74512', '7453', '74530', '74532', '74538', '7454', '74545', '74553', '7456', '74573', '74575', '7458', '74580', '7459', '746', '7460', '74624', '74668', '74677', '74685', '74688', '74696', '74698', '747', '74727', '7474', '74740', '7475', '74750', '74754', '7478', '74787', '74789', '74791', '74795', '748', '7480', '7481', '7482', '7484', '7485', '74851', '7486', '74868', '7487', '7489', '74916', '7492', '7493', '74944', '74946', '74948', '75', '750', '7505', '751', '752', '7523', '7528', '753', '75341', '75351', '75395', '754', '75404', '7541', '75425', '755', '756', '7560', '7561', '7562', '7564', '7566', '7569', '757', '7570', '7572', '7573', '7577', '7578', '7579', '75803', '75805', '7581', '75813', '7583', '7584', '7585', '7586', '7587', '759', '75981', '75983', '75985', '76', '760', '76030', '76054', '76060', '76063', '76077', '76079', '76091', '76093', '761', '76111', '76127', '7613', '7614', '7615', '7616', '7617', '76173', '76175', '7618', '7619', '762', '7620', '76208', '7621', '76210', '7622', '7624', '76251', '7626', '76269', '76293', '76317', '7636', '7637', '764', '7646', '7647', '765', '766', '7669', '767', '76738', '76758', '76763', '768', '76816', '769', '7698', '77', '7700', '7701', '7702', '7704', '7705', '7706', '7707', '7708', '771', '7713', '7714', '77177', '77191', '7720', '77201', '77206', '77210', '77217', '77240', '7725', '77264', '77266', '7727', '7728', '77307', '77316', '77328', '77330', '77359', '77364', '77414', '7742', '77421', '77427', '7743', '7745', '77455', '77463', '7748', '7749', '775', '7753', '77540', '7756', '77561', '7757', '7759', '77629', '7763', '7766', '77665', '77667', '7767', '77682', '7770', '77709', '7771', '7773', '77731', '7775', '77788', '77795', '77798', '778', '77800', '7781', '77810', '7782', '77820', '77833', '77837', '7784', '77846', '77854', '7786', '77866', '7787', '7789', '779', '7790', '7791', '7792', '77985', '78', '780', '78009', '78011', '7802', '78032', '78034', '78037', '78039', '78041', '78054', '78084', '78088', '781', '78105', '78116', '78130', '7814', '78142', '7815', '7817', '78174', '7818', '782', '7820', '78209', '7821', '78218', '7822', '78224', '78245', '7826', '78264', '78266', '7827', '78278', '78295', '783', '7831', '78313', '78316', '7832', '7833', '78332', '78335', '7834', '78344', '78349', '7836', '7837', '7839', '784', '7840', '78408', '78410', '78420', '78438', '7844', '7845', '7846', '78467', '78469', '78499', '785', '78517', '78519', '78574', '78585', '786', '78614', '78637', '78679', '78681', '787', '78703', '78717', '78729', '78746', '78759', '78772', '78774', '7879', '788', '7881', '7883', '78836', '7884', '78858', '7888', '7889', '78893', '78898', '789', '7890', '78905', '7891', '78913', '7892', '7893', '78934', '7894', '7895', '7897', '78976', '7899', '79', '790', '7900', '79006', '79029', '79057', '79073', '79091', '791', '79132', '79134', '79139', '7915', '7916', '7918', '79185', '7919', '792', '79207', '7921', '7922', '79224', '79226', '7923', '79230', '7924', '79242', '7925', '79251', '79254', '7926', '79287', '79293', '79299', '793', '7930', '79318', '7932', '7933', '7934', '79357', '7936', '7937', '7938', '7939', '794', '7940', '7941', '7942', '79428', '7943', '7944', '79463', '7949', '79496', '795', '79505', '7951', '79525', '79528', '79541', '79543', '79553', '79572', '79578', '79588', '79590', '79592', '79596', '79599', '79610', '79633', '79663', '79681', '79684', '79695', '797', '79702', '79720', '79736', '7976', '79760', '79765', '79769', '7979', '79796', '79798', '798', '7980', '79807', '7981', '7982', '79824', '7983', '79830', '79832', '7984', '79842', '79848', '79860', '79863', '79868', '79874', '79879', '7988', '79895', '79897', '799', '7990', '7991', '79918', '79927', '7993', '79936', '79946', '79955', '79987', '79996', '8', '80', '800', '8003', '80074', '8008', '80086', '80094', '801', '8010', '80102', '8011', '8012', '80126', '8013', '8014', '80144', '8015', '8016', '80162', '80166', '8017', '80181', '80185', '8019', '80191', '802', '80206', '80219', '80222', '8024', '80241', '8025', '803', '80315', '80328', '8033', '80337', '80350', '80354', '80361', '80363', '8039', '80398', '804', '8042', '8043', '8044', '80444', '8045', '80456', '80463', '80489', '805', '80549', '80551', '8057', '80570', '80586', '80590', '806', '80615', '80617', '8062', '8063', '80639', '80648', '80693', '807', '80727', '80729', '80733', '80748', '80775', '80779', '80789', '808', '80820', '80831', '80839', '80844', '80846', '80858', '80860', '80862', '80864', '80880', '809', '80906', '80917', '8092', '80924', '8093', '80939', '8094', '80947', '80969', '81', '810', '81018', '81020', '81059', '81083', '81132', '81140', '81156', '81158', '81164', '8117', '8118', '81180', '81182', '8119', '81191', '8121', '81229', '8123', '8125', '81257', '8126', '8127', '81270', '81276', '8128', '8129', '813', '8130', '81305', '8131', '8132', '8133', '8134', '81383', '81385', '81391', '81396', '8140', '81413', '81417', '81441', '81456', '8147', '81499', '81512', '81516', '81520', '8153', '81535', '81537', '8154', '81562', '81564', '8157', '8158', '81591', '816', '81639', '81641', '81665', '8167', '81673', '8169', '81698', '81711', '81725', '81753', '81782', '81784', '81786', '81788', '81791', '818', '81804', '81817', '81819', '8183', '81834', '81845', '81847', '8188', '8189', '819', '8190', '8191', '81932', '81949', '8195', '8196', '8197', '8198', '81981', '8199', '82', '820', '8201', '82041', '82051', '82053', '82059', '8207', '8208', '82093', '82095', '821', '82143', '82150', '82152', '82167', '82169', '82173', '822', '82202', '8221', '8222', '82242', '82244', '8225', '82274', '82276', '8228', '823', '82302', '82313', '8232', '8235', '82353', '82378', '8239', '824', '8241', '82438', '82447', '82459', '82461', '82463', '82499', '82527', '8253', '82534', '8254', '8256', '82564', '8258', '82589', '8259', '8261', '8263', '82635', '8264', '82641', '8266', '82667', '8267', '82676', '8268', '82684', '827', '8270', '82711', '8272', '8273', '82744', '82749', '8275', '82767', '828', '82848', '82850', '82852', '82854', '829', '8290', '8291', '82934', '8295', '82976', '83', '830', '83086', '83096', '831', '83132', '83134', '83177', '832', '83219', '83222', '83264', '83266', '8327', '83270', '833', '8330', '83302', '8331', '8332', '8334', '83349', '8335', '83359', '8336', '83361', '83369', '8337', '83374', '8338', '8339', '834', '8340', '8341', '83411', '83424', '83478', '83480', '835', '83525', '83583', '83585', '836', '8360', '8361', '83613', '8362', '8363', '8364', '8365', '8366', '8367', '8368', '8369', '837', '8370', '8371', '8372', '8373', '8374', '8375', '8376', '83760', '83763', '8377', '8378', '8379', '83796', '83798', '838', '8380', '83803', '8381', '83827', '8383', '83835', '8384', '8385', '8387', '839', '83910', '8395', '83962', '83976', '84', '840', '8401', '8404', '84047', '8405', '841', '84116', '84137', '84152', '84156', '84187', '84189', '842', '84228', '8424', '84242', '8426', '8427', '84273', '84296', '843', '84302', '84304', '84312', '84374', '84387', '84392', '84395', '844', '8446', '84467', '8447', '84471', '8448', '845', '8451', '84510', '84557', '8456', '84570', '8459', '846', '84601', '84613', '84615', '84621', '84637', '8464', '8469', '847', '84732', '84764', '8477', '84772', '84775', '8478', '84796', '848', '8480', '84805', '84807', '8482', '8483', '8484', '84844', '8485', '8486', '8487', '849', '8491', '8492', '8493', '84942', '84944', '84950', '84952', '84954', '8496', '8499', '85', '850', '8500', '85007', '8501', '85016', '8502', '85020', '85022', '85025', '8504', '8505', '85056', '8507', '851', '8511', '8512', '85129', '85131', '8516', '85177', '85179', '8518', '852', '8520', '8521', '85211', '85213', '8524', '85259', '8526', '85261', '85268', '8527', '8528', '8529', '85295', '853', '8530', '8531', '85312', '85316', '8532', '8533', '8534', '85342', '8535', '85354', '85367', '8537', '85394', '85397', '85399', '854', '85401', '85412', '85414', '8542', '8543', '85438', '855', '85510', '85540', '85565', '856', '857', '8571', '8572', '8573', '8575', '8576', '85763', '85774', '85777', '8578', '85788', '85790', '85796', '858', '8580', '8581', '8582', '8583', '8584', '85881', '85885', '8589', '8591', '8593', '8595', '8596', '8598', '86', '860', '8600', '86000', '86002', '8601', '86014', '8602', '86028', '8604', '8605', '86059', '8607', '8608', '86089', '8609', '861', '8610', '8613', '8614', '86142', '86151', '8616', '8617', '8618', '86190', '862', '8620', '86206', '8622', '8623', '86233', '86237', '86244', '86277', '86279', '86288', '8629', '86290', '86293', '86295', '86298', '86300', '86320', '8633', '86332', '8634', '86345', '86347', '86355', '8636', '86377', '8638', '86380', '8639', '864', '8640', '86401', '86408', '8641', '8642', '8643', '86438', '8644', '8645', '86476', '86487', '8649', '865', '8650', '8651', '86548', '8656', '866', '86628', '86644', '8665', '8666', '8667', '867', '8670', '86723', '86725', '86728', '8675', '86781', '868', '8681', '86815', '86817', '86833', '86835', '8684', '8685', '86852', '86862', '86866', '8687', '86880', '86882', '86884', '8689', '86892', '86898', '869', '8690', '86911', '86922', '8695', '8698', '86982', '87', '870', '87004', '87028', '87042', '87079', '8709', '871', '87105', '8712', '8713', '8718', '87192', '872', '8720', '87205', '8721', '87222', '87232', '87234', '8724', '8727', '8729', '87298', '873', '8730', '87304', '87306', '8731', '87314', '8732', '8738', '8739', '874', '87410', '87413', '8742', '87430', '87435', '87444', '87483', '87485', '8749', '875', '8751', '87511', '8752', '87520', '87522', '87529', '8753', '8754', '8755', '87589', '876', '8760', '8761', '87618', '8763', '87642', '8765', '87660', '8767', '8768', '877', '8772', '8773', '8778', '87785', '8779', '87790', '878', '8780', '87802', '8781', '8782', '8783', '8784', '8785', '8786', '87867', '87869', '87876', '8788', '879', '87909', '87911', '87913', '87928', '87930', '8794', '8796', '87964', '8797', '8798', '8799', '88', '880', '8800', '8801', '88022', '8803', '88067', '88069', '8807', '8808', '8809', '881', '8810', '88108', '8811', '88118', '88125', '88129', '8813', '88131', '88133', '88138', '8814', '88140', '8815', '88163', '88173', '88179', '882', '88235', '88248', '88267', '8827', '88272', '88299', '8830', '8831', '8832', '88321', '8833', '8834', '88356', '8836', '8838', '88380', '8839', '884', '88405', '8844', '88468', '8848', '88495', '885', '8850', '8851', '8852', '88570', '88572', '8859', '88593', '88595', '886', '8860', '88605', '8861', '8862', '8864', '8865', '8866', '88672', '8868', '8869', '887', '8870', '8871', '8872', '88724', '8873', '8874', '88744', '88746', '88764', '88785', '8879', '8880', '8881', '88810', '88812', '88835', '8884', '8885', '8887', '889', '8890', '8891', '88911', '8892', '88925', '8893', '88932', '8894', '8895', '88954', '88979', '8898', '8899', '89', '890', '89000', '89002', '89018', '89028', '89030', '89039', '89047', '8905', '8906', '8907', '89072', '89074', '8908', '89085', '89087', '89090', '891', '8910', '89102', '8911', '89118', '8912', '8913', '8914', '8915', '8916', '8917', '8918', '8919', '89190', '892', '8920', '89217', '8922', '8923', '89246', '89260', '8927', '8928', '8929', '893', '8930', '89302', '89305', '8931', '89321', '89327', '8933', '89337', '8934', '89343', '89347', '8935', '89356', '8937', '89371', '8938', '89386', '89388', '8939', '894', '89427', '8943', '8944', '8946', '8947', '89470', '8948', '89480', '8949', '89490', '89492', '895', '8950', '8951', '8952', '89535', '8954', '8955', '89554', '8956', '8957', '8958', '89580', '89582', '8959', '89592', '896', '8961', '8962', '89620', '8964', '8965', '89650', '8966', '8967', '89678', '8968', '8969', '897', '8970', '8972', '8973', '8974', '89745', '89753', '89759', '89761', '8977', '89774', '8978', '898', '8980', '89804', '8981', '8983', '89837', '8984', '89840', '8985', '89850', '8986', '89864', '8987', '8989', '89896', '89898', '899', '89900', '89904', '89924', '89939', '89945', '89961', '89973', '8998', '89985', '8999', '9', '90', '900', '9000', '90017', '9004', '9005', '90057', '90068', '90071', '9009', '901', '9010', '9014', '90154', '90172', '9018', '90199', '902', '90243', '90249', '90254', '90266', '903', '90306', '90343', '90345', '90357', '90364', '90374', '90376', '90378', '90382', '904', '90403', '90405', '90413', '90421', '90428', '90430', '90439', '90460', '90469', '90471', '90474', '90476', '905', '90522', '90524', '90528', '90531', '90576', '90578', '906', '90600', '90620', '90624', '90630', '90645', '90647', '90649', '907', '90717', '90719', '90738', '90746', '908', '90809', '90813', '90821', '90827', '90866', '90870', '90873', '90888', '90890', '909', '90914', '90933', '90939', '90943', '90947', '910', '91077', '91079', '91094', '911', '91104', '91126', '91128', '91134', '91199', '912', '91211', '91266', '91273', '91290', '913', '91323', '91325', '91337', '91355', '91360', '91386', '914', '91414', '91474', '91483', '91485', '91488', '915', '91500', '91505', '91515', '91529', '91535', '91542', '91548', '91571', '916', '91622', '91626', '91628', '91630', '91653', '91655', '91658', '91660', '91666', '91671', '91673', '91681', '91690', '91697', '917', '91741', '91743', '918', '91808', '91821', '91823', '91826', '91831', '91834', '91842', '91844', '91873', '91886', '91888', '91890', '919', '91902', '91929', '91947', '91954', '91957', '91972', '91974', '91976', '91978', '91983', '91991', '92', '920', '92008', '92048', '92058', '921', '92106', '92130', '92192', '922', '92204', '92210', '92234', '92243', '92259', '92264', '92270', '923', '92307', '92309', '92335', '92391', '92393', '924', '92420', '92422', '92427', '92439', '92475', '92481', '92507', '92509', '92511', '926', '92643', '92665', '92681', '92687', '92694', '927', '92719', '92730', '928', '92817', '92841', '929', '92904', '92920', '92923', '92938', '92944', '93', '930', '93024', '93040', '931', '93126', '93142', '93164', '93193', '932', '93208', '93212', '93240', '93242', '93265', '93270', '93272', '93287', '93297', '933', '93324', '93326', '93363', '934', '93420', '93422', '93432', '93443', '93473', '93475', '93498', '935', '93510', '93512', '93550', '93563', '93570', '93574', '93578', '936', '93610', '93693', '937', '93721', '93740', '93748', '93752', '93766', '938', '93803', '93805', '93819', '93831', '93838', '93840', '93855', '93892', '939', '93909', '93921', '93923', '93933', '93939', '93946', '93980', '93982', '93988', '94', '940', '94015', '94018', '94068', '94070', '94074', '941', '94112', '94126', '94130', '94155', '942', '94266', '94271', '94289', '943', '94323', '94325', '944', '94403', '94405', '94410', '94417', '94469', '94473', '94478', '94480', '94482', '94494', '945', '94503', '94537', '94558', '946', '94663', '94672', '94675', '94677', '947', '94733', '94752', '94777', '94780', '94799', '948', '94810', '94813', '94815', '94833', '94864', '94867', '94891', '94896', '949', '94931', '94939', '94941', '94953', '94959', '94967', '94969', '94985', '95', '950', '95002', '95058', '95067', '95088', '951', '95105', '95135', '95157', '95167', '95197', '95199', '952', '95201', '95207', '95237', '95296', '95298', '953', '95307', '95309', '95311', '95375', '954', '95441', '95443', '95449', '95461', '95488', '955', '95510', '95543', '95558', '95567', '95583', '956', '95602', '95604', '95654', '95670', '957', '95717', '95720', '95744', '95754', '95761', '95773', '958', '95804', '95858', '95873', '95875', '959', '95939', '96', '960', '96020', '96064', '96075', '96079', '961', '96110', '96121', '96150', '962', '96212', '96218', '96252', '96281', '96283', '963', '96306', '96314', '96367', '964', '96407', '96411', '96417', '96430', '96432', '96448', '96456', '96460', '96467', '96488', '96490', '965', '96501', '96510', '96512', '96563', '96565', '96567', '96588', '96590', '96592', '966', '96606', '96610', '96612', '96616', '96621', '96655', '96691', '96693', '967', '96700', '96724', '96726', '96728', '96737', '96751', '968', '96811', '96815', '96821', '96829', '96832', '96834', '96849', '96857', '96861', '96863', '96868', '969', '96911', '96917', '96950', '96964', '96966', '96969', '96975', '97', '970', '97024', '97051', '97057', '971', '97168', '97172', '97188', '97194', '972', '97225', '97232', '97240', '97280', '973', '97304', '97306', '97311', '97324', '97328', '97388', '97390', '97393', '97395', '974', '97423', '97462', '97470', '975', '97540', '97597', '976', '97639', '97643', '97660', '97662', '97665', '97673', '977', '97701', '97742', '97744', '97752', '97757', '97779', '97785', '97797', '97832', '97836', '97853', '97858', '97860', '97866', '97870', '97895', '979', '97913', '97921', '97923', '97936', '97938', '97946', '97957', '97966', '97984', '97988', '98', '980', '98017', '98052', '98054', '98056', '98061', '98065', '98087', '981', '98122', '98154', '98160', '98193', '98198', '982', '98203', '98217', '98230', '98239', '98243', '98246', '98279', '98296', '983', '98361', '98373', '984', '98475', '98491', '985', '98570', '98585', '986', '98604', '98607', '98629', '987', '988', '98809', '98836', '98847', '989', '98911', '98956', '98961', '98973', '99', '990', '99007', '99024', '99030', '99045', '99047', '99054', '99058', '99087', '991', '99106', '99110', '99112', '99114', '99117', '99145', '99149', '99178', '992', '99220', '99249', '99258', '99294', '993', '99367', '99371', '99373', '994', '99402', '99413', '99437', '99468', '99470', '99502', '99574', '996', '99636', '99642', '997', '99708', '99721', '99728', '99750', '99764', '99787', '99795', '998', '99822', '99841', '999', '99906', '99910', '99912', '99917', '99957', '99964', '99986']\n"
          ],
          "name": "stdout"
        }
      ]
    },
    {
      "cell_type": "code",
      "metadata": {
        "id": "LzpgVBAdlLkM",
        "colab_type": "code",
        "colab": {}
      },
      "source": [
        "VOC_FNAME = \"vocab.txt\"\n",
        "\n",
        "with open(VOC_FNAME, \"w\") as fo:\n",
        "  for token in bert_vocab:\n",
        "    fo.write(token+\"\\n\")"
      ],
      "execution_count": 9,
      "outputs": []
    },
    {
      "cell_type": "code",
      "metadata": {
        "id": "1uIHHmNPlQd8",
        "colab_type": "code",
        "colab": {}
      },
      "source": [
        "from pathlib import Path\n",
        "\n",
        "from tokenizers import ByteLevelBPETokenizer\n",
        "\n",
        "#paths = [str(x) for x in Path(\".\").glob(\"**/*.txt\")]\n",
        "paths = '/content/vocab.txt'\n",
        "# Initialize a tokenizer\n",
        "tokenizer = ByteLevelBPETokenizer()\n",
        "\n",
        "# Customize training\n",
        "tokenizer.train(files=paths, vocab_size=52_000, min_frequency=1, special_tokens=[\n",
        "    \"<s>\",\n",
        "    \"<pad>\",\n",
        "    \"</s>\",\n",
        "    \"<unk>\",\n",
        "    \"<mask>\",\n",
        "])"
      ],
      "execution_count": 10,
      "outputs": []
    },
    {
      "cell_type": "code",
      "metadata": {
        "id": "JFWTqw9Fl4A-",
        "colab_type": "code",
        "colab": {
          "base_uri": "https://localhost:8080/",
          "height": 35
        },
        "outputId": "5aa3f57c-81dc-4b10-dbbc-66773886a1e3"
      },
      "source": [
        "!mkdir BERT\n",
        "tokenizer.save_model(\"BERT\")"
      ],
      "execution_count": 11,
      "outputs": [
        {
          "output_type": "execute_result",
          "data": {
            "text/plain": [
              "['BERT/vocab.json', 'BERT/merges.txt']"
            ]
          },
          "metadata": {
            "tags": []
          },
          "execution_count": 11
        }
      ]
    },
    {
      "cell_type": "code",
      "metadata": {
        "id": "R26thLQcl7RI",
        "colab_type": "code",
        "colab": {}
      },
      "source": [
        "from tokenizers.implementations import ByteLevelBPETokenizer\n",
        "from tokenizers.processors import BertProcessing\n",
        "\n",
        "\n",
        "tokenizer = ByteLevelBPETokenizer(\n",
        "    'BERT/vocab.json', 'BERT/merges.txt'\n",
        ")"
      ],
      "execution_count": 12,
      "outputs": []
    },
    {
      "cell_type": "code",
      "metadata": {
        "id": "unEFsRuvl7UW",
        "colab_type": "code",
        "colab": {}
      },
      "source": [
        "tokenizer._tokenizer.post_processor = BertProcessing(\n",
        "    (\"</s>\", tokenizer.token_to_id(\"</s>\")),\n",
        "    (\"<s>\", tokenizer.token_to_id(\"<s>\")),\n",
        ")\n",
        "tokenizer.enable_truncation(max_length=512)"
      ],
      "execution_count": 13,
      "outputs": []
    },
    {
      "cell_type": "code",
      "metadata": {
        "id": "E3Ye27nchfzq",
        "colab_type": "code",
        "colab": {
          "base_uri": "https://localhost:8080/",
          "height": 55
        },
        "outputId": "803add72-1cd8-479e-fd60-73a046f268db"
      },
      "source": [
        "tokenizer.encode(\"'5952','2012','0'\")\n",
        "#tokenizer.encode(\"name time place\")"
      ],
      "execution_count": 14,
      "outputs": [
        {
          "output_type": "execute_result",
          "data": {
            "text/plain": [
              "Encoding(num_tokens=13, attributes=[ids, type_ids, tokens, offsets, attention_mask, special_tokens_mask, overflowing])"
            ]
          },
          "metadata": {
            "tags": []
          },
          "execution_count": 14
        }
      ]
    },
    {
      "cell_type": "code",
      "metadata": {
        "id": "X8ya5_7rhjKS",
        "colab_type": "code",
        "colab": {
          "base_uri": "https://localhost:8080/",
          "height": 35
        },
        "outputId": "0f867d24-c2e5-4590-ce42-584245e0d428"
      },
      "source": [
        "tokenizer.encode(\"'5952','2012','0'\").tokens"
      ],
      "execution_count": 15,
      "outputs": [
        {
          "output_type": "execute_result",
          "data": {
            "text/plain": [
              "['<s>', \"'\", '5952', \"'\", ',', \"'\", '2012', \"'\", ',', \"'\", '0', \"'\", '</s>']"
            ]
          },
          "metadata": {
            "tags": []
          },
          "execution_count": 15
        }
      ]
    },
    {
      "cell_type": "code",
      "metadata": {
        "id": "BWHb1ypTockQ",
        "colab_type": "code",
        "colab": {
          "base_uri": "https://localhost:8080/",
          "height": 384
        },
        "outputId": "76d161e2-90e7-4929-830a-01ff0b5193f7"
      },
      "source": [
        "# Check that we have a GPU\n",
        "!nvidia-smi"
      ],
      "execution_count": 16,
      "outputs": [
        {
          "output_type": "stream",
          "text": [
            "Mon Jul 13 12:03:57 2020       \n",
            "+-----------------------------------------------------------------------------+\n",
            "| NVIDIA-SMI 450.36.06    Driver Version: 418.67       CUDA Version: 10.1     |\n",
            "|-------------------------------+----------------------+----------------------+\n",
            "| GPU  Name        Persistence-M| Bus-Id        Disp.A | Volatile Uncorr. ECC |\n",
            "| Fan  Temp  Perf  Pwr:Usage/Cap|         Memory-Usage | GPU-Util  Compute M. |\n",
            "|                               |                      |               MIG M. |\n",
            "|===============================+======================+======================|\n",
            "|   0  Tesla T4            Off  | 00000000:00:04.0 Off |                    0 |\n",
            "| N/A   54C    P8    10W /  70W |      0MiB / 15079MiB |      0%      Default |\n",
            "|                               |                      |                 ERR! |\n",
            "+-------------------------------+----------------------+----------------------+\n",
            "                                                                               \n",
            "+-----------------------------------------------------------------------------+\n",
            "| Processes:                                                                  |\n",
            "|  GPU   GI   CI        PID   Type   Process name                  GPU Memory |\n",
            "|        ID   ID                                                   Usage      |\n",
            "|=============================================================================|\n",
            "|  No running processes found                                                 |\n",
            "+-----------------------------------------------------------------------------+\n"
          ],
          "name": "stdout"
        }
      ]
    },
    {
      "cell_type": "code",
      "metadata": {
        "id": "g7RfOrt9mKGX",
        "colab_type": "code",
        "colab": {
          "base_uri": "https://localhost:8080/",
          "height": 35
        },
        "outputId": "3e126dd8-f016-4e00-d28e-e4aacc3144dd"
      },
      "source": [
        "import torch\n",
        "torch.cuda.is_available()"
      ],
      "execution_count": 17,
      "outputs": [
        {
          "output_type": "execute_result",
          "data": {
            "text/plain": [
              "True"
            ]
          },
          "metadata": {
            "tags": []
          },
          "execution_count": 17
        }
      ]
    },
    {
      "cell_type": "code",
      "metadata": {
        "id": "LsMJ4IqtmKK2",
        "colab_type": "code",
        "colab": {}
      },
      "source": [
        "from transformers import RobertaConfig\n",
        "\n",
        "config = RobertaConfig(\n",
        "    vocab_size=52_000,\n",
        "    max_position_embeddings=514,\n",
        "    num_attention_heads=12,\n",
        "    num_hidden_layers=6,\n",
        "    type_vocab_size=1,\n",
        ")"
      ],
      "execution_count": 18,
      "outputs": []
    },
    {
      "cell_type": "code",
      "metadata": {
        "id": "r8RCpGhrmKO8",
        "colab_type": "code",
        "colab": {}
      },
      "source": [
        "from transformers import RobertaTokenizerFast\n",
        "\n",
        "tokenizer = RobertaTokenizerFast.from_pretrained(\"./BERT\", max_len=512)"
      ],
      "execution_count": 19,
      "outputs": []
    },
    {
      "cell_type": "code",
      "metadata": {
        "id": "9GcjP3QemiFx",
        "colab_type": "code",
        "colab": {}
      },
      "source": [
        "from transformers import RobertaForMaskedLM\n",
        "\n",
        "model = RobertaForMaskedLM(config=config)"
      ],
      "execution_count": 20,
      "outputs": []
    },
    {
      "cell_type": "code",
      "metadata": {
        "id": "Jr5M3tFCmiCP",
        "colab_type": "code",
        "colab": {
          "base_uri": "https://localhost:8080/",
          "height": 35
        },
        "outputId": "8465c47e-843c-4123-941b-5fca73064afb"
      },
      "source": [
        "model.num_parameters()\n",
        "# => 84 million parameters"
      ],
      "execution_count": 21,
      "outputs": [
        {
          "output_type": "execute_result",
          "data": {
            "text/plain": [
              "84095008"
            ]
          },
          "metadata": {
            "tags": []
          },
          "execution_count": 21
        }
      ]
    },
    {
      "cell_type": "code",
      "metadata": {
        "id": "qT7MCkwtmmqe",
        "colab_type": "code",
        "colab": {
          "base_uri": "https://localhost:8080/",
          "height": 54
        },
        "outputId": "84fbad13-76e6-4c77-ce45-238da6b026d5"
      },
      "source": [
        "%%time\n",
        "from transformers import LineByLineTextDataset\n",
        "\n",
        "dataset = LineByLineTextDataset(\n",
        "    tokenizer=tokenizer,\n",
        "    file_path=\"/content/vocab.txt\",\n",
        "    block_size=128,\n",
        ")"
      ],
      "execution_count": 22,
      "outputs": [
        {
          "output_type": "stream",
          "text": [
            "CPU times: user 339 ms, sys: 25.1 ms, total: 364 ms\n",
            "Wall time: 296 ms\n"
          ],
          "name": "stdout"
        }
      ]
    },
    {
      "cell_type": "code",
      "metadata": {
        "id": "Kqod29Wmmmnf",
        "colab_type": "code",
        "colab": {}
      },
      "source": [
        "from transformers import DataCollatorForLanguageModeling\n",
        "\n",
        "data_collator = DataCollatorForLanguageModeling(\n",
        "    tokenizer=tokenizer, mlm=True, mlm_probability=0.15\n",
        ")"
      ],
      "execution_count": 23,
      "outputs": []
    },
    {
      "cell_type": "code",
      "metadata": {
        "id": "a-BrVMBlmh_5",
        "colab_type": "code",
        "colab": {}
      },
      "source": [
        "from transformers import Trainer, TrainingArguments\n",
        "\n",
        "training_args = TrainingArguments(\n",
        "    output_dir=\"./BERT\",\n",
        "    overwrite_output_dir=True,\n",
        "    num_train_epochs=1,\n",
        "    per_gpu_train_batch_size=64,\n",
        "    save_steps=10_000,\n",
        "    save_total_limit=2,\n",
        ")\n",
        "\n",
        "trainer = Trainer(\n",
        "    model=model,\n",
        "    args=training_args,\n",
        "    data_collator=data_collator,\n",
        "    train_dataset=dataset,\n",
        "    prediction_loss_only=True,\n",
        ")"
      ],
      "execution_count": 24,
      "outputs": []
    },
    {
      "cell_type": "code",
      "metadata": {
        "id": "-iop-zfOm9mC",
        "colab_type": "code",
        "colab": {
          "base_uri": "https://localhost:8080/",
          "height": 193,
          "referenced_widgets": [
            "bb54b37682794eaebdd9b5562448a586",
            "6862ac6c7f5742618bfcc32310b2acf3",
            "bf489c538c7d4141b339304eb2eba7c9",
            "103945728b624a7ba71db0de630579f4",
            "0b767dfc8a754b36961171157ae1474a",
            "5a28398fb5d94981802ef14de88e542c",
            "05359343c6364b989dbd03a21623d52c",
            "d21c9df636de419b8668977622ea7e3b",
            "6c770b5f7c754f83891710008baaaf3c",
            "939edc7c13f747a5b62c8808d80c465c",
            "2cd081a29d9840c5b0cbee3abb30b5cd",
            "99099b9e3e5c4b70bde9c7963664fe38",
            "30006928c0024323b538b60aefe79438",
            "01354206dc06476fa6c07239f11c7562",
            "50fa5278a8ab42a7a1c1271e81a539ed",
            "ff52f747f4274cb68acabea066529d67"
          ]
        },
        "outputId": "6ea8d395-1fd5-4414-d2d2-1d637a0ce57d"
      },
      "source": [
        "trainer.train()"
      ],
      "execution_count": 25,
      "outputs": [
        {
          "output_type": "stream",
          "text": [
            "Using deprecated `--per_gpu_train_batch_size` argument which will be removed in a future version. Using `--per_device_train_batch_size` is preferred.\n",
            "Using deprecated `--per_gpu_train_batch_size` argument which will be removed in a future version. Using `--per_device_train_batch_size` is preferred.\n"
          ],
          "name": "stderr"
        },
        {
          "output_type": "display_data",
          "data": {
            "application/vnd.jupyter.widget-view+json": {
              "model_id": "bb54b37682794eaebdd9b5562448a586",
              "version_minor": 0,
              "version_major": 2
            },
            "text/plain": [
              "HBox(children=(FloatProgress(value=0.0, description='Epoch', max=1.0, style=ProgressStyle(description_width='i…"
            ]
          },
          "metadata": {
            "tags": []
          }
        },
        {
          "output_type": "display_data",
          "data": {
            "application/vnd.jupyter.widget-view+json": {
              "model_id": "6c770b5f7c754f83891710008baaaf3c",
              "version_minor": 0,
              "version_major": 2
            },
            "text/plain": [
              "HBox(children=(FloatProgress(value=0.0, description='Iteration', max=228.0, style=ProgressStyle(description_wi…"
            ]
          },
          "metadata": {
            "tags": []
          }
        },
        {
          "output_type": "stream",
          "text": [
            "\n",
            "\n"
          ],
          "name": "stdout"
        },
        {
          "output_type": "execute_result",
          "data": {
            "text/plain": [
              "TrainOutput(global_step=228, training_loss=11.016607309642591)"
            ]
          },
          "metadata": {
            "tags": []
          },
          "execution_count": 25
        }
      ]
    },
    {
      "cell_type": "code",
      "metadata": {
        "id": "eB3XCYM0nDuT",
        "colab_type": "code",
        "colab": {}
      },
      "source": [
        "trainer.save_model(\"./BERT\")"
      ],
      "execution_count": 26,
      "outputs": []
    },
    {
      "cell_type": "code",
      "metadata": {
        "id": "ltXgXyCbAJLY",
        "colab_type": "code",
        "colab": {
          "base_uri": "https://localhost:8080/",
          "height": 74
        },
        "outputId": "ee1ced6c-aba7-4a83-8e18-3c62456fb8ea"
      },
      "source": [
        "from transformers import pipeline\n",
        "\n",
        "fill_mask = pipeline(\n",
        "    \"fill-mask\",\n",
        "    model=\"./BERT\",\n",
        "    tokenizer=\"./BERT\"\n",
        ")"
      ],
      "execution_count": 27,
      "outputs": [
        {
          "output_type": "stream",
          "text": [
            "/usr/local/lib/python3.6/dist-packages/transformers/modeling_auto.py:799: FutureWarning: The class `AutoModelWithLMHead` is deprecated and will be removed in a future version. Please use `AutoModelForCausalLM` for causal language models, `AutoModelForMaskedLM` for masked language models and `AutoModelForSeq2SeqLM` for encoder-decoder models.\n",
            "  FutureWarning,\n"
          ],
          "name": "stderr"
        }
      ]
    },
    {
      "cell_type": "code",
      "metadata": {
        "id": "UIvgZ3S6AO0z",
        "colab_type": "code",
        "colab": {
          "base_uri": "https://localhost:8080/",
          "height": 384
        },
        "outputId": "6caacf49-8374-4dee-eb86-a358f32283b7"
      },
      "source": [
        "# The sun <mask>.\n",
        "# =>\n",
        "#106916\n",
        "fill_mask(\"'51935', '69526' <mask>.\")"
      ],
      "execution_count": 28,
      "outputs": [
        {
          "output_type": "execute_result",
          "data": {
            "text/plain": [
              "[{'score': 0.0004853794234804809,\n",
              "  'sequence': \"<s>'51935', '69526'8208.</s>\",\n",
              "  'token': 3287,\n",
              "  'token_str': '8208'},\n",
              " {'score': 0.000341729202773422,\n",
              "  'sequence': \"<s>'51935', '69526'99708.</s>\",\n",
              "  'token': 7885,\n",
              "  'token_str': '99708'},\n",
              " {'score': 0.00033833339693956077,\n",
              "  'sequence': \"<s>'51935', '69526'4392.</s>\",\n",
              "  'token': 9766,\n",
              "  'token_str': '4392'},\n",
              " {'score': 0.00033173381234519184,\n",
              "  'sequence': \"<s>'51935', '69526'134182.</s>\",\n",
              "  'token': 9396,\n",
              "  'token_str': '134182'},\n",
              " {'score': 0.00033075109240598977,\n",
              "  'sequence': \"<s>'51935', '69526'163134.</s>\",\n",
              "  'token': 10659,\n",
              "  'token_str': '163134'}]"
            ]
          },
          "metadata": {
            "tags": []
          },
          "execution_count": 28
        }
      ]
    },
    {
      "cell_type": "code",
      "metadata": {
        "id": "YZ9HSQxAAbme",
        "colab_type": "code",
        "colab": {
          "base_uri": "https://localhost:8080/",
          "height": 384
        },
        "outputId": "a305f38b-83d0-4ff9-cc20-6a6d88269c40"
      },
      "source": [
        "fill_mask(\"'4709', '96079', '924', '148426', '168612' <mask>.\")\n",
        "#1265\n",
        "# This is the beginning of a <mask>.\n",
        "# =>"
      ],
      "execution_count": 29,
      "outputs": [
        {
          "output_type": "execute_result",
          "data": {
            "text/plain": [
              "[{'score': 0.0004963272367604077,\n",
              "  'sequence': \"<s>'4709', '96079', '924', '148426', '168612'8208.</s>\",\n",
              "  'token': 3287,\n",
              "  'token_str': '8208'},\n",
              " {'score': 0.0003406334144528955,\n",
              "  'sequence': \"<s>'4709', '96079', '924', '148426', '168612'4392.</s>\",\n",
              "  'token': 9766,\n",
              "  'token_str': '4392'},\n",
              " {'score': 0.00033609839738346636,\n",
              "  'sequence': \"<s>'4709', '96079', '924', '148426', '168612'99708.</s>\",\n",
              "  'token': 7885,\n",
              "  'token_str': '99708'},\n",
              " {'score': 0.0003311001055408269,\n",
              "  'sequence': \"<s>'4709', '96079', '924', '148426', '168612'27815.</s>\",\n",
              "  'token': 9733,\n",
              "  'token_str': '27815'},\n",
              " {'score': 0.00032022313098423183,\n",
              "  'sequence': \"<s>'4709', '96079', '924', '148426', '168612'134182.</s>\",\n",
              "  'token': 9396,\n",
              "  'token_str': '134182'}]"
            ]
          },
          "metadata": {
            "tags": []
          },
          "execution_count": 29
        }
      ]
    },
    {
      "cell_type": "code",
      "metadata": {
        "id": "pxqtP6HBsdLm",
        "colab_type": "code",
        "colab": {}
      },
      "source": [
        ""
      ],
      "execution_count": 29,
      "outputs": []
    }
  ]
}