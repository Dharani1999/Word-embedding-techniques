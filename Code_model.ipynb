{
  "nbformat": 4,
  "nbformat_minor": 0,
  "metadata": {
    "colab": {
      "name": "Code_model.ipynb",
      "provenance": [],
      "mount_file_id": "1wgpB7rU7rrk4BnoapdXtGyFmepqlRw6K",
      "authorship_tag": "ABX9TyNSfAnpJ9pKzVhMJWJ2pBld",
      "include_colab_link": true
    },
    "kernelspec": {
      "name": "python3",
      "display_name": "Python 3"
    },
    "accelerator": "GPU"
  },
  "cells": [
    {
      "cell_type": "markdown",
      "metadata": {
        "id": "view-in-github",
        "colab_type": "text"
      },
      "source": [
        "<a href=\"https://colab.research.google.com/github/Dharani1999/Word-embedding-techniques/blob/master/Code_model.ipynb\" target=\"_parent\"><img src=\"https://colab.research.google.com/assets/colab-badge.svg\" alt=\"Open In Colab\"/></a>"
      ]
    },
    {
      "cell_type": "code",
      "metadata": {
        "id": "GTPPDaIkL-DE",
        "colab_type": "code",
        "colab": {}
      },
      "source": [
        "import pandas as pd\n",
        "import numpy as np\n",
        "from gensim.models import LsiModel\n",
        "from gensim.models import Word2Vec"
      ],
      "execution_count": 1,
      "outputs": []
    },
    {
      "cell_type": "code",
      "metadata": {
        "id": "-fMyc_f5O6W2",
        "colab_type": "code",
        "colab": {}
      },
      "source": [
        "max_seq_length = 100"
      ],
      "execution_count": 2,
      "outputs": []
    },
    {
      "cell_type": "code",
      "metadata": {
        "id": "JW14h9CXNcS7",
        "colab_type": "code",
        "colab": {
          "base_uri": "https://localhost:8080/",
          "height": 206
        },
        "outputId": "84ed6839-f503-4d17-fab9-e1fa80042da1"
      },
      "source": [
        "ratings1 = pd.read_csv('/content/drive/My Drive/Movielensdata/ml25m/ratings.csv')\n",
        "ratings = ratings1.iloc[0:1000,:]\n",
        "ratings.head()"
      ],
      "execution_count": 3,
      "outputs": [
        {
          "output_type": "execute_result",
          "data": {
            "text/html": [
              "<div>\n",
              "<style scoped>\n",
              "    .dataframe tbody tr th:only-of-type {\n",
              "        vertical-align: middle;\n",
              "    }\n",
              "\n",
              "    .dataframe tbody tr th {\n",
              "        vertical-align: top;\n",
              "    }\n",
              "\n",
              "    .dataframe thead th {\n",
              "        text-align: right;\n",
              "    }\n",
              "</style>\n",
              "<table border=\"1\" class=\"dataframe\">\n",
              "  <thead>\n",
              "    <tr style=\"text-align: right;\">\n",
              "      <th></th>\n",
              "      <th>userId</th>\n",
              "      <th>movieId</th>\n",
              "      <th>rating</th>\n",
              "      <th>timestamp</th>\n",
              "    </tr>\n",
              "  </thead>\n",
              "  <tbody>\n",
              "    <tr>\n",
              "      <th>0</th>\n",
              "      <td>1</td>\n",
              "      <td>296</td>\n",
              "      <td>5.0</td>\n",
              "      <td>1147880044</td>\n",
              "    </tr>\n",
              "    <tr>\n",
              "      <th>1</th>\n",
              "      <td>1</td>\n",
              "      <td>306</td>\n",
              "      <td>3.5</td>\n",
              "      <td>1147868817</td>\n",
              "    </tr>\n",
              "    <tr>\n",
              "      <th>2</th>\n",
              "      <td>1</td>\n",
              "      <td>307</td>\n",
              "      <td>5.0</td>\n",
              "      <td>1147868828</td>\n",
              "    </tr>\n",
              "    <tr>\n",
              "      <th>3</th>\n",
              "      <td>1</td>\n",
              "      <td>665</td>\n",
              "      <td>5.0</td>\n",
              "      <td>1147878820</td>\n",
              "    </tr>\n",
              "    <tr>\n",
              "      <th>4</th>\n",
              "      <td>1</td>\n",
              "      <td>899</td>\n",
              "      <td>3.5</td>\n",
              "      <td>1147868510</td>\n",
              "    </tr>\n",
              "  </tbody>\n",
              "</table>\n",
              "</div>"
            ],
            "text/plain": [
              "   userId  movieId  rating   timestamp\n",
              "0       1      296     5.0  1147880044\n",
              "1       1      306     3.5  1147868817\n",
              "2       1      307     5.0  1147868828\n",
              "3       1      665     5.0  1147878820\n",
              "4       1      899     3.5  1147868510"
            ]
          },
          "metadata": {
            "tags": []
          },
          "execution_count": 3
        }
      ]
    },
    {
      "cell_type": "markdown",
      "metadata": {
        "id": "eAEY8YkSDimZ",
        "colab_type": "text"
      },
      "source": [
        "**Sorting the dataframe**"
      ]
    },
    {
      "cell_type": "code",
      "metadata": {
        "id": "o3T0iPjkO6LV",
        "colab_type": "code",
        "colab": {
          "base_uri": "https://localhost:8080/",
          "height": 109
        },
        "outputId": "c37e3870-d2bf-4ffc-fadb-501688845b7a"
      },
      "source": [
        "ratings.sort_values(by=['userId','timestamp'],inplace=True)"
      ],
      "execution_count": 4,
      "outputs": [
        {
          "output_type": "stream",
          "text": [
            "/usr/local/lib/python3.6/dist-packages/ipykernel_launcher.py:1: SettingWithCopyWarning: \n",
            "A value is trying to be set on a copy of a slice from a DataFrame\n",
            "\n",
            "See the caveats in the documentation: https://pandas.pydata.org/pandas-docs/stable/user_guide/indexing.html#returning-a-view-versus-a-copy\n",
            "  \"\"\"Entry point for launching an IPython kernel.\n"
          ],
          "name": "stderr"
        }
      ]
    },
    {
      "cell_type": "code",
      "metadata": {
        "id": "kKg6myeBO6kf",
        "colab_type": "code",
        "colab": {
          "base_uri": "https://localhost:8080/",
          "height": 363
        },
        "outputId": "604932d5-dc54-4abb-afc3-8551e3f4881a"
      },
      "source": [
        "ratings.head(10)"
      ],
      "execution_count": 5,
      "outputs": [
        {
          "output_type": "execute_result",
          "data": {
            "text/html": [
              "<div>\n",
              "<style scoped>\n",
              "    .dataframe tbody tr th:only-of-type {\n",
              "        vertical-align: middle;\n",
              "    }\n",
              "\n",
              "    .dataframe tbody tr th {\n",
              "        vertical-align: top;\n",
              "    }\n",
              "\n",
              "    .dataframe thead th {\n",
              "        text-align: right;\n",
              "    }\n",
              "</style>\n",
              "<table border=\"1\" class=\"dataframe\">\n",
              "  <thead>\n",
              "    <tr style=\"text-align: right;\">\n",
              "      <th></th>\n",
              "      <th>userId</th>\n",
              "      <th>movieId</th>\n",
              "      <th>rating</th>\n",
              "      <th>timestamp</th>\n",
              "    </tr>\n",
              "  </thead>\n",
              "  <tbody>\n",
              "    <tr>\n",
              "      <th>36</th>\n",
              "      <td>1</td>\n",
              "      <td>5952</td>\n",
              "      <td>4.0</td>\n",
              "      <td>1147868053</td>\n",
              "    </tr>\n",
              "    <tr>\n",
              "      <th>13</th>\n",
              "      <td>1</td>\n",
              "      <td>2012</td>\n",
              "      <td>2.5</td>\n",
              "      <td>1147868068</td>\n",
              "    </tr>\n",
              "    <tr>\n",
              "      <th>12</th>\n",
              "      <td>1</td>\n",
              "      <td>2011</td>\n",
              "      <td>2.5</td>\n",
              "      <td>1147868079</td>\n",
              "    </tr>\n",
              "    <tr>\n",
              "      <th>11</th>\n",
              "      <td>1</td>\n",
              "      <td>1653</td>\n",
              "      <td>4.0</td>\n",
              "      <td>1147868097</td>\n",
              "    </tr>\n",
              "    <tr>\n",
              "      <th>9</th>\n",
              "      <td>1</td>\n",
              "      <td>1250</td>\n",
              "      <td>4.0</td>\n",
              "      <td>1147868414</td>\n",
              "    </tr>\n",
              "    <tr>\n",
              "      <th>40</th>\n",
              "      <td>1</td>\n",
              "      <td>6539</td>\n",
              "      <td>3.5</td>\n",
              "      <td>1147868461</td>\n",
              "    </tr>\n",
              "    <tr>\n",
              "      <th>39</th>\n",
              "      <td>1</td>\n",
              "      <td>6377</td>\n",
              "      <td>4.0</td>\n",
              "      <td>1147868469</td>\n",
              "    </tr>\n",
              "    <tr>\n",
              "      <th>21</th>\n",
              "      <td>1</td>\n",
              "      <td>3448</td>\n",
              "      <td>4.0</td>\n",
              "      <td>1147868480</td>\n",
              "    </tr>\n",
              "    <tr>\n",
              "      <th>5</th>\n",
              "      <td>1</td>\n",
              "      <td>1088</td>\n",
              "      <td>4.0</td>\n",
              "      <td>1147868495</td>\n",
              "    </tr>\n",
              "    <tr>\n",
              "      <th>4</th>\n",
              "      <td>1</td>\n",
              "      <td>899</td>\n",
              "      <td>3.5</td>\n",
              "      <td>1147868510</td>\n",
              "    </tr>\n",
              "  </tbody>\n",
              "</table>\n",
              "</div>"
            ],
            "text/plain": [
              "    userId  movieId  rating   timestamp\n",
              "36       1     5952     4.0  1147868053\n",
              "13       1     2012     2.5  1147868068\n",
              "12       1     2011     2.5  1147868079\n",
              "11       1     1653     4.0  1147868097\n",
              "9        1     1250     4.0  1147868414\n",
              "40       1     6539     3.5  1147868461\n",
              "39       1     6377     4.0  1147868469\n",
              "21       1     3448     4.0  1147868480\n",
              "5        1     1088     4.0  1147868495\n",
              "4        1      899     3.5  1147868510"
            ]
          },
          "metadata": {
            "tags": []
          },
          "execution_count": 5
        }
      ]
    },
    {
      "cell_type": "code",
      "metadata": {
        "id": "fa3dQvjMS9X_",
        "colab_type": "code",
        "colab": {
          "base_uri": "https://localhost:8080/",
          "height": 35
        },
        "outputId": "df4e7736-1b54-41c1-bed3-52812a6bbcbc"
      },
      "source": [
        "users_total = len(ratings['userId'].unique())\n",
        "print(users_total)"
      ],
      "execution_count": 6,
      "outputs": [
        {
          "output_type": "stream",
          "text": [
            "4\n"
          ],
          "name": "stdout"
        }
      ]
    },
    {
      "cell_type": "markdown",
      "metadata": {
        "id": "MGE4C9S9D1aJ",
        "colab_type": "text"
      },
      "source": [
        "**Selecting the most recent movies rated by each user and padding if necessary**"
      ]
    },
    {
      "cell_type": "code",
      "metadata": {
        "id": "Z3IOw1dWn7VZ",
        "colab_type": "code",
        "colab": {}
      },
      "source": [
        "movie_list = []\n",
        "for i in range(users_total):\n",
        "  list1 = []\n",
        "  list1 = ratings.loc[ratings['userId'] ==(i+1),['movieId']]['movieId'].tolist()\n",
        "  if len(list1)>max_seq_length:\n",
        "    list1 = list1[(len(list1)-max_seq_length):]\n",
        "  elif len(list1)<max_seq_length:\n",
        "    for j in range((max_seq_length-len(list1))):\n",
        "      list1.append(0)\n",
        "  movie_list.append(list1)\n",
        "#print(movie_list)"
      ],
      "execution_count": 7,
      "outputs": []
    },
    {
      "cell_type": "markdown",
      "metadata": {
        "id": "_u-upeTYEBKB",
        "colab_type": "text"
      },
      "source": [
        "**Selecting the most recent ratings of each user and padding if necessary**"
      ]
    },
    {
      "cell_type": "code",
      "metadata": {
        "id": "cycBk8xyyuiG",
        "colab_type": "code",
        "colab": {}
      },
      "source": [
        "rating_list =[]\n",
        "for i in range(users_total):\n",
        "  list2 = []\n",
        "  list2 = ratings.loc[ratings['userId'] ==(i+1),['rating']]['rating'].tolist()\n",
        "  if len(list2)>max_seq_length:\n",
        "    list2 = list2[(len(list2)-max_seq_length):]\n",
        "  elif len(list2)<max_seq_length:\n",
        "    for j in range((max_seq_length-len(list2))):\n",
        "      list2.append(0)\n",
        "  rating_list.append(list2)\n",
        "#print(rating_list)"
      ],
      "execution_count": 8,
      "outputs": []
    },
    {
      "cell_type": "code",
      "metadata": {
        "id": "OXS7e463S8yw",
        "colab_type": "code",
        "colab": {
          "base_uri": "https://localhost:8080/",
          "height": 164
        },
        "outputId": "f0d0ac71-887f-4b9e-b703-c476f334e568"
      },
      "source": [
        "movies_transpose = pd.DataFrame(data=movie_list,index=[i+1 for i in range(users_total)])\n",
        "movies_transpose.index.names = ['userId']\n",
        "print(movies_transpose)"
      ],
      "execution_count": 9,
      "outputs": [
        {
          "output_type": "stream",
          "text": [
            "            0     1     2       3     4   ...     95      96     97    98    99\n",
            "userId                                    ...                                  \n",
            "1         5952  2012  2011    1653  1250  ...      0       0      0     0     0\n",
            "2         4306  8368  8360    3793  4995  ...   2987    1293   7090  1136  2150\n",
            "3       176371  3968  8983  102407  6548  ...  88125  106489  81834  4262  1732\n",
            "4         8665  8961  4993    1580  5444  ...      0       0      0     0     0\n",
            "\n",
            "[4 rows x 100 columns]\n"
          ],
          "name": "stdout"
        }
      ]
    },
    {
      "cell_type": "code",
      "metadata": {
        "id": "KHvK0xqgQ-ql",
        "colab_type": "code",
        "colab": {
          "base_uri": "https://localhost:8080/",
          "height": 164
        },
        "outputId": "001ee857-9216-4e7b-84d9-3dfd9cdf13d8"
      },
      "source": [
        "ratings_transpose = pd.DataFrame(data=rating_list,index=[i+1 for i in range(users_total)])\n",
        "ratings_transpose.index.names = ['userId']\n",
        "print(ratings_transpose)"
      ],
      "execution_count": 10,
      "outputs": [
        {
          "output_type": "stream",
          "text": [
            "         0    1    2    3    4    5    6   ...   93   94   95   96   97   98   99\n",
            "userId                                     ...                                   \n",
            "1       4.0  2.5  2.5  4.0  4.0  3.5  4.0  ...  0.0  0.0  0.0  0.0  0.0  0.0  0.0\n",
            "2       4.5  5.0  4.0  5.0  5.0  4.0  5.0  ...  0.5  3.0  0.5  5.0  2.0  5.0  5.0\n",
            "3       4.5  3.0  4.0  4.0  3.0  4.0  3.5  ...  2.5  4.0  3.5  3.5  3.5  4.5  4.5\n",
            "4       3.5  5.0  4.5  4.5  4.0  4.0  4.0  ...  0.0  0.0  0.0  0.0  0.0  0.0  0.0\n",
            "\n",
            "[4 rows x 100 columns]\n"
          ],
          "name": "stdout"
        }
      ]
    },
    {
      "cell_type": "code",
      "metadata": {
        "id": "vQlNGUIjQ-yy",
        "colab_type": "code",
        "colab": {}
      },
      "source": [
        "# Select features from original dataset to form a new dataframe \n",
        "df1 = ratings_transpose.iloc[:]# For each row, combine all the columns into one column\n",
        "df2 = df1.apply(lambda x: ','.join(x.astype(str)), axis=1)# Store them in a pandas dataframe\n",
        "df_clean = pd.DataFrame({'clean': df2})# Create the list of list format of the custom corpus for gensim modeling \n",
        "sent = [row.split(',') for row in df_clean['clean']]"
      ],
      "execution_count": 11,
      "outputs": []
    },
    {
      "cell_type": "code",
      "metadata": {
        "id": "5BMqwz6qD0v5",
        "colab_type": "code",
        "colab": {
          "base_uri": "https://localhost:8080/",
          "height": 55
        },
        "outputId": "0f20205a-8cb8-4e04-e16f-b1b9222a3c22"
      },
      "source": [
        "#list of lists format of the ratings transpose matrix\n",
        "print(sent)"
      ],
      "execution_count": 12,
      "outputs": [
        {
          "output_type": "stream",
          "text": [
            "[['4.0', '2.5', '2.5', '4.0', '4.0', '3.5', '4.0', '4.0', '4.0', '3.5', '3.0', '3.5', '5.0', '5.0', '4.0', '4.0', '3.5', '3.5', '5.0', '5.0', '3.5', '5.0', '4.5', '4.5', '5.0', '4.0', '2.5', '3.0', '4.5', '5.0', '3.0', '5.0', '3.0', '3.5', '3.5', '3.5', '2.5', '4.5', '4.0', '4.0', '3.5', '4.0', '4.0', '3.5', '4.5', '4.5', '4.0', '1.0', '2.5', '3.0', '2.5', '3.5', '5.0', '5.0', '3.5', '3.5', '3.0', '5.0', '5.0', '4.0', '4.5', '5.0', '5.0', '0.5', '5.0', '3.0', '2.0', '2.0', '5.0', '5.0', '0.0', '0.0', '0.0', '0.0', '0.0', '0.0', '0.0', '0.0', '0.0', '0.0', '0.0', '0.0', '0.0', '0.0', '0.0', '0.0', '0.0', '0.0', '0.0', '0.0', '0.0', '0.0', '0.0', '0.0', '0.0', '0.0', '0.0', '0.0', '0.0', '0.0'], ['4.5', '5.0', '4.0', '5.0', '5.0', '4.0', '5.0', '4.5', '4.0', '5.0', '4.0', '4.5', '5.0', '4.0', '4.0', '5.0', '3.0', '4.0', '3.5', '4.0', '4.5', '5.0', '4.5', '3.5', '5.0', '4.5', '4.5', '5.0', '4.0', '3.0', '3.0', '4.0', '3.0', '4.5', '3.0', '4.0', '4.5', '4.5', '2.0', '5.0', '3.5', '5.0', '0.5', '5.0', '5.0', '5.0', '5.0', '2.0', '4.0', '5.0', '5.0', '4.5', '4.0', '4.0', '4.5', '4.0', '5.0', '2.0', '5.0', '5.0', '5.0', '3.5', '5.0', '4.5', '5.0', '3.5', '3.5', '4.0', '5.0', '3.5', '5.0', '2.5', '0.5', '0.5', '4.5', '0.5', '4.0', '2.0', '4.5', '5.0', '0.5', '4.0', '3.0', '0.5', '4.5', '3.0', '1.5', '1.5', '0.5', '5.0', '4.5', '4.5', '4.5', '0.5', '3.0', '0.5', '5.0', '2.0', '5.0', '5.0'], ['4.5', '3.0', '4.0', '4.0', '3.0', '4.0', '3.5', '4.0', '4.5', '3.5', '3.5', '3.5', '4.0', '3.5', '3.5', '4.0', '3.0', '2.5', '3.5', '3.5', '4.0', '3.5', '4.0', '4.0', '3.0', '3.0', '3.5', '3.5', '3.5', '3.5', '4.0', '4.0', '3.5', '3.5', '3.5', '3.0', '4.0', '3.5', '3.5', '3.5', '3.5', '3.5', '3.5', '3.5', '3.0', '3.5', '4.0', '4.0', '3.0', '3.5', '3.0', '3.0', '3.0', '4.0', '4.0', '2.5', '3.5', '3.5', '3.5', '3.5', '3.0', '2.5', '3.0', '3.0', '3.0', '3.0', '3.0', '3.0', '3.0', '2.5', '3.0', '3.5', '3.0', '3.0', '2.0', '3.5', '3.0', '3.0', '3.5', '3.5', '3.5', '4.0', '3.0', '4.0', '4.0', '3.5', '3.5', '4.0', '3.5', '4.0', '3.5', '3.0', '3.5', '2.5', '4.0', '3.5', '3.5', '3.5', '4.5', '4.5'], ['3.5', '5.0', '4.5', '4.5', '4.0', '4.0', '4.0', '3.5', '4.5', '3.0', '3.5', '3.5', '2.0', '3.5', '2.5', '4.5', '4.0', '4.0', '3.5', '5.0', '4.0', '3.5', '4.5', '5.0', '4.0', '4.0', '4.0', '4.0', '2.5', '3.5', '3.5', '4.0', '4.0', '4.0', '3.5', '3.5', '4.0', '3.5', '3.0', '4.0', '2.5', '4.0', '4.0', '4.0', '2.0', '3.0', '4.5', '3.0', '2.0', '3.0', '3.0', '4.0', '3.5', '4.0', '4.0', '3.5', '4.0', '2.5', '2.5', '2.0', '4.0', '4.0', '3.5', '3.5', '3.5', '3.5', '4.5', '4.0', '3.5', '4.0', '4.0', '3.5', '3.0', '4.0', '4.0', '3.5', '2.5', '3.0', '4.5', '3.5', '4.0', '3.5', '3.0', '3.5', '3.0', '4.5', '4.5', '4.5', '1.5', '4.5', '0.0', '0.0', '0.0', '0.0', '0.0', '0.0', '0.0', '0.0', '0.0', '0.0']]\n"
          ],
          "name": "stdout"
        }
      ]
    },
    {
      "cell_type": "code",
      "metadata": {
        "id": "-b0kp6qNFDGO",
        "colab_type": "code",
        "colab": {}
      },
      "source": [
        "model = Word2Vec(sent,min_count=1,size= 50,workers=3, window =3, sg = 1)"
      ],
      "execution_count": 13,
      "outputs": []
    },
    {
      "cell_type": "code",
      "metadata": {
        "id": "qT7FRNDAG6lW",
        "colab_type": "code",
        "colab": {
          "base_uri": "https://localhost:8080/",
          "height": 74
        },
        "outputId": "6925d648-e86a-4831-b8e1-c9d6302dd7df"
      },
      "source": [
        "model.save('wordtovec')"
      ],
      "execution_count": 14,
      "outputs": [
        {
          "output_type": "stream",
          "text": [
            "/usr/local/lib/python3.6/dist-packages/smart_open/smart_open_lib.py:253: UserWarning: This function is deprecated, use smart_open.open instead. See the migration notes for details: https://github.com/RaRe-Technologies/smart_open/blob/master/README.rst#migrating-to-the-new-open-function\n",
            "  'See the migration notes for details: %s' % _MIGRATION_NOTES_URL\n"
          ],
          "name": "stderr"
        }
      ]
    },
    {
      "cell_type": "code",
      "metadata": {
        "id": "Bq26eAcQPGbH",
        "colab_type": "code",
        "colab": {
          "base_uri": "https://localhost:8080/",
          "height": 209
        },
        "outputId": "41bdffd1-d588-4bd5-b94a-2c95dbf595f6"
      },
      "source": [
        "lsi = models.LsiModel(corpus=None, num_topics=10, id2word=None) # LSI Model Training \n",
        "index = similarities.MatrixSimilarity(lsi[corpus])\n",
        "train_vectors = lsi[corpus]"
      ],
      "execution_count": 15,
      "outputs": [
        {
          "output_type": "error",
          "ename": "NameError",
          "evalue": "ignored",
          "traceback": [
            "\u001b[0;31m---------------------------------------------------------------------------\u001b[0m",
            "\u001b[0;31mNameError\u001b[0m                                 Traceback (most recent call last)",
            "\u001b[0;32m<ipython-input-15-de801e7566cf>\u001b[0m in \u001b[0;36m<module>\u001b[0;34m()\u001b[0m\n\u001b[0;32m----> 1\u001b[0;31m \u001b[0mlsi\u001b[0m \u001b[0;34m=\u001b[0m \u001b[0mmodels\u001b[0m\u001b[0;34m.\u001b[0m\u001b[0mLsiModel\u001b[0m\u001b[0;34m(\u001b[0m\u001b[0mcorpus\u001b[0m\u001b[0;34m=\u001b[0m\u001b[0;32mNone\u001b[0m\u001b[0;34m,\u001b[0m \u001b[0mnum_topics\u001b[0m\u001b[0;34m=\u001b[0m\u001b[0;36m10\u001b[0m\u001b[0;34m,\u001b[0m \u001b[0mid2word\u001b[0m\u001b[0;34m=\u001b[0m\u001b[0;32mNone\u001b[0m\u001b[0;34m)\u001b[0m \u001b[0;31m# LSI Model Training\u001b[0m\u001b[0;34m\u001b[0m\u001b[0;34m\u001b[0m\u001b[0m\n\u001b[0m\u001b[1;32m      2\u001b[0m \u001b[0mindex\u001b[0m \u001b[0;34m=\u001b[0m \u001b[0msimilarities\u001b[0m\u001b[0;34m.\u001b[0m\u001b[0mMatrixSimilarity\u001b[0m\u001b[0;34m(\u001b[0m\u001b[0mlsi\u001b[0m\u001b[0;34m[\u001b[0m\u001b[0mcorpus\u001b[0m\u001b[0;34m]\u001b[0m\u001b[0;34m)\u001b[0m\u001b[0;34m\u001b[0m\u001b[0;34m\u001b[0m\u001b[0m\n\u001b[1;32m      3\u001b[0m \u001b[0mtrain_vectors\u001b[0m \u001b[0;34m=\u001b[0m \u001b[0mlsi\u001b[0m\u001b[0;34m[\u001b[0m\u001b[0mcorpus\u001b[0m\u001b[0;34m]\u001b[0m\u001b[0;34m\u001b[0m\u001b[0;34m\u001b[0m\u001b[0m\n",
            "\u001b[0;31mNameError\u001b[0m: name 'models' is not defined"
          ]
        }
      ]
    },
    {
      "cell_type": "code",
      "metadata": {
        "id": "OQrUkVdaQK9o",
        "colab_type": "code",
        "colab": {}
      },
      "source": [
        ""
      ],
      "execution_count": null,
      "outputs": []
    }
  ]
}