{
  "nbformat": 4,
  "nbformat_minor": 0,
  "metadata": {
    "colab": {
      "name": "Code_model.ipynb",
      "provenance": [],
      "mount_file_id": "1wgpB7rU7rrk4BnoapdXtGyFmepqlRw6K",
      "authorship_tag": "ABX9TyOk5v4VlzapzUcA7JhZMOZa",
      "include_colab_link": true
    },
    "kernelspec": {
      "name": "python3",
      "display_name": "Python 3"
    }
  },
  "cells": [
    {
      "cell_type": "markdown",
      "metadata": {
        "id": "view-in-github",
        "colab_type": "text"
      },
      "source": [
        "<a href=\"https://colab.research.google.com/github/Dharani1999/Word-embedding-techniques/blob/master/Code_model.ipynb\" target=\"_parent\"><img src=\"https://colab.research.google.com/assets/colab-badge.svg\" alt=\"Open In Colab\"/></a>"
      ]
    },
    {
      "cell_type": "code",
      "metadata": {
        "id": "GTPPDaIkL-DE",
        "colab_type": "code",
        "colab": {}
      },
      "source": [
        "import pandas as pd\n",
        "import numpy as np"
      ],
      "execution_count": 11,
      "outputs": []
    },
    {
      "cell_type": "code",
      "metadata": {
        "id": "-fMyc_f5O6W2",
        "colab_type": "code",
        "colab": {}
      },
      "source": [
        "max_seq_length = 150"
      ],
      "execution_count": 12,
      "outputs": []
    },
    {
      "cell_type": "code",
      "metadata": {
        "id": "JW14h9CXNcS7",
        "colab_type": "code",
        "colab": {
          "base_uri": "https://localhost:8080/",
          "height": 677
        },
        "outputId": "b6dfc945-2c7a-4114-c5bb-c5e9f00328e5"
      },
      "source": [
        "ratings1 = pd.read_csv('/content/drive/My Drive/Movielensdata/ml25m/ratings.csv')\n",
        "ratings = ratings1.iloc[1:1000,:]\n",
        "ratings.head()"
      ],
      "execution_count": 13,
      "outputs": [
        {
          "output_type": "execute_result",
          "data": {
            "text/html": [
              "<div>\n",
              "<style scoped>\n",
              "    .dataframe tbody tr th:only-of-type {\n",
              "        vertical-align: middle;\n",
              "    }\n",
              "\n",
              "    .dataframe tbody tr th {\n",
              "        vertical-align: top;\n",
              "    }\n",
              "\n",
              "    .dataframe thead th {\n",
              "        text-align: right;\n",
              "    }\n",
              "</style>\n",
              "<table border=\"1\" class=\"dataframe\">\n",
              "  <thead>\n",
              "    <tr style=\"text-align: right;\">\n",
              "      <th></th>\n",
              "      <th>userId</th>\n",
              "      <th>movieId</th>\n",
              "      <th>rating</th>\n",
              "      <th>timestamp</th>\n",
              "    </tr>\n",
              "  </thead>\n",
              "  <tbody>\n",
              "    <tr>\n",
              "      <th>1</th>\n",
              "      <td>1</td>\n",
              "      <td>306</td>\n",
              "      <td>3.5</td>\n",
              "      <td>1147868817</td>\n",
              "    </tr>\n",
              "    <tr>\n",
              "      <th>2</th>\n",
              "      <td>1</td>\n",
              "      <td>307</td>\n",
              "      <td>5.0</td>\n",
              "      <td>1147868828</td>\n",
              "    </tr>\n",
              "    <tr>\n",
              "      <th>3</th>\n",
              "      <td>1</td>\n",
              "      <td>665</td>\n",
              "      <td>5.0</td>\n",
              "      <td>1147878820</td>\n",
              "    </tr>\n",
              "    <tr>\n",
              "      <th>4</th>\n",
              "      <td>1</td>\n",
              "      <td>899</td>\n",
              "      <td>3.5</td>\n",
              "      <td>1147868510</td>\n",
              "    </tr>\n",
              "    <tr>\n",
              "      <th>5</th>\n",
              "      <td>1</td>\n",
              "      <td>1088</td>\n",
              "      <td>4.0</td>\n",
              "      <td>1147868495</td>\n",
              "    </tr>\n",
              "    <tr>\n",
              "      <th>6</th>\n",
              "      <td>1</td>\n",
              "      <td>1175</td>\n",
              "      <td>3.5</td>\n",
              "      <td>1147868826</td>\n",
              "    </tr>\n",
              "    <tr>\n",
              "      <th>7</th>\n",
              "      <td>1</td>\n",
              "      <td>1217</td>\n",
              "      <td>3.5</td>\n",
              "      <td>1147878326</td>\n",
              "    </tr>\n",
              "    <tr>\n",
              "      <th>8</th>\n",
              "      <td>1</td>\n",
              "      <td>1237</td>\n",
              "      <td>5.0</td>\n",
              "      <td>1147868839</td>\n",
              "    </tr>\n",
              "    <tr>\n",
              "      <th>9</th>\n",
              "      <td>1</td>\n",
              "      <td>1250</td>\n",
              "      <td>4.0</td>\n",
              "      <td>1147868414</td>\n",
              "    </tr>\n",
              "    <tr>\n",
              "      <th>10</th>\n",
              "      <td>1</td>\n",
              "      <td>1260</td>\n",
              "      <td>3.5</td>\n",
              "      <td>1147877857</td>\n",
              "    </tr>\n",
              "    <tr>\n",
              "      <th>11</th>\n",
              "      <td>1</td>\n",
              "      <td>1653</td>\n",
              "      <td>4.0</td>\n",
              "      <td>1147868097</td>\n",
              "    </tr>\n",
              "    <tr>\n",
              "      <th>12</th>\n",
              "      <td>1</td>\n",
              "      <td>2011</td>\n",
              "      <td>2.5</td>\n",
              "      <td>1147868079</td>\n",
              "    </tr>\n",
              "    <tr>\n",
              "      <th>13</th>\n",
              "      <td>1</td>\n",
              "      <td>2012</td>\n",
              "      <td>2.5</td>\n",
              "      <td>1147868068</td>\n",
              "    </tr>\n",
              "    <tr>\n",
              "      <th>14</th>\n",
              "      <td>1</td>\n",
              "      <td>2068</td>\n",
              "      <td>2.5</td>\n",
              "      <td>1147869044</td>\n",
              "    </tr>\n",
              "    <tr>\n",
              "      <th>15</th>\n",
              "      <td>1</td>\n",
              "      <td>2161</td>\n",
              "      <td>3.5</td>\n",
              "      <td>1147868609</td>\n",
              "    </tr>\n",
              "    <tr>\n",
              "      <th>16</th>\n",
              "      <td>1</td>\n",
              "      <td>2351</td>\n",
              "      <td>4.5</td>\n",
              "      <td>1147877957</td>\n",
              "    </tr>\n",
              "    <tr>\n",
              "      <th>17</th>\n",
              "      <td>1</td>\n",
              "      <td>2573</td>\n",
              "      <td>4.0</td>\n",
              "      <td>1147878923</td>\n",
              "    </tr>\n",
              "    <tr>\n",
              "      <th>18</th>\n",
              "      <td>1</td>\n",
              "      <td>2632</td>\n",
              "      <td>5.0</td>\n",
              "      <td>1147878248</td>\n",
              "    </tr>\n",
              "    <tr>\n",
              "      <th>19</th>\n",
              "      <td>1</td>\n",
              "      <td>2692</td>\n",
              "      <td>5.0</td>\n",
              "      <td>1147869100</td>\n",
              "    </tr>\n",
              "    <tr>\n",
              "      <th>20</th>\n",
              "      <td>1</td>\n",
              "      <td>2843</td>\n",
              "      <td>4.5</td>\n",
              "      <td>1147868891</td>\n",
              "    </tr>\n",
              "  </tbody>\n",
              "</table>\n",
              "</div>"
            ],
            "text/plain": [
              "    userId  movieId  rating   timestamp\n",
              "1        1      306     3.5  1147868817\n",
              "2        1      307     5.0  1147868828\n",
              "3        1      665     5.0  1147878820\n",
              "4        1      899     3.5  1147868510\n",
              "5        1     1088     4.0  1147868495\n",
              "6        1     1175     3.5  1147868826\n",
              "7        1     1217     3.5  1147878326\n",
              "8        1     1237     5.0  1147868839\n",
              "9        1     1250     4.0  1147868414\n",
              "10       1     1260     3.5  1147877857\n",
              "11       1     1653     4.0  1147868097\n",
              "12       1     2011     2.5  1147868079\n",
              "13       1     2012     2.5  1147868068\n",
              "14       1     2068     2.5  1147869044\n",
              "15       1     2161     3.5  1147868609\n",
              "16       1     2351     4.5  1147877957\n",
              "17       1     2573     4.0  1147878923\n",
              "18       1     2632     5.0  1147878248\n",
              "19       1     2692     5.0  1147869100\n",
              "20       1     2843     4.5  1147868891"
            ]
          },
          "metadata": {
            "tags": []
          },
          "execution_count": 13
        }
      ]
    },
    {
      "cell_type": "code",
      "metadata": {
        "id": "o3T0iPjkO6LV",
        "colab_type": "code",
        "colab": {
          "base_uri": "https://localhost:8080/",
          "height": 129
        },
        "outputId": "9c854eec-2224-48cb-90f6-7c66bba1e8dc"
      },
      "source": [
        "ratings.sort_values(by=['userId','timestamp'],inplace=True)"
      ],
      "execution_count": 14,
      "outputs": [
        {
          "output_type": "stream",
          "text": [
            "/usr/local/lib/python3.6/dist-packages/ipykernel_launcher.py:1: SettingWithCopyWarning: \n",
            "A value is trying to be set on a copy of a slice from a DataFrame\n",
            "\n",
            "See the caveats in the documentation: https://pandas.pydata.org/pandas-docs/stable/user_guide/indexing.html#returning-a-view-versus-a-copy\n",
            "  \"\"\"Entry point for launching an IPython kernel.\n"
          ],
          "name": "stderr"
        }
      ]
    },
    {
      "cell_type": "code",
      "metadata": {
        "id": "kKg6myeBO6kf",
        "colab_type": "code",
        "colab": {
          "base_uri": "https://localhost:8080/",
          "height": 424
        },
        "outputId": "d4661077-dc7e-4185-d20f-fcf31030ecf7"
      },
      "source": [
        "ratings.head(10)"
      ],
      "execution_count": 15,
      "outputs": [
        {
          "output_type": "execute_result",
          "data": {
            "text/html": [
              "<div>\n",
              "<style scoped>\n",
              "    .dataframe tbody tr th:only-of-type {\n",
              "        vertical-align: middle;\n",
              "    }\n",
              "\n",
              "    .dataframe tbody tr th {\n",
              "        vertical-align: top;\n",
              "    }\n",
              "\n",
              "    .dataframe thead th {\n",
              "        text-align: right;\n",
              "    }\n",
              "</style>\n",
              "<table border=\"1\" class=\"dataframe\">\n",
              "  <thead>\n",
              "    <tr style=\"text-align: right;\">\n",
              "      <th></th>\n",
              "      <th>userId</th>\n",
              "      <th>movieId</th>\n",
              "      <th>rating</th>\n",
              "      <th>timestamp</th>\n",
              "    </tr>\n",
              "  </thead>\n",
              "  <tbody>\n",
              "    <tr>\n",
              "      <th>36</th>\n",
              "      <td>1</td>\n",
              "      <td>5952</td>\n",
              "      <td>4.0</td>\n",
              "      <td>1147868053</td>\n",
              "    </tr>\n",
              "    <tr>\n",
              "      <th>13</th>\n",
              "      <td>1</td>\n",
              "      <td>2012</td>\n",
              "      <td>2.5</td>\n",
              "      <td>1147868068</td>\n",
              "    </tr>\n",
              "    <tr>\n",
              "      <th>12</th>\n",
              "      <td>1</td>\n",
              "      <td>2011</td>\n",
              "      <td>2.5</td>\n",
              "      <td>1147868079</td>\n",
              "    </tr>\n",
              "    <tr>\n",
              "      <th>11</th>\n",
              "      <td>1</td>\n",
              "      <td>1653</td>\n",
              "      <td>4.0</td>\n",
              "      <td>1147868097</td>\n",
              "    </tr>\n",
              "    <tr>\n",
              "      <th>9</th>\n",
              "      <td>1</td>\n",
              "      <td>1250</td>\n",
              "      <td>4.0</td>\n",
              "      <td>1147868414</td>\n",
              "    </tr>\n",
              "    <tr>\n",
              "      <th>...</th>\n",
              "      <td>...</td>\n",
              "      <td>...</td>\n",
              "      <td>...</td>\n",
              "      <td>...</td>\n",
              "    </tr>\n",
              "    <tr>\n",
              "      <th>65</th>\n",
              "      <td>1</td>\n",
              "      <td>27193</td>\n",
              "      <td>3.0</td>\n",
              "      <td>1147879774</td>\n",
              "    </tr>\n",
              "    <tr>\n",
              "      <th>32</th>\n",
              "      <td>1</td>\n",
              "      <td>5684</td>\n",
              "      <td>2.0</td>\n",
              "      <td>1147879797</td>\n",
              "    </tr>\n",
              "    <tr>\n",
              "      <th>45</th>\n",
              "      <td>1</td>\n",
              "      <td>7318</td>\n",
              "      <td>2.0</td>\n",
              "      <td>1147879850</td>\n",
              "    </tr>\n",
              "    <tr>\n",
              "      <th>48</th>\n",
              "      <td>1</td>\n",
              "      <td>7361</td>\n",
              "      <td>5.0</td>\n",
              "      <td>1147880055</td>\n",
              "    </tr>\n",
              "    <tr>\n",
              "      <th>169</th>\n",
              "      <td>2</td>\n",
              "      <td>2797</td>\n",
              "      <td>1.0</td>\n",
              "      <td>1141415509</td>\n",
              "    </tr>\n",
              "  </tbody>\n",
              "</table>\n",
              "<p>70 rows × 4 columns</p>\n",
              "</div>"
            ],
            "text/plain": [
              "     userId  movieId  rating   timestamp\n",
              "36        1     5952     4.0  1147868053\n",
              "13        1     2012     2.5  1147868068\n",
              "12        1     2011     2.5  1147868079\n",
              "11        1     1653     4.0  1147868097\n",
              "9         1     1250     4.0  1147868414\n",
              "..      ...      ...     ...         ...\n",
              "65        1    27193     3.0  1147879774\n",
              "32        1     5684     2.0  1147879797\n",
              "45        1     7318     2.0  1147879850\n",
              "48        1     7361     5.0  1147880055\n",
              "169       2     2797     1.0  1141415509\n",
              "\n",
              "[70 rows x 4 columns]"
            ]
          },
          "metadata": {
            "tags": []
          },
          "execution_count": 15
        }
      ]
    },
    {
      "cell_type": "code",
      "metadata": {
        "id": "fa3dQvjMS9X_",
        "colab_type": "code",
        "colab": {
          "base_uri": "https://localhost:8080/",
          "height": 35
        },
        "outputId": "89b57668-891b-4719-8e7e-d75de81abebb"
      },
      "source": [
        "users_total = len(ratings['userId'].unique())\n",
        "print(users_total)"
      ],
      "execution_count": 16,
      "outputs": [
        {
          "output_type": "stream",
          "text": [
            "4\n"
          ],
          "name": "stdout"
        }
      ]
    },
    {
      "cell_type": "code",
      "metadata": {
        "id": "Z3IOw1dWn7VZ",
        "colab_type": "code",
        "colab": {
          "base_uri": "https://localhost:8080/",
          "height": 55
        },
        "outputId": "bfad06fe-965a-4934-dd28-e4e064dd364d"
      },
      "source": [
        "movie_list = []\n",
        "for i in range(users_total):\n",
        "  list1 = []\n",
        "  list1 = ratings.loc[ratings['userId'] ==(i+1),['movieId']]['movieId'].tolist()\n",
        "  if len(list1)>max_seq_length:\n",
        "    list1 = list1[(len(list1)-max_seq_length):]\n",
        "  elif len(list1)<max_seq_length:\n",
        "    for j in range((max_seq_length-len(list1))):\n",
        "      list1.append(0)\n",
        "  movie_list.append(list1)\n",
        "print(movie_list)"
      ],
      "execution_count": 17,
      "outputs": [
        {
          "output_type": "stream",
          "text": [
            "[[5952, 2012, 2011, 1653, 1250, 6539, 6377, 3448, 1088, 899, 4308, 2161, 6711, 3949, 8360, 5878, 306, 1175, 307, 1237, 7327, 8154, 7234, 2843, 4144, 7365, 2068, 4422, 4973, 6016, 8873, 2692, 27721, 7323, 6954, 8014, 7939, 6370, 8973, 4703, 31956, 5147, 8786, 1260, 2351, 7940, 7209, 8685, 7820, 7937, 7938, 8405, 4325, 2632, 1217, 8729, 5912, 5767, 665, 2573, 27266, 8327, 32591, 5269, 3569, 27193, 5684, 7318, 7361, 0, 0, 0, 0, 0, 0, 0, 0, 0, 0, 0, 0, 0, 0, 0, 0, 0, 0, 0, 0, 0, 0, 0, 0, 0, 0, 0, 0, 0, 0, 0, 0, 0, 0, 0, 0, 0, 0, 0, 0, 0, 0, 0, 0, 0, 0, 0, 0, 0, 0, 0, 0, 0, 0, 0, 0, 0, 0, 0, 0, 0, 0, 0, 0, 0, 0, 0, 0, 0, 0, 0, 0, 0, 0, 0, 0, 0, 0, 0, 0, 0], [733, 266, 333, 8961, 5816, 6157, 4857, 4571, 4299, 3510, 3479, 3916, 3107, 2496, 2694, 2720, 2643, 1957, 2273, 1587, 1488, 1431, 1283, 1299, 34162, 27821, 7007, 7004, 6753, 6156, 6213, 6287, 5574, 3889, 110, 1610, 1291, 4019, 40815, 7143, 457, 6333, 7386, 3114, 356, 33794, 5418, 4896, 5349, 1210, 4306, 8368, 8360, 3793, 4995, 4963, 8636, 2355, 8665, 2571, 589, 33493, 7153, 1873, 1246, 1584, 3994, 2139, 31923, 4720, 2294, 2745, 2138, 858, 33660, 2268, 2501, 6539, 1270, 6565, 4535, 1198, 1302, 349, 3098, 1907, 1580, 364, 480, 3360, 524, 5103, 62, 7075, 1287, 260, 318, 588, 1693, 1196, 4993, 2918, 3105, 5955, 1275, 1393, 6879, 5010, 6311, 8970, 1356, 3175, 4016, 1672, 1257, 2115, 36527, 1674, 1376, 7624, 2359, 8958, 35836, 2761, 953, 1923, 6947, 3148, 2083, 8010, 7162, 914, 4023, 33166, 3396, 1527, 2324, 1271, 30848, 30749, 534, 4103, 4874, 261, 1465, 2987, 1293, 7090, 1136, 2150], [4383, 52950, 2021, 175197, 182823, 31804, 5989, 6365, 5378, 3948, 6711, 8360, 3751, 3977, 3408, 4034, 7143, 3755, 6537, 6870, 76251, 4776, 4718, 57669, 4148, 5266, 88140, 7445, 3988, 5810, 148626, 6281, 139385, 74789, 33615, 8783, 102903, 122912, 122918, 122922, 5507, 5574, 6708, 3986, 5954, 95441, 81564, 27706, 4069, 31878, 176371, 3968, 8983, 102407, 6548, 4448, 103141, 139644, 187593, 135143, 90866, 86911, 27660, 171763, 8861, 143385, 112138, 5313, 4958, 136020, 6879, 59501, 122906, 111659, 88405, 158238, 179819, 99112, 166635, 135536, 97306, 65514, 135569, 187541, 136864, 57528, 1960, 96079, 94677, 97923, 46335, 159093, 86644, 112171, 59900, 67923, 71464, 71156, 5900, 62999, 68793, 130634, 81537, 53129, 89753, 68952, 140956, 97225, 102716, 104241, 70336, 111113, 129354, 45666, 82202, 54648, 102686, 39435, 96861, 61248, 31221, 158966, 85020, 83349, 79224, 64030, 105213, 56156, 107348, 176101, 103810, 49822, 91976, 73323, 149406, 122896, 103384, 168612, 91974, 55805, 111443, 109578, 87876, 94018, 79091, 88125, 106489, 81834, 4262, 1732], [8665, 8961, 4993, 1580, 5444, 7153, 6539, 33794, 6874, 1210, 1610, 7438, 780, 34405, 1214, 2028, 2985, 1291, 260, 5618, 1907, 38038, 2571, 44665, 8874, 1198, 1196, 296, 44191, 1527, 7143, 8641, 589, 1220, 5418, 4308, 8914, 4886, 6377, 4816, 34048, 5903, 7373, 6947, 5219, 3827, 5110, 6156, 45431, 7324, 44193, 4974, 6550, 7451, 1036, 3751, 6863, 5299, 3624, 4709, 924, 1265, 1201, 3681, 7569, 2993, 1732, 2019, 2918, 3175, 1278, 1080, 3114, 3671, 2791, 1288, 1270, 1, 541, 1200, 2716, 3039, 2115, 2951, 3033, 4963, 1197, 5952, 3793, 1136, 0, 0, 0, 0, 0, 0, 0, 0, 0, 0, 0, 0, 0, 0, 0, 0, 0, 0, 0, 0, 0, 0, 0, 0, 0, 0, 0, 0, 0, 0, 0, 0, 0, 0, 0, 0, 0, 0, 0, 0, 0, 0, 0, 0, 0, 0, 0, 0, 0, 0, 0, 0, 0, 0, 0, 0, 0, 0, 0, 0]]\n"
          ],
          "name": "stdout"
        }
      ]
    },
    {
      "cell_type": "code",
      "metadata": {
        "id": "cycBk8xyyuiG",
        "colab_type": "code",
        "colab": {
          "base_uri": "https://localhost:8080/",
          "height": 55
        },
        "outputId": "791cafd0-d8ea-41c9-e043-2c2f353e3201"
      },
      "source": [
        "rating_list =[]\n",
        "for i in range(users_total):\n",
        "  list2 = []\n",
        "  list2 = ratings.loc[ratings['userId'] ==(i+1),['rating']]['rating'].tolist()\n",
        "  if len(list2)>max_seq_length:\n",
        "    list2 = list2[(len(list2)-max_seq_length):]\n",
        "  elif len(list2)<max_seq_length:\n",
        "    for j in range((max_seq_length-len(list2))):\n",
        "      list2.append(0)\n",
        "  rating_list.append(list2)\n",
        "print(rating_list)"
      ],
      "execution_count": 18,
      "outputs": [
        {
          "output_type": "stream",
          "text": [
            "[[4.0, 2.5, 2.5, 4.0, 4.0, 3.5, 4.0, 4.0, 4.0, 3.5, 3.0, 3.5, 5.0, 5.0, 4.0, 4.0, 3.5, 3.5, 5.0, 5.0, 3.5, 5.0, 4.5, 4.5, 5.0, 4.0, 2.5, 3.0, 4.5, 5.0, 3.0, 5.0, 3.0, 3.5, 3.5, 3.5, 2.5, 4.5, 4.0, 4.0, 3.5, 4.0, 4.0, 3.5, 4.5, 4.5, 4.0, 1.0, 2.5, 3.0, 2.5, 3.5, 5.0, 5.0, 3.5, 3.5, 3.0, 5.0, 5.0, 4.0, 4.5, 5.0, 5.0, 0.5, 5.0, 3.0, 2.0, 2.0, 5.0, 0, 0, 0, 0, 0, 0, 0, 0, 0, 0, 0, 0, 0, 0, 0, 0, 0, 0, 0, 0, 0, 0, 0, 0, 0, 0, 0, 0, 0, 0, 0, 0, 0, 0, 0, 0, 0, 0, 0, 0, 0, 0, 0, 0, 0, 0, 0, 0, 0, 0, 0, 0, 0, 0, 0, 0, 0, 0, 0, 0, 0, 0, 0, 0, 0, 0, 0, 0, 0, 0, 0, 0, 0, 0, 0, 0, 0, 0, 0, 0, 0], [4.5, 1.0, 5.0, 4.5, 5.0, 3.5, 1.0, 1.5, 4.5, 4.0, 2.0, 3.0, 3.0, 4.0, 4.0, 0.5, 0.5, 3.5, 2.0, 1.0, 5.0, 3.0, 4.0, 1.0, 0.5, 4.5, 0.5, 2.0, 3.0, 2.0, 2.5, 2.0, 3.0, 2.5, 5.0, 5.0, 5.0, 3.5, 5.0, 5.0, 5.0, 5.0, 4.0, 4.5, 4.5, 5.0, 5.0, 5.0, 5.0, 5.0, 4.5, 5.0, 4.0, 5.0, 5.0, 4.0, 5.0, 4.5, 4.0, 5.0, 4.0, 4.5, 5.0, 4.0, 4.0, 5.0, 3.0, 4.0, 3.5, 4.0, 4.5, 5.0, 4.5, 3.5, 5.0, 4.5, 4.5, 5.0, 4.0, 3.0, 3.0, 4.0, 3.0, 4.5, 3.0, 4.0, 4.5, 4.5, 2.0, 5.0, 3.5, 5.0, 0.5, 5.0, 5.0, 5.0, 5.0, 2.0, 4.0, 5.0, 5.0, 4.5, 4.0, 4.0, 4.5, 4.0, 5.0, 2.0, 5.0, 5.0, 5.0, 3.5, 5.0, 4.5, 5.0, 3.5, 3.5, 4.0, 5.0, 3.5, 5.0, 2.5, 0.5, 0.5, 4.5, 0.5, 4.0, 2.0, 4.5, 5.0, 0.5, 4.0, 3.0, 0.5, 4.5, 3.0, 1.5, 1.5, 0.5, 5.0, 4.5, 4.5, 4.5, 0.5, 3.0, 0.5, 5.0, 2.0, 5.0, 5.0], [4.0, 4.5, 4.0, 3.5, 3.0, 4.5, 4.0, 4.0, 3.5, 3.0, 4.0, 3.5, 4.0, 2.5, 3.5, 4.0, 2.5, 3.0, 3.5, 4.5, 4.0, 4.0, 2.5, 3.0, 3.5, 3.5, 3.5, 3.5, 3.0, 3.5, 4.0, 2.5, 4.0, 4.0, 4.0, 4.0, 3.5, 3.5, 4.0, 4.0, 3.5, 4.0, 4.0, 3.5, 4.5, 3.5, 4.0, 3.5, 3.0, 4.0, 4.5, 3.0, 4.0, 4.0, 3.0, 4.0, 3.5, 4.0, 4.5, 3.5, 3.5, 3.5, 4.0, 3.5, 3.5, 4.0, 3.0, 2.5, 3.5, 3.5, 4.0, 3.5, 4.0, 4.0, 3.0, 3.0, 3.5, 3.5, 3.5, 3.5, 4.0, 4.0, 3.5, 3.5, 3.5, 3.0, 4.0, 3.5, 3.5, 3.5, 3.5, 3.5, 3.5, 3.5, 3.0, 3.5, 4.0, 4.0, 3.0, 3.5, 3.0, 3.0, 3.0, 4.0, 4.0, 2.5, 3.5, 3.5, 3.5, 3.5, 3.0, 2.5, 3.0, 3.0, 3.0, 3.0, 3.0, 3.0, 3.0, 2.5, 3.0, 3.5, 3.0, 3.0, 2.0, 3.5, 3.0, 3.0, 3.5, 3.5, 3.5, 4.0, 3.0, 4.0, 4.0, 3.5, 3.5, 4.0, 3.5, 4.0, 3.5, 3.0, 3.5, 2.5, 4.0, 3.5, 3.5, 3.5, 4.5, 4.5], [3.5, 5.0, 4.5, 4.5, 4.0, 4.0, 4.0, 3.5, 4.5, 3.0, 3.5, 3.5, 2.0, 3.5, 2.5, 4.5, 4.0, 4.0, 3.5, 5.0, 4.0, 3.5, 4.5, 5.0, 4.0, 4.0, 4.0, 4.0, 2.5, 3.5, 3.5, 4.0, 4.0, 4.0, 3.5, 3.5, 4.0, 3.5, 3.0, 4.0, 2.5, 4.0, 4.0, 4.0, 2.0, 3.0, 4.5, 3.0, 2.0, 3.0, 3.0, 4.0, 3.5, 4.0, 4.0, 3.5, 4.0, 2.5, 2.5, 2.0, 4.0, 4.0, 3.5, 3.5, 3.5, 3.5, 4.5, 4.0, 3.5, 4.0, 4.0, 3.5, 3.0, 4.0, 4.0, 3.5, 2.5, 3.0, 4.5, 3.5, 4.0, 3.5, 3.0, 3.5, 3.0, 4.5, 4.5, 4.5, 1.5, 4.5, 0, 0, 0, 0, 0, 0, 0, 0, 0, 0, 0, 0, 0, 0, 0, 0, 0, 0, 0, 0, 0, 0, 0, 0, 0, 0, 0, 0, 0, 0, 0, 0, 0, 0, 0, 0, 0, 0, 0, 0, 0, 0, 0, 0, 0, 0, 0, 0, 0, 0, 0, 0, 0, 0, 0, 0, 0, 0, 0, 0]]\n"
          ],
          "name": "stdout"
        }
      ]
    },
    {
      "cell_type": "code",
      "metadata": {
        "id": "OXS7e463S8yw",
        "colab_type": "code",
        "colab": {
          "base_uri": "https://localhost:8080/",
          "height": 164
        },
        "outputId": "754433c1-98cc-4e7d-f978-52154363986f"
      },
      "source": [
        "movies_transpose = pd.DataFrame(data=movie_list,index=[i+1 for i in range(users_total)])\n",
        "movies_transpose.index.names = ['userId']\n",
        "print(movies_transpose)"
      ],
      "execution_count": 19,
      "outputs": [
        {
          "output_type": "stream",
          "text": [
            "         0      1     2       3       4    ...    145     146    147   148   149\n",
            "userId                                     ...                                  \n",
            "1       5952   2012  2011    1653    1250  ...      0       0      0     0     0\n",
            "2        733    266   333    8961    5816  ...   2987    1293   7090  1136  2150\n",
            "3       4383  52950  2021  175197  182823  ...  88125  106489  81834  4262  1732\n",
            "4       8665   8961  4993    1580    5444  ...      0       0      0     0     0\n",
            "\n",
            "[4 rows x 150 columns]\n"
          ],
          "name": "stdout"
        }
      ]
    },
    {
      "cell_type": "code",
      "metadata": {
        "id": "KHvK0xqgQ-ql",
        "colab_type": "code",
        "colab": {
          "base_uri": "https://localhost:8080/",
          "height": 164
        },
        "outputId": "848a9207-db1f-409c-9956-1e09cdfe88a5"
      },
      "source": [
        "ratings_transpose = pd.DataFrame(data=rating_list,index=[i+1 for i in range(users_total)])\n",
        "ratings_transpose.index.names = ['userId']\n",
        "print(ratings_transpose)"
      ],
      "execution_count": 20,
      "outputs": [
        {
          "output_type": "stream",
          "text": [
            "        0    1    2    3    4    5    6    ...  143  144  145  146  147  148  149\n",
            "userId                                     ...                                   \n",
            "1       4.0  2.5  2.5  4.0  4.0  3.5  4.0  ...  0.0  0.0  0.0  0.0  0.0  0.0  0.0\n",
            "2       4.5  1.0  5.0  4.5  5.0  3.5  1.0  ...  0.5  3.0  0.5  5.0  2.0  5.0  5.0\n",
            "3       4.0  4.5  4.0  3.5  3.0  4.5  4.0  ...  2.5  4.0  3.5  3.5  3.5  4.5  4.5\n",
            "4       3.5  5.0  4.5  4.5  4.0  4.0  4.0  ...  0.0  0.0  0.0  0.0  0.0  0.0  0.0\n",
            "\n",
            "[4 rows x 150 columns]\n"
          ],
          "name": "stdout"
        }
      ]
    },
    {
      "cell_type": "code",
      "metadata": {
        "id": "W35Z9MSUQ-ux",
        "colab_type": "code",
        "colab": {}
      },
      "source": [
        ""
      ],
      "execution_count": 20,
      "outputs": []
    },
    {
      "cell_type": "code",
      "metadata": {
        "id": "vQlNGUIjQ-yy",
        "colab_type": "code",
        "colab": {}
      },
      "source": [
        ""
      ],
      "execution_count": 20,
      "outputs": []
    }
  ]
}