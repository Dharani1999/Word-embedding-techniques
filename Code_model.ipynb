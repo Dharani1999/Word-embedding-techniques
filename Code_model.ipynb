{
  "nbformat": 4,
  "nbformat_minor": 0,
  "metadata": {
    "colab": {
      "name": "Code_model.ipynb",
      "provenance": [],
      "mount_file_id": "1wgpB7rU7rrk4BnoapdXtGyFmepqlRw6K",
      "authorship_tag": "ABX9TyPi5HLf3SixhXqqNtLNNEQo",
      "include_colab_link": true
    },
    "kernelspec": {
      "name": "python3",
      "display_name": "Python 3"
    }
  },
  "cells": [
    {
      "cell_type": "markdown",
      "metadata": {
        "id": "view-in-github",
        "colab_type": "text"
      },
      "source": [
        "<a href=\"https://colab.research.google.com/github/Dharani1999/Word-embedding-techniques/blob/master/Code_model.ipynb\" target=\"_parent\"><img src=\"https://colab.research.google.com/assets/colab-badge.svg\" alt=\"Open In Colab\"/></a>"
      ]
    },
    {
      "cell_type": "code",
      "metadata": {
        "id": "GTPPDaIkL-DE",
        "colab_type": "code",
        "colab": {}
      },
      "source": [
        "import pandas as pd\n",
        "import numpy as np"
      ],
      "execution_count": 1,
      "outputs": []
    },
    {
      "cell_type": "code",
      "metadata": {
        "id": "-fMyc_f5O6W2",
        "colab_type": "code",
        "colab": {}
      },
      "source": [
        "max_seq_length = 100"
      ],
      "execution_count": 2,
      "outputs": []
    },
    {
      "cell_type": "code",
      "metadata": {
        "id": "JW14h9CXNcS7",
        "colab_type": "code",
        "colab": {
          "base_uri": "https://localhost:8080/",
          "height": 206
        },
        "outputId": "c435b54e-4beb-45d9-c220-9ccbe1914d44"
      },
      "source": [
        "ratings1 = pd.read_csv('/content/drive/My Drive/Movielensdata/ml25m/ratings.csv')\n",
        "ratings = ratings1.iloc[1:1000,:]\n",
        "ratings.head()"
      ],
      "execution_count": 3,
      "outputs": [
        {
          "output_type": "execute_result",
          "data": {
            "text/html": [
              "<div>\n",
              "<style scoped>\n",
              "    .dataframe tbody tr th:only-of-type {\n",
              "        vertical-align: middle;\n",
              "    }\n",
              "\n",
              "    .dataframe tbody tr th {\n",
              "        vertical-align: top;\n",
              "    }\n",
              "\n",
              "    .dataframe thead th {\n",
              "        text-align: right;\n",
              "    }\n",
              "</style>\n",
              "<table border=\"1\" class=\"dataframe\">\n",
              "  <thead>\n",
              "    <tr style=\"text-align: right;\">\n",
              "      <th></th>\n",
              "      <th>userId</th>\n",
              "      <th>movieId</th>\n",
              "      <th>rating</th>\n",
              "      <th>timestamp</th>\n",
              "    </tr>\n",
              "  </thead>\n",
              "  <tbody>\n",
              "    <tr>\n",
              "      <th>1</th>\n",
              "      <td>1</td>\n",
              "      <td>306</td>\n",
              "      <td>3.5</td>\n",
              "      <td>1147868817</td>\n",
              "    </tr>\n",
              "    <tr>\n",
              "      <th>2</th>\n",
              "      <td>1</td>\n",
              "      <td>307</td>\n",
              "      <td>5.0</td>\n",
              "      <td>1147868828</td>\n",
              "    </tr>\n",
              "    <tr>\n",
              "      <th>3</th>\n",
              "      <td>1</td>\n",
              "      <td>665</td>\n",
              "      <td>5.0</td>\n",
              "      <td>1147878820</td>\n",
              "    </tr>\n",
              "    <tr>\n",
              "      <th>4</th>\n",
              "      <td>1</td>\n",
              "      <td>899</td>\n",
              "      <td>3.5</td>\n",
              "      <td>1147868510</td>\n",
              "    </tr>\n",
              "    <tr>\n",
              "      <th>5</th>\n",
              "      <td>1</td>\n",
              "      <td>1088</td>\n",
              "      <td>4.0</td>\n",
              "      <td>1147868495</td>\n",
              "    </tr>\n",
              "  </tbody>\n",
              "</table>\n",
              "</div>"
            ],
            "text/plain": [
              "   userId  movieId  rating   timestamp\n",
              "1       1      306     3.5  1147868817\n",
              "2       1      307     5.0  1147868828\n",
              "3       1      665     5.0  1147878820\n",
              "4       1      899     3.5  1147868510\n",
              "5       1     1088     4.0  1147868495"
            ]
          },
          "metadata": {
            "tags": []
          },
          "execution_count": 3
        }
      ]
    },
    {
      "cell_type": "markdown",
      "metadata": {
        "id": "eAEY8YkSDimZ",
        "colab_type": "text"
      },
      "source": [
        "**Sorting the dataframe**"
      ]
    },
    {
      "cell_type": "code",
      "metadata": {
        "id": "o3T0iPjkO6LV",
        "colab_type": "code",
        "colab": {
          "base_uri": "https://localhost:8080/",
          "height": 129
        },
        "outputId": "3524f849-e157-406d-d544-9e4c9dfb550c"
      },
      "source": [
        "ratings.sort_values(by=['userId','timestamp'],inplace=True)"
      ],
      "execution_count": 4,
      "outputs": [
        {
          "output_type": "stream",
          "text": [
            "/usr/local/lib/python3.6/dist-packages/ipykernel_launcher.py:1: SettingWithCopyWarning: \n",
            "A value is trying to be set on a copy of a slice from a DataFrame\n",
            "\n",
            "See the caveats in the documentation: https://pandas.pydata.org/pandas-docs/stable/user_guide/indexing.html#returning-a-view-versus-a-copy\n",
            "  \"\"\"Entry point for launching an IPython kernel.\n"
          ],
          "name": "stderr"
        }
      ]
    },
    {
      "cell_type": "code",
      "metadata": {
        "id": "kKg6myeBO6kf",
        "colab_type": "code",
        "colab": {
          "base_uri": "https://localhost:8080/",
          "height": 363
        },
        "outputId": "db3c3196-2839-449b-ab5c-f7e72eb70802"
      },
      "source": [
        "ratings.head(10)"
      ],
      "execution_count": 5,
      "outputs": [
        {
          "output_type": "execute_result",
          "data": {
            "text/html": [
              "<div>\n",
              "<style scoped>\n",
              "    .dataframe tbody tr th:only-of-type {\n",
              "        vertical-align: middle;\n",
              "    }\n",
              "\n",
              "    .dataframe tbody tr th {\n",
              "        vertical-align: top;\n",
              "    }\n",
              "\n",
              "    .dataframe thead th {\n",
              "        text-align: right;\n",
              "    }\n",
              "</style>\n",
              "<table border=\"1\" class=\"dataframe\">\n",
              "  <thead>\n",
              "    <tr style=\"text-align: right;\">\n",
              "      <th></th>\n",
              "      <th>userId</th>\n",
              "      <th>movieId</th>\n",
              "      <th>rating</th>\n",
              "      <th>timestamp</th>\n",
              "    </tr>\n",
              "  </thead>\n",
              "  <tbody>\n",
              "    <tr>\n",
              "      <th>36</th>\n",
              "      <td>1</td>\n",
              "      <td>5952</td>\n",
              "      <td>4.0</td>\n",
              "      <td>1147868053</td>\n",
              "    </tr>\n",
              "    <tr>\n",
              "      <th>13</th>\n",
              "      <td>1</td>\n",
              "      <td>2012</td>\n",
              "      <td>2.5</td>\n",
              "      <td>1147868068</td>\n",
              "    </tr>\n",
              "    <tr>\n",
              "      <th>12</th>\n",
              "      <td>1</td>\n",
              "      <td>2011</td>\n",
              "      <td>2.5</td>\n",
              "      <td>1147868079</td>\n",
              "    </tr>\n",
              "    <tr>\n",
              "      <th>11</th>\n",
              "      <td>1</td>\n",
              "      <td>1653</td>\n",
              "      <td>4.0</td>\n",
              "      <td>1147868097</td>\n",
              "    </tr>\n",
              "    <tr>\n",
              "      <th>9</th>\n",
              "      <td>1</td>\n",
              "      <td>1250</td>\n",
              "      <td>4.0</td>\n",
              "      <td>1147868414</td>\n",
              "    </tr>\n",
              "    <tr>\n",
              "      <th>40</th>\n",
              "      <td>1</td>\n",
              "      <td>6539</td>\n",
              "      <td>3.5</td>\n",
              "      <td>1147868461</td>\n",
              "    </tr>\n",
              "    <tr>\n",
              "      <th>39</th>\n",
              "      <td>1</td>\n",
              "      <td>6377</td>\n",
              "      <td>4.0</td>\n",
              "      <td>1147868469</td>\n",
              "    </tr>\n",
              "    <tr>\n",
              "      <th>21</th>\n",
              "      <td>1</td>\n",
              "      <td>3448</td>\n",
              "      <td>4.0</td>\n",
              "      <td>1147868480</td>\n",
              "    </tr>\n",
              "    <tr>\n",
              "      <th>5</th>\n",
              "      <td>1</td>\n",
              "      <td>1088</td>\n",
              "      <td>4.0</td>\n",
              "      <td>1147868495</td>\n",
              "    </tr>\n",
              "    <tr>\n",
              "      <th>4</th>\n",
              "      <td>1</td>\n",
              "      <td>899</td>\n",
              "      <td>3.5</td>\n",
              "      <td>1147868510</td>\n",
              "    </tr>\n",
              "  </tbody>\n",
              "</table>\n",
              "</div>"
            ],
            "text/plain": [
              "    userId  movieId  rating   timestamp\n",
              "36       1     5952     4.0  1147868053\n",
              "13       1     2012     2.5  1147868068\n",
              "12       1     2011     2.5  1147868079\n",
              "11       1     1653     4.0  1147868097\n",
              "9        1     1250     4.0  1147868414\n",
              "40       1     6539     3.5  1147868461\n",
              "39       1     6377     4.0  1147868469\n",
              "21       1     3448     4.0  1147868480\n",
              "5        1     1088     4.0  1147868495\n",
              "4        1      899     3.5  1147868510"
            ]
          },
          "metadata": {
            "tags": []
          },
          "execution_count": 5
        }
      ]
    },
    {
      "cell_type": "code",
      "metadata": {
        "id": "fa3dQvjMS9X_",
        "colab_type": "code",
        "colab": {
          "base_uri": "https://localhost:8080/",
          "height": 35
        },
        "outputId": "58f3f55a-67ec-487d-90eb-fe12a9894d7f"
      },
      "source": [
        "users_total = len(ratings['userId'].unique())\n",
        "print(users_total)"
      ],
      "execution_count": 6,
      "outputs": [
        {
          "output_type": "stream",
          "text": [
            "4\n"
          ],
          "name": "stdout"
        }
      ]
    },
    {
      "cell_type": "markdown",
      "metadata": {
        "id": "MGE4C9S9D1aJ",
        "colab_type": "text"
      },
      "source": [
        "**Selecting the most recent movies rated by each user and padding if necessary**"
      ]
    },
    {
      "cell_type": "code",
      "metadata": {
        "id": "Z3IOw1dWn7VZ",
        "colab_type": "code",
        "colab": {}
      },
      "source": [
        "movie_list = []\n",
        "for i in range(users_total):\n",
        "  list1 = []\n",
        "  list1 = ratings.loc[ratings['userId'] ==(i+1),['movieId']]['movieId'].tolist()\n",
        "  if len(list1)>max_seq_length:\n",
        "    list1 = list1[(len(list1)-max_seq_length):]\n",
        "  elif len(list1)<max_seq_length:\n",
        "    for j in range((max_seq_length-len(list1))):\n",
        "      list1.append(0)\n",
        "  movie_list.append(list1)\n",
        "#print(movie_list)"
      ],
      "execution_count": 7,
      "outputs": []
    },
    {
      "cell_type": "markdown",
      "metadata": {
        "id": "_u-upeTYEBKB",
        "colab_type": "text"
      },
      "source": [
        "**Selecting the most recent ratings of each user and padding if necessary**"
      ]
    },
    {
      "cell_type": "code",
      "metadata": {
        "id": "cycBk8xyyuiG",
        "colab_type": "code",
        "colab": {}
      },
      "source": [
        "rating_list =[]\n",
        "for i in range(users_total):\n",
        "  list2 = []\n",
        "  list2 = ratings.loc[ratings['userId'] ==(i+1),['rating']]['rating'].tolist()\n",
        "  if len(list2)>max_seq_length:\n",
        "    list2 = list2[(len(list2)-max_seq_length):]\n",
        "  elif len(list2)<max_seq_length:\n",
        "    for j in range((max_seq_length-len(list2))):\n",
        "      list2.append(0)\n",
        "  rating_list.append(list2)\n",
        "#print(rating_list)"
      ],
      "execution_count": 8,
      "outputs": []
    },
    {
      "cell_type": "code",
      "metadata": {
        "id": "OXS7e463S8yw",
        "colab_type": "code",
        "colab": {
          "base_uri": "https://localhost:8080/",
          "height": 164
        },
        "outputId": "69eab618-6d27-495e-bb64-2c2e189ac4ce"
      },
      "source": [
        "movies_transpose = pd.DataFrame(data=movie_list,index=[i+1 for i in range(users_total)])\n",
        "movies_transpose.index.names = ['userId']\n",
        "print(movies_transpose)"
      ],
      "execution_count": 9,
      "outputs": [
        {
          "output_type": "stream",
          "text": [
            "            0     1     2       3     4   ...     95      96     97    98    99\n",
            "userId                                    ...                                  \n",
            "1         5952  2012  2011    1653  1250  ...      0       0      0     0     0\n",
            "2         4306  8368  8360    3793  4995  ...   2987    1293   7090  1136  2150\n",
            "3       176371  3968  8983  102407  6548  ...  88125  106489  81834  4262  1732\n",
            "4         8665  8961  4993    1580  5444  ...      0       0      0     0     0\n",
            "\n",
            "[4 rows x 100 columns]\n"
          ],
          "name": "stdout"
        }
      ]
    },
    {
      "cell_type": "code",
      "metadata": {
        "id": "KHvK0xqgQ-ql",
        "colab_type": "code",
        "colab": {
          "base_uri": "https://localhost:8080/",
          "height": 164
        },
        "outputId": "e0231d51-a252-4369-b18b-6e66ef3b33fd"
      },
      "source": [
        "ratings_transpose = pd.DataFrame(data=rating_list,index=[i+1 for i in range(users_total)])\n",
        "ratings_transpose.index.names = ['userId']\n",
        "print(ratings_transpose)"
      ],
      "execution_count": 10,
      "outputs": [
        {
          "output_type": "stream",
          "text": [
            "         0    1    2    3    4    5    6   ...   93   94   95   96   97   98   99\n",
            "userId                                     ...                                   \n",
            "1       4.0  2.5  2.5  4.0  4.0  3.5  4.0  ...  0.0  0.0  0.0  0.0  0.0  0.0  0.0\n",
            "2       4.5  5.0  4.0  5.0  5.0  4.0  5.0  ...  0.5  3.0  0.5  5.0  2.0  5.0  5.0\n",
            "3       4.5  3.0  4.0  4.0  3.0  4.0  3.5  ...  2.5  4.0  3.5  3.5  3.5  4.5  4.5\n",
            "4       3.5  5.0  4.5  4.5  4.0  4.0  4.0  ...  0.0  0.0  0.0  0.0  0.0  0.0  0.0\n",
            "\n",
            "[4 rows x 100 columns]\n"
          ],
          "name": "stdout"
        }
      ]
    },
    {
      "cell_type": "code",
      "metadata": {
        "id": "W35Z9MSUQ-ux",
        "colab_type": "code",
        "colab": {}
      },
      "source": [
        ""
      ],
      "execution_count": 10,
      "outputs": []
    },
    {
      "cell_type": "code",
      "metadata": {
        "id": "vQlNGUIjQ-yy",
        "colab_type": "code",
        "colab": {}
      },
      "source": [
        ""
      ],
      "execution_count": 10,
      "outputs": []
    }
  ]
}