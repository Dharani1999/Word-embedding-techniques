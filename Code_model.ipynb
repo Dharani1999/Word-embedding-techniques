{
  "nbformat": 4,
  "nbformat_minor": 0,
  "metadata": {
    "colab": {
      "name": "Code_model.ipynb",
      "provenance": [],
      "mount_file_id": "1wgpB7rU7rrk4BnoapdXtGyFmepqlRw6K",
      "authorship_tag": "ABX9TyMwyTgbhMaOlurhUb/kvbpg",
      "include_colab_link": true
    },
    "kernelspec": {
      "name": "python3",
      "display_name": "Python 3"
    }
  },
  "cells": [
    {
      "cell_type": "markdown",
      "metadata": {
        "id": "view-in-github",
        "colab_type": "text"
      },
      "source": [
        "<a href=\"https://colab.research.google.com/github/Dharani1999/Word-embedding-techniques/blob/master/Code_model.ipynb\" target=\"_parent\"><img src=\"https://colab.research.google.com/assets/colab-badge.svg\" alt=\"Open In Colab\"/></a>"
      ]
    },
    {
      "cell_type": "code",
      "metadata": {
        "id": "GTPPDaIkL-DE",
        "colab_type": "code",
        "colab": {}
      },
      "source": [
        "import pandas as pd\n",
        "import numpy as np\n",
        "import gensim\n",
        "from gensim import corpora, models, similarities\n",
        "from gensim.models import Word2Vec"
      ],
      "execution_count": 1,
      "outputs": []
    },
    {
      "cell_type": "code",
      "metadata": {
        "id": "-fMyc_f5O6W2",
        "colab_type": "code",
        "colab": {}
      },
      "source": [
        "max_seq_length = 100"
      ],
      "execution_count": 2,
      "outputs": []
    },
    {
      "cell_type": "code",
      "metadata": {
        "id": "JW14h9CXNcS7",
        "colab_type": "code",
        "colab": {
          "base_uri": "https://localhost:8080/",
          "height": 206
        },
        "outputId": "b6cd0690-7e43-4192-e2d8-6f7886d8d173"
      },
      "source": [
        "ratings1 = pd.read_csv('/content/drive/My Drive/Movielensdata/ml25m/ratings.csv')\n",
        "#print(len(ratings1['movieId'].unique()))\n",
        "ratings = ratings1.iloc[0:1000,:]\n",
        "#print(len(ratings['movieId'].unique()))\n",
        "ratings.head()"
      ],
      "execution_count": 3,
      "outputs": [
        {
          "output_type": "execute_result",
          "data": {
            "text/html": [
              "<div>\n",
              "<style scoped>\n",
              "    .dataframe tbody tr th:only-of-type {\n",
              "        vertical-align: middle;\n",
              "    }\n",
              "\n",
              "    .dataframe tbody tr th {\n",
              "        vertical-align: top;\n",
              "    }\n",
              "\n",
              "    .dataframe thead th {\n",
              "        text-align: right;\n",
              "    }\n",
              "</style>\n",
              "<table border=\"1\" class=\"dataframe\">\n",
              "  <thead>\n",
              "    <tr style=\"text-align: right;\">\n",
              "      <th></th>\n",
              "      <th>userId</th>\n",
              "      <th>movieId</th>\n",
              "      <th>rating</th>\n",
              "      <th>timestamp</th>\n",
              "    </tr>\n",
              "  </thead>\n",
              "  <tbody>\n",
              "    <tr>\n",
              "      <th>0</th>\n",
              "      <td>1</td>\n",
              "      <td>296</td>\n",
              "      <td>5.0</td>\n",
              "      <td>1147880044</td>\n",
              "    </tr>\n",
              "    <tr>\n",
              "      <th>1</th>\n",
              "      <td>1</td>\n",
              "      <td>306</td>\n",
              "      <td>3.5</td>\n",
              "      <td>1147868817</td>\n",
              "    </tr>\n",
              "    <tr>\n",
              "      <th>2</th>\n",
              "      <td>1</td>\n",
              "      <td>307</td>\n",
              "      <td>5.0</td>\n",
              "      <td>1147868828</td>\n",
              "    </tr>\n",
              "    <tr>\n",
              "      <th>3</th>\n",
              "      <td>1</td>\n",
              "      <td>665</td>\n",
              "      <td>5.0</td>\n",
              "      <td>1147878820</td>\n",
              "    </tr>\n",
              "    <tr>\n",
              "      <th>4</th>\n",
              "      <td>1</td>\n",
              "      <td>899</td>\n",
              "      <td>3.5</td>\n",
              "      <td>1147868510</td>\n",
              "    </tr>\n",
              "  </tbody>\n",
              "</table>\n",
              "</div>"
            ],
            "text/plain": [
              "   userId  movieId  rating   timestamp\n",
              "0       1      296     5.0  1147880044\n",
              "1       1      306     3.5  1147868817\n",
              "2       1      307     5.0  1147868828\n",
              "3       1      665     5.0  1147878820\n",
              "4       1      899     3.5  1147868510"
            ]
          },
          "metadata": {
            "tags": []
          },
          "execution_count": 3
        }
      ]
    },
    {
      "cell_type": "markdown",
      "metadata": {
        "id": "eAEY8YkSDimZ",
        "colab_type": "text"
      },
      "source": [
        "**Sorting the dataframe**"
      ]
    },
    {
      "cell_type": "code",
      "metadata": {
        "id": "o3T0iPjkO6LV",
        "colab_type": "code",
        "colab": {
          "base_uri": "https://localhost:8080/",
          "height": 129
        },
        "outputId": "1bdb4d0f-7982-4663-db4f-80a99470538c"
      },
      "source": [
        "ratings.sort_values(by=['userId','timestamp'],inplace=True)"
      ],
      "execution_count": 4,
      "outputs": [
        {
          "output_type": "stream",
          "text": [
            "/usr/local/lib/python3.6/dist-packages/ipykernel_launcher.py:1: SettingWithCopyWarning: \n",
            "A value is trying to be set on a copy of a slice from a DataFrame\n",
            "\n",
            "See the caveats in the documentation: https://pandas.pydata.org/pandas-docs/stable/user_guide/indexing.html#returning-a-view-versus-a-copy\n",
            "  \"\"\"Entry point for launching an IPython kernel.\n"
          ],
          "name": "stderr"
        }
      ]
    },
    {
      "cell_type": "code",
      "metadata": {
        "id": "kKg6myeBO6kf",
        "colab_type": "code",
        "colab": {
          "base_uri": "https://localhost:8080/",
          "height": 363
        },
        "outputId": "fd7c617f-d3d1-470c-9fe3-952cdadd9d85"
      },
      "source": [
        "ratings.head(10)"
      ],
      "execution_count": 5,
      "outputs": [
        {
          "output_type": "execute_result",
          "data": {
            "text/html": [
              "<div>\n",
              "<style scoped>\n",
              "    .dataframe tbody tr th:only-of-type {\n",
              "        vertical-align: middle;\n",
              "    }\n",
              "\n",
              "    .dataframe tbody tr th {\n",
              "        vertical-align: top;\n",
              "    }\n",
              "\n",
              "    .dataframe thead th {\n",
              "        text-align: right;\n",
              "    }\n",
              "</style>\n",
              "<table border=\"1\" class=\"dataframe\">\n",
              "  <thead>\n",
              "    <tr style=\"text-align: right;\">\n",
              "      <th></th>\n",
              "      <th>userId</th>\n",
              "      <th>movieId</th>\n",
              "      <th>rating</th>\n",
              "      <th>timestamp</th>\n",
              "    </tr>\n",
              "  </thead>\n",
              "  <tbody>\n",
              "    <tr>\n",
              "      <th>36</th>\n",
              "      <td>1</td>\n",
              "      <td>5952</td>\n",
              "      <td>4.0</td>\n",
              "      <td>1147868053</td>\n",
              "    </tr>\n",
              "    <tr>\n",
              "      <th>13</th>\n",
              "      <td>1</td>\n",
              "      <td>2012</td>\n",
              "      <td>2.5</td>\n",
              "      <td>1147868068</td>\n",
              "    </tr>\n",
              "    <tr>\n",
              "      <th>12</th>\n",
              "      <td>1</td>\n",
              "      <td>2011</td>\n",
              "      <td>2.5</td>\n",
              "      <td>1147868079</td>\n",
              "    </tr>\n",
              "    <tr>\n",
              "      <th>11</th>\n",
              "      <td>1</td>\n",
              "      <td>1653</td>\n",
              "      <td>4.0</td>\n",
              "      <td>1147868097</td>\n",
              "    </tr>\n",
              "    <tr>\n",
              "      <th>9</th>\n",
              "      <td>1</td>\n",
              "      <td>1250</td>\n",
              "      <td>4.0</td>\n",
              "      <td>1147868414</td>\n",
              "    </tr>\n",
              "    <tr>\n",
              "      <th>40</th>\n",
              "      <td>1</td>\n",
              "      <td>6539</td>\n",
              "      <td>3.5</td>\n",
              "      <td>1147868461</td>\n",
              "    </tr>\n",
              "    <tr>\n",
              "      <th>39</th>\n",
              "      <td>1</td>\n",
              "      <td>6377</td>\n",
              "      <td>4.0</td>\n",
              "      <td>1147868469</td>\n",
              "    </tr>\n",
              "    <tr>\n",
              "      <th>21</th>\n",
              "      <td>1</td>\n",
              "      <td>3448</td>\n",
              "      <td>4.0</td>\n",
              "      <td>1147868480</td>\n",
              "    </tr>\n",
              "    <tr>\n",
              "      <th>5</th>\n",
              "      <td>1</td>\n",
              "      <td>1088</td>\n",
              "      <td>4.0</td>\n",
              "      <td>1147868495</td>\n",
              "    </tr>\n",
              "    <tr>\n",
              "      <th>4</th>\n",
              "      <td>1</td>\n",
              "      <td>899</td>\n",
              "      <td>3.5</td>\n",
              "      <td>1147868510</td>\n",
              "    </tr>\n",
              "  </tbody>\n",
              "</table>\n",
              "</div>"
            ],
            "text/plain": [
              "    userId  movieId  rating   timestamp\n",
              "36       1     5952     4.0  1147868053\n",
              "13       1     2012     2.5  1147868068\n",
              "12       1     2011     2.5  1147868079\n",
              "11       1     1653     4.0  1147868097\n",
              "9        1     1250     4.0  1147868414\n",
              "40       1     6539     3.5  1147868461\n",
              "39       1     6377     4.0  1147868469\n",
              "21       1     3448     4.0  1147868480\n",
              "5        1     1088     4.0  1147868495\n",
              "4        1      899     3.5  1147868510"
            ]
          },
          "metadata": {
            "tags": []
          },
          "execution_count": 5
        }
      ]
    },
    {
      "cell_type": "code",
      "metadata": {
        "id": "fa3dQvjMS9X_",
        "colab_type": "code",
        "colab": {
          "base_uri": "https://localhost:8080/",
          "height": 35
        },
        "outputId": "cdd3c8d9-bcf4-4a3e-c25e-9c527f4feb06"
      },
      "source": [
        "users_total = len(ratings['userId'].unique())\n",
        "print(users_total)"
      ],
      "execution_count": 6,
      "outputs": [
        {
          "output_type": "stream",
          "text": [
            "4\n"
          ],
          "name": "stdout"
        }
      ]
    },
    {
      "cell_type": "markdown",
      "metadata": {
        "id": "MGE4C9S9D1aJ",
        "colab_type": "text"
      },
      "source": [
        "**Selecting the most recent movies rated by each user and padding if necessary**"
      ]
    },
    {
      "cell_type": "code",
      "metadata": {
        "id": "Z3IOw1dWn7VZ",
        "colab_type": "code",
        "colab": {}
      },
      "source": [
        "movie_list = []\n",
        "for i in range(users_total):\n",
        "  list1 = []\n",
        "  list1 = ratings.loc[ratings['userId'] ==(i+1),['movieId']]['movieId'].tolist()\n",
        "  if len(list1)>max_seq_length:\n",
        "    list1 = list1[(len(list1)-max_seq_length):]\n",
        "  elif len(list1)<max_seq_length:\n",
        "    for j in range((max_seq_length-len(list1))):\n",
        "      list1.append(0)\n",
        "  movie_list.append(list1)\n",
        "#print(movie_list)"
      ],
      "execution_count": 7,
      "outputs": []
    },
    {
      "cell_type": "markdown",
      "metadata": {
        "id": "_u-upeTYEBKB",
        "colab_type": "text"
      },
      "source": [
        "**Selecting the most recent ratings of each user and padding if necessary**"
      ]
    },
    {
      "cell_type": "code",
      "metadata": {
        "id": "cycBk8xyyuiG",
        "colab_type": "code",
        "colab": {}
      },
      "source": [
        "rating_list =[]\n",
        "for i in range(users_total):\n",
        "  list2 = []\n",
        "  list2 = ratings.loc[ratings['userId'] ==(i+1),['rating']]['rating'].tolist()\n",
        "  if len(list2)>max_seq_length:\n",
        "    list2 = list2[(len(list2)-max_seq_length):]\n",
        "  elif len(list2)<max_seq_length:\n",
        "    for j in range((max_seq_length-len(list2))):\n",
        "      list2.append(0)\n",
        "  rating_list.append(list2)\n",
        "#print(rating_list)"
      ],
      "execution_count": 8,
      "outputs": []
    },
    {
      "cell_type": "code",
      "metadata": {
        "id": "OXS7e463S8yw",
        "colab_type": "code",
        "colab": {
          "base_uri": "https://localhost:8080/",
          "height": 164
        },
        "outputId": "577955b2-3c40-4027-8241-6426f4b4a33a"
      },
      "source": [
        "movies_transpose = pd.DataFrame(data=movie_list,index=[i+1 for i in range(users_total)])\n",
        "movies_transpose.index.names = ['userId']\n",
        "print(movies_transpose)"
      ],
      "execution_count": 9,
      "outputs": [
        {
          "output_type": "stream",
          "text": [
            "            0     1     2       3     4   ...     95      96     97    98    99\n",
            "userId                                    ...                                  \n",
            "1         5952  2012  2011    1653  1250  ...      0       0      0     0     0\n",
            "2         4306  8368  8360    3793  4995  ...   2987    1293   7090  1136  2150\n",
            "3       176371  3968  8983  102407  6548  ...  88125  106489  81834  4262  1732\n",
            "4         8665  8961  4993    1580  5444  ...      0       0      0     0     0\n",
            "\n",
            "[4 rows x 100 columns]\n"
          ],
          "name": "stdout"
        }
      ]
    },
    {
      "cell_type": "code",
      "metadata": {
        "id": "KHvK0xqgQ-ql",
        "colab_type": "code",
        "colab": {
          "base_uri": "https://localhost:8080/",
          "height": 164
        },
        "outputId": "5de3ddb3-8760-41f5-eecf-7334957e3d2d"
      },
      "source": [
        "ratings_transpose = pd.DataFrame(data=rating_list,index=[i+1 for i in range(users_total)])\n",
        "ratings_transpose.index.names = ['userId']\n",
        "print(ratings_transpose)"
      ],
      "execution_count": 10,
      "outputs": [
        {
          "output_type": "stream",
          "text": [
            "         0    1    2    3    4    5    6   ...   93   94   95   96   97   98   99\n",
            "userId                                     ...                                   \n",
            "1       4.0  2.5  2.5  4.0  4.0  3.5  4.0  ...  0.0  0.0  0.0  0.0  0.0  0.0  0.0\n",
            "2       4.5  5.0  4.0  5.0  5.0  4.0  5.0  ...  0.5  3.0  0.5  5.0  2.0  5.0  5.0\n",
            "3       4.5  3.0  4.0  4.0  3.0  4.0  3.5  ...  2.5  4.0  3.5  3.5  3.5  4.5  4.5\n",
            "4       3.5  5.0  4.5  4.5  4.0  4.0  4.0  ...  0.0  0.0  0.0  0.0  0.0  0.0  0.0\n",
            "\n",
            "[4 rows x 100 columns]\n"
          ],
          "name": "stdout"
        }
      ]
    },
    {
      "cell_type": "code",
      "metadata": {
        "id": "vQlNGUIjQ-yy",
        "colab_type": "code",
        "colab": {}
      },
      "source": [
        "# Select features from original dataset to form a new dataframe \n",
        "df1 = movies_transpose.iloc[:]# For each row, combine all the columns into one column\n",
        "df2 = df1.apply(lambda x: ','.join(x.astype(str)), axis=1)# Store them in a pandas dataframe\n",
        "df_clean = pd.DataFrame({'clean': df2})# Create the list of list format of the custom corpus for gensim modeling \n",
        "sent = [row.split(',') for row in df_clean['clean']]"
      ],
      "execution_count": 11,
      "outputs": []
    },
    {
      "cell_type": "code",
      "metadata": {
        "id": "5BMqwz6qD0v5",
        "colab_type": "code",
        "colab": {
          "base_uri": "https://localhost:8080/",
          "height": 55
        },
        "outputId": "04ab6d98-b25f-48d9-90dd-f917d8023fa6"
      },
      "source": [
        "#list of lists format of the ratings transpose matrix\n",
        "print(sent)"
      ],
      "execution_count": 12,
      "outputs": [
        {
          "output_type": "stream",
          "text": [
            "[['5952', '2012', '2011', '1653', '1250', '6539', '6377', '3448', '1088', '899', '4308', '2161', '6711', '3949', '8360', '5878', '306', '1175', '307', '1237', '7327', '8154', '7234', '2843', '4144', '7365', '2068', '4422', '4973', '6016', '8873', '2692', '27721', '7323', '6954', '8014', '7939', '6370', '8973', '4703', '31956', '5147', '8786', '1260', '2351', '7940', '7209', '8685', '7820', '7937', '7938', '8405', '4325', '2632', '1217', '8729', '5912', '5767', '665', '2573', '27266', '8327', '32591', '5269', '3569', '27193', '5684', '7318', '296', '7361', '0', '0', '0', '0', '0', '0', '0', '0', '0', '0', '0', '0', '0', '0', '0', '0', '0', '0', '0', '0', '0', '0', '0', '0', '0', '0', '0', '0', '0', '0'], ['4306', '8368', '8360', '3793', '4995', '4963', '8636', '2355', '8665', '2571', '589', '33493', '7153', '1873', '1246', '1584', '3994', '2139', '31923', '4720', '2294', '2745', '2138', '858', '33660', '2268', '2501', '6539', '1270', '6565', '4535', '1198', '1302', '349', '3098', '1907', '1580', '364', '480', '3360', '524', '5103', '62', '7075', '1287', '260', '318', '588', '1693', '1196', '4993', '2918', '3105', '5955', '1275', '1393', '6879', '5010', '6311', '8970', '1356', '3175', '4016', '1672', '1257', '2115', '36527', '1674', '1376', '7624', '2359', '8958', '35836', '2761', '953', '1923', '6947', '3148', '2083', '8010', '7162', '914', '4023', '33166', '3396', '1527', '2324', '1271', '30848', '30749', '534', '4103', '4874', '261', '1465', '2987', '1293', '7090', '1136', '2150'], ['176371', '3968', '8983', '102407', '6548', '4448', '103141', '139644', '187593', '135143', '90866', '86911', '27660', '171763', '8861', '143385', '112138', '5313', '4958', '136020', '6879', '59501', '122906', '111659', '88405', '158238', '179819', '99112', '166635', '135536', '97306', '65514', '135569', '187541', '136864', '57528', '1960', '96079', '94677', '97923', '46335', '159093', '86644', '112171', '59900', '67923', '71464', '71156', '5900', '62999', '68793', '130634', '81537', '53129', '89753', '68952', '140956', '97225', '102716', '104241', '70336', '111113', '129354', '45666', '82202', '54648', '102686', '39435', '96861', '61248', '31221', '158966', '85020', '83349', '79224', '64030', '105213', '56156', '107348', '176101', '103810', '49822', '91976', '73323', '149406', '122896', '103384', '168612', '91974', '55805', '111443', '109578', '87876', '94018', '79091', '88125', '106489', '81834', '4262', '1732'], ['8665', '8961', '4993', '1580', '5444', '7153', '6539', '33794', '6874', '1210', '1610', '7438', '780', '34405', '1214', '2028', '2985', '1291', '260', '5618', '1907', '38038', '2571', '44665', '8874', '1198', '1196', '296', '44191', '1527', '7143', '8641', '589', '1220', '5418', '4308', '8914', '4886', '6377', '4816', '34048', '5903', '7373', '6947', '5219', '3827', '5110', '6156', '45431', '7324', '44193', '4974', '6550', '7451', '1036', '3751', '6863', '5299', '3624', '4709', '924', '1265', '1201', '3681', '7569', '2993', '1732', '2019', '2918', '3175', '1278', '1080', '3114', '3671', '2791', '1288', '1270', '1', '541', '1200', '2716', '3039', '2115', '2951', '3033', '4963', '1197', '5952', '3793', '1136', '0', '0', '0', '0', '0', '0', '0', '0', '0', '0']]\n"
          ],
          "name": "stdout"
        }
      ]
    },
    {
      "cell_type": "code",
      "metadata": {
        "id": "-b0kp6qNFDGO",
        "colab_type": "code",
        "colab": {}
      },
      "source": [
        "model = Word2Vec(sent,min_count=1,size= 50,workers=3, window =3, sg = 1)"
      ],
      "execution_count": 13,
      "outputs": []
    },
    {
      "cell_type": "code",
      "metadata": {
        "id": "sAD5-PddA-44",
        "colab_type": "code",
        "colab": {}
      },
      "source": [
        "#user_vec = []\n",
        "#for i in range(users_total):\n",
        "#  a = np.zeros((50,))\n",
        "#  for j in range(max_seq_length):\n",
        "#    a = a+ model[sent[i][j]]\n",
        "#  user_vec.append(a)"
      ],
      "execution_count": 14,
      "outputs": []
    },
    {
      "cell_type": "code",
      "metadata": {
        "id": "p1OkRVCjC7vu",
        "colab_type": "code",
        "colab": {}
      },
      "source": [
        "#user_vec"
      ],
      "execution_count": 15,
      "outputs": []
    },
    {
      "cell_type": "code",
      "metadata": {
        "id": "qT7FRNDAG6lW",
        "colab_type": "code",
        "colab": {
          "base_uri": "https://localhost:8080/",
          "height": 74
        },
        "outputId": "840f2976-162a-4761-99a8-d42d40565d25"
      },
      "source": [
        "model.save('wordtovec')"
      ],
      "execution_count": 16,
      "outputs": [
        {
          "output_type": "stream",
          "text": [
            "/usr/local/lib/python3.6/dist-packages/smart_open/smart_open_lib.py:253: UserWarning: This function is deprecated, use smart_open.open instead. See the migration notes for details: https://github.com/RaRe-Technologies/smart_open/blob/master/README.rst#migrating-to-the-new-open-function\n",
            "  'See the migration notes for details: %s' % _MIGRATION_NOTES_URL\n"
          ],
          "name": "stderr"
        }
      ]
    },
    {
      "cell_type": "code",
      "metadata": {
        "id": "1by7udVVH2PJ",
        "colab_type": "code",
        "colab": {
          "base_uri": "https://localhost:8080/",
          "height": 55
        },
        "outputId": "d5b1988f-16b7-4ca4-92f7-4935bf515473"
      },
      "source": [
        "corpus = gensim.matutils.Dense2Corpus(np.array(sent))\n",
        "print(list(corpus))\n",
        "total_topics = 10"
      ],
      "execution_count": 17,
      "outputs": [
        {
          "output_type": "stream",
          "text": [
            "[[(0, 5952.0), (1, 4306.0), (2, 176371.0), (3, 8665.0)], [(0, 2012.0), (1, 8368.0), (2, 3968.0), (3, 8961.0)], [(0, 2011.0), (1, 8360.0), (2, 8983.0), (3, 4993.0)], [(0, 1653.0), (1, 3793.0), (2, 102407.0), (3, 1580.0)], [(0, 1250.0), (1, 4995.0), (2, 6548.0), (3, 5444.0)], [(0, 6539.0), (1, 4963.0), (2, 4448.0), (3, 7153.0)], [(0, 6377.0), (1, 8636.0), (2, 103141.0), (3, 6539.0)], [(0, 3448.0), (1, 2355.0), (2, 139644.0), (3, 33794.0)], [(0, 1088.0), (1, 8665.0), (2, 187593.0), (3, 6874.0)], [(0, 899.0), (1, 2571.0), (2, 135143.0), (3, 1210.0)], [(0, 4308.0), (1, 589.0), (2, 90866.0), (3, 1610.0)], [(0, 2161.0), (1, 33493.0), (2, 86911.0), (3, 7438.0)], [(0, 6711.0), (1, 7153.0), (2, 27660.0), (3, 780.0)], [(0, 3949.0), (1, 1873.0), (2, 171763.0), (3, 34405.0)], [(0, 8360.0), (1, 1246.0), (2, 8861.0), (3, 1214.0)], [(0, 5878.0), (1, 1584.0), (2, 143385.0), (3, 2028.0)], [(0, 306.0), (1, 3994.0), (2, 112138.0), (3, 2985.0)], [(0, 1175.0), (1, 2139.0), (2, 5313.0), (3, 1291.0)], [(0, 307.0), (1, 31923.0), (2, 4958.0), (3, 260.0)], [(0, 1237.0), (1, 4720.0), (2, 136020.0), (3, 5618.0)], [(0, 7327.0), (1, 2294.0), (2, 6879.0), (3, 1907.0)], [(0, 8154.0), (1, 2745.0), (2, 59501.0), (3, 38038.0)], [(0, 7234.0), (1, 2138.0), (2, 122906.0), (3, 2571.0)], [(0, 2843.0), (1, 858.0), (2, 111659.0), (3, 44665.0)], [(0, 4144.0), (1, 33660.0), (2, 88405.0), (3, 8874.0)], [(0, 7365.0), (1, 2268.0), (2, 158238.0), (3, 1198.0)], [(0, 2068.0), (1, 2501.0), (2, 179819.0), (3, 1196.0)], [(0, 4422.0), (1, 6539.0), (2, 99112.0), (3, 296.0)], [(0, 4973.0), (1, 1270.0), (2, 166635.0), (3, 44191.0)], [(0, 6016.0), (1, 6565.0), (2, 135536.0), (3, 1527.0)], [(0, 8873.0), (1, 4535.0), (2, 97306.0), (3, 7143.0)], [(0, 2692.0), (1, 1198.0), (2, 65514.0), (3, 8641.0)], [(0, 27721.0), (1, 1302.0), (2, 135569.0), (3, 589.0)], [(0, 7323.0), (1, 349.0), (2, 187541.0), (3, 1220.0)], [(0, 6954.0), (1, 3098.0), (2, 136864.0), (3, 5418.0)], [(0, 8014.0), (1, 1907.0), (2, 57528.0), (3, 4308.0)], [(0, 7939.0), (1, 1580.0), (2, 1960.0), (3, 8914.0)], [(0, 6370.0), (1, 364.0), (2, 96079.0), (3, 4886.0)], [(0, 8973.0), (1, 480.0), (2, 94677.0), (3, 6377.0)], [(0, 4703.0), (1, 3360.0), (2, 97923.0), (3, 4816.0)], [(0, 31956.0), (1, 524.0), (2, 46335.0), (3, 34048.0)], [(0, 5147.0), (1, 5103.0), (2, 159093.0), (3, 5903.0)], [(0, 8786.0), (1, 62.0), (2, 86644.0), (3, 7373.0)], [(0, 1260.0), (1, 7075.0), (2, 112171.0), (3, 6947.0)], [(0, 2351.0), (1, 1287.0), (2, 59900.0), (3, 5219.0)], [(0, 7940.0), (1, 260.0), (2, 67923.0), (3, 3827.0)], [(0, 7209.0), (1, 318.0), (2, 71464.0), (3, 5110.0)], [(0, 8685.0), (1, 588.0), (2, 71156.0), (3, 6156.0)], [(0, 7820.0), (1, 1693.0), (2, 5900.0), (3, 45431.0)], [(0, 7937.0), (1, 1196.0), (2, 62999.0), (3, 7324.0)], [(0, 7938.0), (1, 4993.0), (2, 68793.0), (3, 44193.0)], [(0, 8405.0), (1, 2918.0), (2, 130634.0), (3, 4974.0)], [(0, 4325.0), (1, 3105.0), (2, 81537.0), (3, 6550.0)], [(0, 2632.0), (1, 5955.0), (2, 53129.0), (3, 7451.0)], [(0, 1217.0), (1, 1275.0), (2, 89753.0), (3, 1036.0)], [(0, 8729.0), (1, 1393.0), (2, 68952.0), (3, 3751.0)], [(0, 5912.0), (1, 6879.0), (2, 140956.0), (3, 6863.0)], [(0, 5767.0), (1, 5010.0), (2, 97225.0), (3, 5299.0)], [(0, 665.0), (1, 6311.0), (2, 102716.0), (3, 3624.0)], [(0, 2573.0), (1, 8970.0), (2, 104241.0), (3, 4709.0)], [(0, 27266.0), (1, 1356.0), (2, 70336.0), (3, 924.0)], [(0, 8327.0), (1, 3175.0), (2, 111113.0), (3, 1265.0)], [(0, 32591.0), (1, 4016.0), (2, 129354.0), (3, 1201.0)], [(0, 5269.0), (1, 1672.0), (2, 45666.0), (3, 3681.0)], [(0, 3569.0), (1, 1257.0), (2, 82202.0), (3, 7569.0)], [(0, 27193.0), (1, 2115.0), (2, 54648.0), (3, 2993.0)], [(0, 5684.0), (1, 36527.0), (2, 102686.0), (3, 1732.0)], [(0, 7318.0), (1, 1674.0), (2, 39435.0), (3, 2019.0)], [(0, 296.0), (1, 1376.0), (2, 96861.0), (3, 2918.0)], [(0, 7361.0), (1, 7624.0), (2, 61248.0), (3, 3175.0)], [(1, 2359.0), (2, 31221.0), (3, 1278.0)], [(1, 8958.0), (2, 158966.0), (3, 1080.0)], [(1, 35836.0), (2, 85020.0), (3, 3114.0)], [(1, 2761.0), (2, 83349.0), (3, 3671.0)], [(1, 953.0), (2, 79224.0), (3, 2791.0)], [(1, 1923.0), (2, 64030.0), (3, 1288.0)], [(1, 6947.0), (2, 105213.0), (3, 1270.0)], [(1, 3148.0), (2, 56156.0), (3, 1.0)], [(1, 2083.0), (2, 107348.0), (3, 541.0)], [(1, 8010.0), (2, 176101.0), (3, 1200.0)], [(1, 7162.0), (2, 103810.0), (3, 2716.0)], [(1, 914.0), (2, 49822.0), (3, 3039.0)], [(1, 4023.0), (2, 91976.0), (3, 2115.0)], [(1, 33166.0), (2, 73323.0), (3, 2951.0)], [(1, 3396.0), (2, 149406.0), (3, 3033.0)], [(1, 1527.0), (2, 122896.0), (3, 4963.0)], [(1, 2324.0), (2, 103384.0), (3, 1197.0)], [(1, 1271.0), (2, 168612.0), (3, 5952.0)], [(1, 30848.0), (2, 91974.0), (3, 3793.0)], [(1, 30749.0), (2, 55805.0), (3, 1136.0)], [(1, 534.0), (2, 111443.0)], [(1, 4103.0), (2, 109578.0)], [(1, 4874.0), (2, 87876.0)], [(1, 261.0), (2, 94018.0)], [(1, 1465.0), (2, 79091.0)], [(1, 2987.0), (2, 88125.0)], [(1, 1293.0), (2, 106489.0)], [(1, 7090.0), (2, 81834.0)], [(1, 1136.0), (2, 4262.0)], [(1, 2150.0), (2, 1732.0)]]\n"
          ],
          "name": "stdout"
        }
      ]
    },
    {
      "cell_type": "code",
      "metadata": {
        "id": "zsSSOCXEHsMX",
        "colab_type": "code",
        "colab": {
          "base_uri": "https://localhost:8080/",
          "height": 74
        },
        "outputId": "9a1a524e-5c71-4bfc-dba5-3a935a6fc8d3"
      },
      "source": [
        "lsi = models.LsiModel(corpus, num_topics=total_topics)\n",
        "index = similarities.MatrixSimilarity(lsi[corpus])\n",
        "lsi_data = lsi[corpus]"
      ],
      "execution_count": 18,
      "outputs": [
        {
          "output_type": "stream",
          "text": [
            "/usr/local/lib/python3.6/dist-packages/gensim/matutils.py:737: FutureWarning: Conversion of the second argument of issubdtype from `int` to `np.signedinteger` is deprecated. In future, it will be treated as `np.int64 == np.dtype(int).type`.\n",
            "  if np.issubdtype(vec.dtype, np.int):\n"
          ],
          "name": "stderr"
        }
      ]
    },
    {
      "cell_type": "code",
      "metadata": {
        "id": "OQrUkVdaQK9o",
        "colab_type": "code",
        "colab": {}
      },
      "source": [
        "#list(lsi_data)"
      ],
      "execution_count": 19,
      "outputs": []
    },
    {
      "cell_type": "code",
      "metadata": {
        "id": "DXHHiE6WOwBc",
        "colab_type": "code",
        "colab": {
          "base_uri": "https://localhost:8080/",
          "height": 90
        },
        "outputId": "aa895004-00a6-4ecc-a5b0-342092642e15"
      },
      "source": [
        "lsi_topics = lsi.print_topics()\n",
        "for topic in lsi_topics:\n",
        "  print(topic)"
      ],
      "execution_count": 20,
      "outputs": [
        {
          "output_type": "stream",
          "text": [
            "(0, '0.996*\"2\" + 0.057*\"3\" + 0.047*\"1\" + 0.040*\"0\"')\n",
            "(1, '0.965*\"3\" + 0.252*\"0\" + -0.063*\"2\" + -0.045*\"1\"')\n",
            "(2, '0.995*\"1\" + -0.063*\"0\" + 0.060*\"3\" + -0.048*\"2\"')\n",
            "(3, '-0.965*\"0\" + 0.251*\"3\" + -0.075*\"1\" + 0.028*\"2\"')\n"
          ],
          "name": "stdout"
        }
      ]
    },
    {
      "cell_type": "code",
      "metadata": {
        "id": "xxRQ_4yEMgo3",
        "colab_type": "code",
        "colab": {
          "base_uri": "https://localhost:8080/",
          "height": 74
        },
        "outputId": "4049f6ff-9afd-4bd2-fac3-259245a97dcc"
      },
      "source": [
        "lsi.save('lsimodel')"
      ],
      "execution_count": 21,
      "outputs": [
        {
          "output_type": "stream",
          "text": [
            "/usr/local/lib/python3.6/dist-packages/smart_open/smart_open_lib.py:253: UserWarning: This function is deprecated, use smart_open.open instead. See the migration notes for details: https://github.com/RaRe-Technologies/smart_open/blob/master/README.rst#migrating-to-the-new-open-function\n",
            "  'See the migration notes for details: %s' % _MIGRATION_NOTES_URL\n"
          ],
          "name": "stderr"
        }
      ]
    },
    {
      "cell_type": "code",
      "metadata": {
        "id": "UvP3poDdMrd9",
        "colab_type": "code",
        "colab": {
          "base_uri": "https://localhost:8080/",
          "height": 55
        },
        "outputId": "1df78455-8c5b-41b9-d708-209b190b5c61"
      },
      "source": [
        "tfidf = models.TfidfModel(corpus)\n",
        "tfidf_data = tfidf[corpus]\n",
        "print(list(tfidf_data))"
      ],
      "execution_count": 22,
      "outputs": [
        {
          "output_type": "stream",
          "text": [
            "[[(0, 0.9186551661069456), (3, 0.39506035714181714)], [(0, 0.6051297393815158), (3, 0.7961268733788974)], [(0, 0.8063703476896577), (3, 0.5914109082244431)], [(0, 0.962374247973125), (3, 0.2717274495485543)], [(0, 0.6137037357667979), (3, 0.7895363985946919)], [(0, 0.9515547532155332), (3, 0.30747935155539446)], [(0, 0.9570588367417666), (3, 0.28989374435212695)], [(0, 0.3264742182059674), (3, 0.945206107072316)], [(0, 0.4722897251747432), (3, 0.8814433705544366)], [(0, 0.9292482308246142), (3, 0.36945598588915124)], [(0, 0.9939614418421958), (3, 0.10972990536304723)], [(0, 0.7012159079509601), (3, 0.712948981650518)], [(0, 0.9994111406646993), (3, 0.03431285349959301)], [(0, 0.36218154888126436), (3, 0.9321075719303907)], [(0, 0.9990812305440113), (3, 0.042856677130453866)], [(0, 0.9948466448420678), (3, 0.10139109056756679)], [(0, 0.32785284841342377), (3, 0.9447288022428472)], [(0, 0.9511572929897252), (3, 0.3087066633431454)], [(0, 0.9701030218311882), (3, 0.2426934837073241)], [(0, 0.5976310515866797), (3, 0.8017712430484143)], [(0, 0.997057547601866), (3, 0.07665668118404786)], [(0, 0.5873305525835606), (3, 0.8093471579006685)], [(0, 0.994534175824555), (3, 0.10441155643401351)], [(0, 0.2106439196200487), (3, 0.9775628568675789)], [(0, 0.8451125676614806), (3, 0.5345883911764445)], [(0, 0.9988476152744924), (3, 0.04799418152713733)], [(0, 0.9857189450570231), (3, 0.16839881637253107)], [(0, 0.9998045664173308), (3, 0.019769394807458172)], [(0, 0.35600152080458913), (3, 0.9344853755863811)], [(0, 0.9972009118935643), (3, 0.07476858510526867)], [(0, 0.9728704634608034), (3, 0.23135051615581395)], [(0, 0.725655857758236), (3, 0.6880578290384891)], [(0, 0.9999803038860176), (3, 0.006276291901113192)], [(0, 0.9987912564006413), (3, 0.049153088790314756)], [(0, 0.9745234005337106), (3, 0.22428584844392901)], [(0, 0.9876259011960691), (3, 0.15682818396784556)], [(0, 0.949154579905622), (3, 0.31481039284652335)], [(0, 0.9752788959898508), (3, 0.22097754419129967)], [(0, 0.9786663667260327), (3, 0.20545593843757903)], [(0, 0.9571667572890256), (3, 0.28953721477698136)], [(0, 0.953871165978983), (3, 0.3002162532473807)], [(0, 0.9471229580271376), (3, 0.3208708499971987)], [(0, 0.9706225596135613), (3, 0.24060724587846238)], [(0, 0.5232409596550474), (3, 0.8521847793402936)], [(0, 0.8362386947445357), (3, 0.5483656129006953)], [(0, 0.9900157785751106), (3, 0.14095658257888377)], [(0, 0.9787738668012983), (3, 0.20494320595431928)], [(0, 0.9787754841194707), (3, 0.20493548176608165)], [(0, 0.5034662815517781), (3, 0.8640148744902634)], [(0, 0.964799380890138), (3, 0.2629869856742088)], [(0, 0.5195557395884435), (3, 0.8544365590614118)], [(0, 0.9850617545382311), (3, 0.17220145105678297)], [(0, 0.9128199521058843), (3, 0.4083622595654639)], [(0, 0.7671213428767001), (3, 0.6415020228362873)], [(0, 0.969807689835495), (3, 0.24387095918936333)], [(0, 0.9920395842156402), (3, 0.12592642037817148)], [(0, 0.9459295262941076), (3, 0.3243722110246269)], [(0, 0.9650822362810446), (3, 0.26194708857854815)], [(0, 0.5276728994575673), (3, 0.8494476506401344)], [(0, 0.8796763184834366), (3, 0.47557289104765776)], [(0, 0.9999498986972504), (3, 0.010009999768158728)], [(0, 0.9989946224841677), (3, 0.04483017117651197)], [(0, 0.9999407576027486), (3, 0.010884910878882074)], [(0, 0.9793629455387182), (3, 0.20210942804759466)], [(0, 0.8474396199175653), (3, 0.5308917880264985)], [(0, 0.9994718763495537), (3, 0.03249566719275891)], [(0, 0.9959733958585442), (3, 0.08964928745951997)], [(0, 0.9966954560955381), (3, 0.08122910684297373)], [(0, 0.32478427494588624), (3, 0.9457881236026783)], [(0, 0.9919805311768108), (3, 0.12639076614283298)], [(3, 1.0)], [(3, 1.0)], [(3, 1.0)], [(3, 1.0)], [(3, 1.0)], [(3, 1.0)], [(3, 1.0)], [(3, 1.0)], [(3, 1.0)], [(3, 1.0)], [(3, 1.0)], [(3, 1.0)], [(3, 1.0)], [(3, 1.0)], [(3, 1.0)], [(3, 1.0)], [(3, 1.0)], [(3, 1.0)], [(3, 1.0)], [(3, 1.0)], [], [], [], [], [], [], [], [], [], []]\n"
          ],
          "name": "stdout"
        }
      ]
    },
    {
      "cell_type": "code",
      "metadata": {
        "id": "wov4tKNENk0x",
        "colab_type": "code",
        "colab": {}
      },
      "source": [
        "#lsi_list = np.zeros((len(lsi_data), len(lsi_topics)), dtype=np.float64)\n",
        "#for i in range(len(corpus)):\n",
        "#    for j in range(len(lsi_topics)):\n",
        "#        lsi_list[i][j]= list(lsi_data)[i][j][1]\n",
        "\n",
        "tfidf_token= np.zeros((len(tfidf_data), 350), dtype=np.float64)\n",
        "tfidf_vals= np.zeros((len(tfidf_data), 350), dtype=np.float64)\n",
        "\n",
        "for i in range(len(corpus)):\n",
        "    for k in range(len(list(tfidf_data)[i])):\n",
        "        tfidf_token[i][k]=(list(tfidf_data))[i][k][0]\n",
        "        tfidf_vals[i][k]=(list(tfidf_data))[i][k][1]\n",
        "\n",
        "tfidf_list=list(tfidf_data)"
      ],
      "execution_count": 23,
      "outputs": []
    },
    {
      "cell_type": "code",
      "metadata": {
        "id": "S86Fy0tMNuug",
        "colab_type": "code",
        "colab": {
          "base_uri": "https://localhost:8080/",
          "height": 35
        },
        "outputId": "059a781d-b1ba-4c8d-c6d6-e55f99832400"
      },
      "source": [
        "tfidf_list[1]"
      ],
      "execution_count": 24,
      "outputs": [
        {
          "output_type": "execute_result",
          "data": {
            "text/plain": [
              "[(0, 0.6051297393815158), (3, 0.7961268733788974)]"
            ]
          },
          "metadata": {
            "tags": []
          },
          "execution_count": 24
        }
      ]
    },
    {
      "cell_type": "code",
      "metadata": {
        "id": "FTyHuXzgjXau",
        "colab_type": "code",
        "colab": {}
      },
      "source": [
        ""
      ],
      "execution_count": 24,
      "outputs": []
    }
  ]
}