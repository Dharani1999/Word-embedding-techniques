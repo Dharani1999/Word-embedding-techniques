{
  "nbformat": 4,
  "nbformat_minor": 0,
  "metadata": {
    "colab": {
      "name": "Code_model.ipynb",
      "provenance": [],
      "mount_file_id": "1wgpB7rU7rrk4BnoapdXtGyFmepqlRw6K",
      "authorship_tag": "ABX9TyM0gGC0fhq2gCorxsTPkl+S",
      "include_colab_link": true
    },
    "kernelspec": {
      "name": "python3",
      "display_name": "Python 3"
    }
  },
  "cells": [
    {
      "cell_type": "markdown",
      "metadata": {
        "id": "view-in-github",
        "colab_type": "text"
      },
      "source": [
        "<a href=\"https://colab.research.google.com/github/Dharani1999/Word-embedding-techniques/blob/master/Code_model.ipynb\" target=\"_parent\"><img src=\"https://colab.research.google.com/assets/colab-badge.svg\" alt=\"Open In Colab\"/></a>"
      ]
    },
    {
      "cell_type": "code",
      "metadata": {
        "id": "GTPPDaIkL-DE",
        "colab_type": "code",
        "colab": {}
      },
      "source": [
        "import pandas as pd\n",
        "import numpy as np\n",
        "import gensim\n",
        "from gensim import corpora, models, similarities\n",
        "from gensim.models import Word2Vec"
      ],
      "execution_count": 1,
      "outputs": []
    },
    {
      "cell_type": "code",
      "metadata": {
        "id": "-fMyc_f5O6W2",
        "colab_type": "code",
        "colab": {}
      },
      "source": [
        "max_seq_length = 100"
      ],
      "execution_count": 2,
      "outputs": []
    },
    {
      "cell_type": "code",
      "metadata": {
        "id": "JW14h9CXNcS7",
        "colab_type": "code",
        "colab": {
          "base_uri": "https://localhost:8080/",
          "height": 206
        },
        "outputId": "27041373-e2f8-4169-d842-8b9560ef36f7"
      },
      "source": [
        "ratings1 = pd.read_csv('/content/drive/My Drive/Movielensdata/ml25m/ratings.csv')\n",
        "ratings = ratings1.iloc[0:1000,:]\n",
        "#print(len(ratings['movieId'].unique()))\n",
        "ratings.head()"
      ],
      "execution_count": 3,
      "outputs": [
        {
          "output_type": "execute_result",
          "data": {
            "text/html": [
              "<div>\n",
              "<style scoped>\n",
              "    .dataframe tbody tr th:only-of-type {\n",
              "        vertical-align: middle;\n",
              "    }\n",
              "\n",
              "    .dataframe tbody tr th {\n",
              "        vertical-align: top;\n",
              "    }\n",
              "\n",
              "    .dataframe thead th {\n",
              "        text-align: right;\n",
              "    }\n",
              "</style>\n",
              "<table border=\"1\" class=\"dataframe\">\n",
              "  <thead>\n",
              "    <tr style=\"text-align: right;\">\n",
              "      <th></th>\n",
              "      <th>userId</th>\n",
              "      <th>movieId</th>\n",
              "      <th>rating</th>\n",
              "      <th>timestamp</th>\n",
              "    </tr>\n",
              "  </thead>\n",
              "  <tbody>\n",
              "    <tr>\n",
              "      <th>0</th>\n",
              "      <td>1</td>\n",
              "      <td>296</td>\n",
              "      <td>5.0</td>\n",
              "      <td>1147880044</td>\n",
              "    </tr>\n",
              "    <tr>\n",
              "      <th>1</th>\n",
              "      <td>1</td>\n",
              "      <td>306</td>\n",
              "      <td>3.5</td>\n",
              "      <td>1147868817</td>\n",
              "    </tr>\n",
              "    <tr>\n",
              "      <th>2</th>\n",
              "      <td>1</td>\n",
              "      <td>307</td>\n",
              "      <td>5.0</td>\n",
              "      <td>1147868828</td>\n",
              "    </tr>\n",
              "    <tr>\n",
              "      <th>3</th>\n",
              "      <td>1</td>\n",
              "      <td>665</td>\n",
              "      <td>5.0</td>\n",
              "      <td>1147878820</td>\n",
              "    </tr>\n",
              "    <tr>\n",
              "      <th>4</th>\n",
              "      <td>1</td>\n",
              "      <td>899</td>\n",
              "      <td>3.5</td>\n",
              "      <td>1147868510</td>\n",
              "    </tr>\n",
              "  </tbody>\n",
              "</table>\n",
              "</div>"
            ],
            "text/plain": [
              "   userId  movieId  rating   timestamp\n",
              "0       1      296     5.0  1147880044\n",
              "1       1      306     3.5  1147868817\n",
              "2       1      307     5.0  1147868828\n",
              "3       1      665     5.0  1147878820\n",
              "4       1      899     3.5  1147868510"
            ]
          },
          "metadata": {
            "tags": []
          },
          "execution_count": 3
        }
      ]
    },
    {
      "cell_type": "markdown",
      "metadata": {
        "id": "eAEY8YkSDimZ",
        "colab_type": "text"
      },
      "source": [
        "**Sorting the dataframe**"
      ]
    },
    {
      "cell_type": "code",
      "metadata": {
        "id": "o3T0iPjkO6LV",
        "colab_type": "code",
        "colab": {
          "base_uri": "https://localhost:8080/",
          "height": 129
        },
        "outputId": "c0f06d03-01f7-460a-bbc4-acd797fb6f8a"
      },
      "source": [
        "ratings.sort_values(by=['userId','timestamp'],inplace=True)"
      ],
      "execution_count": 4,
      "outputs": [
        {
          "output_type": "stream",
          "text": [
            "/usr/local/lib/python3.6/dist-packages/ipykernel_launcher.py:1: SettingWithCopyWarning: \n",
            "A value is trying to be set on a copy of a slice from a DataFrame\n",
            "\n",
            "See the caveats in the documentation: https://pandas.pydata.org/pandas-docs/stable/user_guide/indexing.html#returning-a-view-versus-a-copy\n",
            "  \"\"\"Entry point for launching an IPython kernel.\n"
          ],
          "name": "stderr"
        }
      ]
    },
    {
      "cell_type": "code",
      "metadata": {
        "id": "kKg6myeBO6kf",
        "colab_type": "code",
        "colab": {
          "base_uri": "https://localhost:8080/",
          "height": 363
        },
        "outputId": "9e1e9519-07c2-40e0-aa9e-6817a1ba805f"
      },
      "source": [
        "ratings.head(10)"
      ],
      "execution_count": 5,
      "outputs": [
        {
          "output_type": "execute_result",
          "data": {
            "text/html": [
              "<div>\n",
              "<style scoped>\n",
              "    .dataframe tbody tr th:only-of-type {\n",
              "        vertical-align: middle;\n",
              "    }\n",
              "\n",
              "    .dataframe tbody tr th {\n",
              "        vertical-align: top;\n",
              "    }\n",
              "\n",
              "    .dataframe thead th {\n",
              "        text-align: right;\n",
              "    }\n",
              "</style>\n",
              "<table border=\"1\" class=\"dataframe\">\n",
              "  <thead>\n",
              "    <tr style=\"text-align: right;\">\n",
              "      <th></th>\n",
              "      <th>userId</th>\n",
              "      <th>movieId</th>\n",
              "      <th>rating</th>\n",
              "      <th>timestamp</th>\n",
              "    </tr>\n",
              "  </thead>\n",
              "  <tbody>\n",
              "    <tr>\n",
              "      <th>36</th>\n",
              "      <td>1</td>\n",
              "      <td>5952</td>\n",
              "      <td>4.0</td>\n",
              "      <td>1147868053</td>\n",
              "    </tr>\n",
              "    <tr>\n",
              "      <th>13</th>\n",
              "      <td>1</td>\n",
              "      <td>2012</td>\n",
              "      <td>2.5</td>\n",
              "      <td>1147868068</td>\n",
              "    </tr>\n",
              "    <tr>\n",
              "      <th>12</th>\n",
              "      <td>1</td>\n",
              "      <td>2011</td>\n",
              "      <td>2.5</td>\n",
              "      <td>1147868079</td>\n",
              "    </tr>\n",
              "    <tr>\n",
              "      <th>11</th>\n",
              "      <td>1</td>\n",
              "      <td>1653</td>\n",
              "      <td>4.0</td>\n",
              "      <td>1147868097</td>\n",
              "    </tr>\n",
              "    <tr>\n",
              "      <th>9</th>\n",
              "      <td>1</td>\n",
              "      <td>1250</td>\n",
              "      <td>4.0</td>\n",
              "      <td>1147868414</td>\n",
              "    </tr>\n",
              "    <tr>\n",
              "      <th>40</th>\n",
              "      <td>1</td>\n",
              "      <td>6539</td>\n",
              "      <td>3.5</td>\n",
              "      <td>1147868461</td>\n",
              "    </tr>\n",
              "    <tr>\n",
              "      <th>39</th>\n",
              "      <td>1</td>\n",
              "      <td>6377</td>\n",
              "      <td>4.0</td>\n",
              "      <td>1147868469</td>\n",
              "    </tr>\n",
              "    <tr>\n",
              "      <th>21</th>\n",
              "      <td>1</td>\n",
              "      <td>3448</td>\n",
              "      <td>4.0</td>\n",
              "      <td>1147868480</td>\n",
              "    </tr>\n",
              "    <tr>\n",
              "      <th>5</th>\n",
              "      <td>1</td>\n",
              "      <td>1088</td>\n",
              "      <td>4.0</td>\n",
              "      <td>1147868495</td>\n",
              "    </tr>\n",
              "    <tr>\n",
              "      <th>4</th>\n",
              "      <td>1</td>\n",
              "      <td>899</td>\n",
              "      <td>3.5</td>\n",
              "      <td>1147868510</td>\n",
              "    </tr>\n",
              "  </tbody>\n",
              "</table>\n",
              "</div>"
            ],
            "text/plain": [
              "    userId  movieId  rating   timestamp\n",
              "36       1     5952     4.0  1147868053\n",
              "13       1     2012     2.5  1147868068\n",
              "12       1     2011     2.5  1147868079\n",
              "11       1     1653     4.0  1147868097\n",
              "9        1     1250     4.0  1147868414\n",
              "40       1     6539     3.5  1147868461\n",
              "39       1     6377     4.0  1147868469\n",
              "21       1     3448     4.0  1147868480\n",
              "5        1     1088     4.0  1147868495\n",
              "4        1      899     3.5  1147868510"
            ]
          },
          "metadata": {
            "tags": []
          },
          "execution_count": 5
        }
      ]
    },
    {
      "cell_type": "code",
      "metadata": {
        "id": "fa3dQvjMS9X_",
        "colab_type": "code",
        "colab": {
          "base_uri": "https://localhost:8080/",
          "height": 35
        },
        "outputId": "7363b429-b69d-45bb-a889-97b2b46f62bf"
      },
      "source": [
        "users_total = len(ratings['userId'].unique())\n",
        "print(users_total)"
      ],
      "execution_count": 6,
      "outputs": [
        {
          "output_type": "stream",
          "text": [
            "4\n"
          ],
          "name": "stdout"
        }
      ]
    },
    {
      "cell_type": "markdown",
      "metadata": {
        "id": "MGE4C9S9D1aJ",
        "colab_type": "text"
      },
      "source": [
        "**Selecting the most recent movies rated by each user and padding if necessary**"
      ]
    },
    {
      "cell_type": "code",
      "metadata": {
        "id": "Z3IOw1dWn7VZ",
        "colab_type": "code",
        "colab": {}
      },
      "source": [
        "movie_list = []\n",
        "for i in range(users_total):\n",
        "  list1 = []\n",
        "  list1 = ratings.loc[ratings['userId'] ==(i+1),['movieId']]['movieId'].tolist()\n",
        "  if len(list1)>max_seq_length:\n",
        "    list1 = list1[(len(list1)-max_seq_length):]\n",
        "  elif len(list1)<max_seq_length:\n",
        "    for j in range((max_seq_length-len(list1))):\n",
        "      list1.append(0)\n",
        "  movie_list.append(list1)\n",
        "#print(movie_list)"
      ],
      "execution_count": 7,
      "outputs": []
    },
    {
      "cell_type": "markdown",
      "metadata": {
        "id": "_u-upeTYEBKB",
        "colab_type": "text"
      },
      "source": [
        "**Selecting the most recent ratings of each user and padding if necessary**"
      ]
    },
    {
      "cell_type": "code",
      "metadata": {
        "id": "cycBk8xyyuiG",
        "colab_type": "code",
        "colab": {}
      },
      "source": [
        "rating_list =[]\n",
        "for i in range(users_total):\n",
        "  list2 = []\n",
        "  list2 = ratings.loc[ratings['userId'] ==(i+1),['rating']]['rating'].tolist()\n",
        "  if len(list2)>max_seq_length:\n",
        "    list2 = list2[(len(list2)-max_seq_length):]\n",
        "  elif len(list2)<max_seq_length:\n",
        "    for j in range((max_seq_length-len(list2))):\n",
        "      list2.append(0)\n",
        "  rating_list.append(list2)\n",
        "#print(rating_list)"
      ],
      "execution_count": 8,
      "outputs": []
    },
    {
      "cell_type": "code",
      "metadata": {
        "id": "OXS7e463S8yw",
        "colab_type": "code",
        "colab": {
          "base_uri": "https://localhost:8080/",
          "height": 164
        },
        "outputId": "506a9f92-20b0-444f-9d50-d5306e258381"
      },
      "source": [
        "movies_transpose = pd.DataFrame(data=movie_list,index=[i+1 for i in range(users_total)])\n",
        "movies_transpose.index.names = ['userId']\n",
        "print(movies_transpose)"
      ],
      "execution_count": 9,
      "outputs": [
        {
          "output_type": "stream",
          "text": [
            "            0     1     2       3     4   ...     95      96     97    98    99\n",
            "userId                                    ...                                  \n",
            "1         5952  2012  2011    1653  1250  ...      0       0      0     0     0\n",
            "2         4306  8368  8360    3793  4995  ...   2987    1293   7090  1136  2150\n",
            "3       176371  3968  8983  102407  6548  ...  88125  106489  81834  4262  1732\n",
            "4         8665  8961  4993    1580  5444  ...      0       0      0     0     0\n",
            "\n",
            "[4 rows x 100 columns]\n"
          ],
          "name": "stdout"
        }
      ]
    },
    {
      "cell_type": "code",
      "metadata": {
        "id": "KHvK0xqgQ-ql",
        "colab_type": "code",
        "colab": {
          "base_uri": "https://localhost:8080/",
          "height": 164
        },
        "outputId": "ed3bb198-d2e5-4ef8-c9ea-d80af70221ee"
      },
      "source": [
        "ratings_transpose = pd.DataFrame(data=rating_list,index=[i+1 for i in range(users_total)])\n",
        "ratings_transpose.index.names = ['userId']\n",
        "print(ratings_transpose)"
      ],
      "execution_count": 10,
      "outputs": [
        {
          "output_type": "stream",
          "text": [
            "         0    1    2    3    4    5    6   ...   93   94   95   96   97   98   99\n",
            "userId                                     ...                                   \n",
            "1       4.0  2.5  2.5  4.0  4.0  3.5  4.0  ...  0.0  0.0  0.0  0.0  0.0  0.0  0.0\n",
            "2       4.5  5.0  4.0  5.0  5.0  4.0  5.0  ...  0.5  3.0  0.5  5.0  2.0  5.0  5.0\n",
            "3       4.5  3.0  4.0  4.0  3.0  4.0  3.5  ...  2.5  4.0  3.5  3.5  3.5  4.5  4.5\n",
            "4       3.5  5.0  4.5  4.5  4.0  4.0  4.0  ...  0.0  0.0  0.0  0.0  0.0  0.0  0.0\n",
            "\n",
            "[4 rows x 100 columns]\n"
          ],
          "name": "stdout"
        }
      ]
    },
    {
      "cell_type": "markdown",
      "metadata": {
        "id": "N5GShtiojY0n",
        "colab_type": "text"
      },
      "source": [
        "**Separating each row as a list of strings into a list of lists 'sent' for gensim imput format**"
      ]
    },
    {
      "cell_type": "code",
      "metadata": {
        "id": "vQlNGUIjQ-yy",
        "colab_type": "code",
        "colab": {}
      },
      "source": [
        "# Select features from original dataset to form a new dataframe \n",
        "df1 = movies_transpose.iloc[:]# For each row, combine all the columns into one column\n",
        "df2 = df1.apply(lambda x: ','.join(x.astype(str)), axis=1)# Store them in a pandas dataframe\n",
        "df_clean = pd.DataFrame({'clean': df2})# Create the list of list format of the custom corpus for gensim modeling \n",
        "sent = [row.split(',') for row in df_clean['clean']]"
      ],
      "execution_count": 11,
      "outputs": []
    },
    {
      "cell_type": "code",
      "metadata": {
        "id": "5BMqwz6qD0v5",
        "colab_type": "code",
        "colab": {
          "base_uri": "https://localhost:8080/",
          "height": 55
        },
        "outputId": "afe86ea0-b20c-435c-fb61-cda480ecf617"
      },
      "source": [
        "#list of lists format of the movies transpose matrix\n",
        "print(sent)"
      ],
      "execution_count": 12,
      "outputs": [
        {
          "output_type": "stream",
          "text": [
            "[['5952', '2012', '2011', '1653', '1250', '6539', '6377', '3448', '1088', '899', '4308', '2161', '6711', '3949', '8360', '5878', '306', '1175', '307', '1237', '7327', '8154', '7234', '2843', '4144', '7365', '2068', '4422', '4973', '6016', '8873', '2692', '27721', '7323', '6954', '8014', '7939', '6370', '8973', '4703', '31956', '5147', '8786', '1260', '2351', '7940', '7209', '8685', '7820', '7937', '7938', '8405', '4325', '2632', '1217', '8729', '5912', '5767', '665', '2573', '27266', '8327', '32591', '5269', '3569', '27193', '5684', '7318', '296', '7361', '0', '0', '0', '0', '0', '0', '0', '0', '0', '0', '0', '0', '0', '0', '0', '0', '0', '0', '0', '0', '0', '0', '0', '0', '0', '0', '0', '0', '0', '0'], ['4306', '8368', '8360', '3793', '4995', '4963', '8636', '2355', '8665', '2571', '589', '33493', '7153', '1873', '1246', '1584', '3994', '2139', '31923', '4720', '2294', '2745', '2138', '858', '33660', '2268', '2501', '6539', '1270', '6565', '4535', '1198', '1302', '349', '3098', '1907', '1580', '364', '480', '3360', '524', '5103', '62', '7075', '1287', '260', '318', '588', '1693', '1196', '4993', '2918', '3105', '5955', '1275', '1393', '6879', '5010', '6311', '8970', '1356', '3175', '4016', '1672', '1257', '2115', '36527', '1674', '1376', '7624', '2359', '8958', '35836', '2761', '953', '1923', '6947', '3148', '2083', '8010', '7162', '914', '4023', '33166', '3396', '1527', '2324', '1271', '30848', '30749', '534', '4103', '4874', '261', '1465', '2987', '1293', '7090', '1136', '2150'], ['176371', '3968', '8983', '102407', '6548', '4448', '103141', '139644', '187593', '135143', '90866', '86911', '27660', '171763', '8861', '143385', '112138', '5313', '4958', '136020', '6879', '59501', '122906', '111659', '88405', '158238', '179819', '99112', '166635', '135536', '97306', '65514', '135569', '187541', '136864', '57528', '1960', '96079', '94677', '97923', '46335', '159093', '86644', '112171', '59900', '67923', '71464', '71156', '5900', '62999', '68793', '130634', '81537', '53129', '89753', '68952', '140956', '97225', '102716', '104241', '70336', '111113', '129354', '45666', '82202', '54648', '102686', '39435', '96861', '61248', '31221', '158966', '85020', '83349', '79224', '64030', '105213', '56156', '107348', '176101', '103810', '49822', '91976', '73323', '149406', '122896', '103384', '168612', '91974', '55805', '111443', '109578', '87876', '94018', '79091', '88125', '106489', '81834', '4262', '1732'], ['8665', '8961', '4993', '1580', '5444', '7153', '6539', '33794', '6874', '1210', '1610', '7438', '780', '34405', '1214', '2028', '2985', '1291', '260', '5618', '1907', '38038', '2571', '44665', '8874', '1198', '1196', '296', '44191', '1527', '7143', '8641', '589', '1220', '5418', '4308', '8914', '4886', '6377', '4816', '34048', '5903', '7373', '6947', '5219', '3827', '5110', '6156', '45431', '7324', '44193', '4974', '6550', '7451', '1036', '3751', '6863', '5299', '3624', '4709', '924', '1265', '1201', '3681', '7569', '2993', '1732', '2019', '2918', '3175', '1278', '1080', '3114', '3671', '2791', '1288', '1270', '1', '541', '1200', '2716', '3039', '2115', '2951', '3033', '4963', '1197', '5952', '3793', '1136', '0', '0', '0', '0', '0', '0', '0', '0', '0', '0']]\n"
          ],
          "name": "stdout"
        }
      ]
    },
    {
      "cell_type": "code",
      "metadata": {
        "id": "-b0kp6qNFDGO",
        "colab_type": "code",
        "colab": {}
      },
      "source": [
        "model = Word2Vec(sent,min_count=1,size= 50,workers=3, window =3, sg = 1)"
      ],
      "execution_count": 13,
      "outputs": []
    },
    {
      "cell_type": "code",
      "metadata": {
        "id": "qT7FRNDAG6lW",
        "colab_type": "code",
        "colab": {
          "base_uri": "https://localhost:8080/",
          "height": 74
        },
        "outputId": "04e41ee1-c804-440d-88fa-e3f9be1db72b"
      },
      "source": [
        "model.save('wordtovec')"
      ],
      "execution_count": 14,
      "outputs": [
        {
          "output_type": "stream",
          "text": [
            "/usr/local/lib/python3.6/dist-packages/smart_open/smart_open_lib.py:253: UserWarning: This function is deprecated, use smart_open.open instead. See the migration notes for details: https://github.com/RaRe-Technologies/smart_open/blob/master/README.rst#migrating-to-the-new-open-function\n",
            "  'See the migration notes for details: %s' % _MIGRATION_NOTES_URL\n"
          ],
          "name": "stderr"
        }
      ]
    },
    {
      "cell_type": "code",
      "metadata": {
        "id": "sAD5-PddA-44",
        "colab_type": "code",
        "colab": {}
      },
      "source": [
        "#user_vec = []\n",
        "#for i in range(users_total):\n",
        "#  a = np.zeros((50,))\n",
        "#  for j in range(max_seq_length):\n",
        "#    a = a+ model[sent[i][j]]\n",
        "#  user_vec.append(a)"
      ],
      "execution_count": 15,
      "outputs": []
    },
    {
      "cell_type": "code",
      "metadata": {
        "id": "p1OkRVCjC7vu",
        "colab_type": "code",
        "colab": {}
      },
      "source": [
        "#user_vec"
      ],
      "execution_count": 16,
      "outputs": []
    },
    {
      "cell_type": "markdown",
      "metadata": {
        "id": "fOQf_KpKkAHc",
        "colab_type": "text"
      },
      "source": [
        "**Corpus format for LSI model**"
      ]
    },
    {
      "cell_type": "code",
      "metadata": {
        "id": "1by7udVVH2PJ",
        "colab_type": "code",
        "colab": {
          "base_uri": "https://localhost:8080/",
          "height": 55
        },
        "outputId": "e594dbc7-0c4c-465e-ac52-648d9201f455"
      },
      "source": [
        "corpus = gensim.matutils.Dense2Corpus(np.array(sent),documents_columns=False)\n",
        "print(list(corpus))\n",
        "total_topics = 10"
      ],
      "execution_count": 17,
      "outputs": [
        {
          "output_type": "stream",
          "text": [
            "[[(0, 5952.0), (1, 2012.0), (2, 2011.0), (3, 1653.0), (4, 1250.0), (5, 6539.0), (6, 6377.0), (7, 3448.0), (8, 1088.0), (9, 899.0), (10, 4308.0), (11, 2161.0), (12, 6711.0), (13, 3949.0), (14, 8360.0), (15, 5878.0), (16, 306.0), (17, 1175.0), (18, 307.0), (19, 1237.0), (20, 7327.0), (21, 8154.0), (22, 7234.0), (23, 2843.0), (24, 4144.0), (25, 7365.0), (26, 2068.0), (27, 4422.0), (28, 4973.0), (29, 6016.0), (30, 8873.0), (31, 2692.0), (32, 27721.0), (33, 7323.0), (34, 6954.0), (35, 8014.0), (36, 7939.0), (37, 6370.0), (38, 8973.0), (39, 4703.0), (40, 31956.0), (41, 5147.0), (42, 8786.0), (43, 1260.0), (44, 2351.0), (45, 7940.0), (46, 7209.0), (47, 8685.0), (48, 7820.0), (49, 7937.0), (50, 7938.0), (51, 8405.0), (52, 4325.0), (53, 2632.0), (54, 1217.0), (55, 8729.0), (56, 5912.0), (57, 5767.0), (58, 665.0), (59, 2573.0), (60, 27266.0), (61, 8327.0), (62, 32591.0), (63, 5269.0), (64, 3569.0), (65, 27193.0), (66, 5684.0), (67, 7318.0), (68, 296.0), (69, 7361.0)], [(0, 4306.0), (1, 8368.0), (2, 8360.0), (3, 3793.0), (4, 4995.0), (5, 4963.0), (6, 8636.0), (7, 2355.0), (8, 8665.0), (9, 2571.0), (10, 589.0), (11, 33493.0), (12, 7153.0), (13, 1873.0), (14, 1246.0), (15, 1584.0), (16, 3994.0), (17, 2139.0), (18, 31923.0), (19, 4720.0), (20, 2294.0), (21, 2745.0), (22, 2138.0), (23, 858.0), (24, 33660.0), (25, 2268.0), (26, 2501.0), (27, 6539.0), (28, 1270.0), (29, 6565.0), (30, 4535.0), (31, 1198.0), (32, 1302.0), (33, 349.0), (34, 3098.0), (35, 1907.0), (36, 1580.0), (37, 364.0), (38, 480.0), (39, 3360.0), (40, 524.0), (41, 5103.0), (42, 62.0), (43, 7075.0), (44, 1287.0), (45, 260.0), (46, 318.0), (47, 588.0), (48, 1693.0), (49, 1196.0), (50, 4993.0), (51, 2918.0), (52, 3105.0), (53, 5955.0), (54, 1275.0), (55, 1393.0), (56, 6879.0), (57, 5010.0), (58, 6311.0), (59, 8970.0), (60, 1356.0), (61, 3175.0), (62, 4016.0), (63, 1672.0), (64, 1257.0), (65, 2115.0), (66, 36527.0), (67, 1674.0), (68, 1376.0), (69, 7624.0), (70, 2359.0), (71, 8958.0), (72, 35836.0), (73, 2761.0), (74, 953.0), (75, 1923.0), (76, 6947.0), (77, 3148.0), (78, 2083.0), (79, 8010.0), (80, 7162.0), (81, 914.0), (82, 4023.0), (83, 33166.0), (84, 3396.0), (85, 1527.0), (86, 2324.0), (87, 1271.0), (88, 30848.0), (89, 30749.0), (90, 534.0), (91, 4103.0), (92, 4874.0), (93, 261.0), (94, 1465.0), (95, 2987.0), (96, 1293.0), (97, 7090.0), (98, 1136.0), (99, 2150.0)], [(0, 176371.0), (1, 3968.0), (2, 8983.0), (3, 102407.0), (4, 6548.0), (5, 4448.0), (6, 103141.0), (7, 139644.0), (8, 187593.0), (9, 135143.0), (10, 90866.0), (11, 86911.0), (12, 27660.0), (13, 171763.0), (14, 8861.0), (15, 143385.0), (16, 112138.0), (17, 5313.0), (18, 4958.0), (19, 136020.0), (20, 6879.0), (21, 59501.0), (22, 122906.0), (23, 111659.0), (24, 88405.0), (25, 158238.0), (26, 179819.0), (27, 99112.0), (28, 166635.0), (29, 135536.0), (30, 97306.0), (31, 65514.0), (32, 135569.0), (33, 187541.0), (34, 136864.0), (35, 57528.0), (36, 1960.0), (37, 96079.0), (38, 94677.0), (39, 97923.0), (40, 46335.0), (41, 159093.0), (42, 86644.0), (43, 112171.0), (44, 59900.0), (45, 67923.0), (46, 71464.0), (47, 71156.0), (48, 5900.0), (49, 62999.0), (50, 68793.0), (51, 130634.0), (52, 81537.0), (53, 53129.0), (54, 89753.0), (55, 68952.0), (56, 140956.0), (57, 97225.0), (58, 102716.0), (59, 104241.0), (60, 70336.0), (61, 111113.0), (62, 129354.0), (63, 45666.0), (64, 82202.0), (65, 54648.0), (66, 102686.0), (67, 39435.0), (68, 96861.0), (69, 61248.0), (70, 31221.0), (71, 158966.0), (72, 85020.0), (73, 83349.0), (74, 79224.0), (75, 64030.0), (76, 105213.0), (77, 56156.0), (78, 107348.0), (79, 176101.0), (80, 103810.0), (81, 49822.0), (82, 91976.0), (83, 73323.0), (84, 149406.0), (85, 122896.0), (86, 103384.0), (87, 168612.0), (88, 91974.0), (89, 55805.0), (90, 111443.0), (91, 109578.0), (92, 87876.0), (93, 94018.0), (94, 79091.0), (95, 88125.0), (96, 106489.0), (97, 81834.0), (98, 4262.0), (99, 1732.0)], [(0, 8665.0), (1, 8961.0), (2, 4993.0), (3, 1580.0), (4, 5444.0), (5, 7153.0), (6, 6539.0), (7, 33794.0), (8, 6874.0), (9, 1210.0), (10, 1610.0), (11, 7438.0), (12, 780.0), (13, 34405.0), (14, 1214.0), (15, 2028.0), (16, 2985.0), (17, 1291.0), (18, 260.0), (19, 5618.0), (20, 1907.0), (21, 38038.0), (22, 2571.0), (23, 44665.0), (24, 8874.0), (25, 1198.0), (26, 1196.0), (27, 296.0), (28, 44191.0), (29, 1527.0), (30, 7143.0), (31, 8641.0), (32, 589.0), (33, 1220.0), (34, 5418.0), (35, 4308.0), (36, 8914.0), (37, 4886.0), (38, 6377.0), (39, 4816.0), (40, 34048.0), (41, 5903.0), (42, 7373.0), (43, 6947.0), (44, 5219.0), (45, 3827.0), (46, 5110.0), (47, 6156.0), (48, 45431.0), (49, 7324.0), (50, 44193.0), (51, 4974.0), (52, 6550.0), (53, 7451.0), (54, 1036.0), (55, 3751.0), (56, 6863.0), (57, 5299.0), (58, 3624.0), (59, 4709.0), (60, 924.0), (61, 1265.0), (62, 1201.0), (63, 3681.0), (64, 7569.0), (65, 2993.0), (66, 1732.0), (67, 2019.0), (68, 2918.0), (69, 3175.0), (70, 1278.0), (71, 1080.0), (72, 3114.0), (73, 3671.0), (74, 2791.0), (75, 1288.0), (76, 1270.0), (77, 1.0), (78, 541.0), (79, 1200.0), (80, 2716.0), (81, 3039.0), (82, 2115.0), (83, 2951.0), (84, 3033.0), (85, 4963.0), (86, 1197.0), (87, 5952.0), (88, 3793.0), (89, 1136.0)]]\n"
          ],
          "name": "stdout"
        }
      ]
    },
    {
      "cell_type": "code",
      "metadata": {
        "id": "zsSSOCXEHsMX",
        "colab_type": "code",
        "colab": {
          "base_uri": "https://localhost:8080/",
          "height": 74
        },
        "outputId": "a9ad8c37-3e0c-4fca-e37c-66c95755cf72"
      },
      "source": [
        "lsi = models.LsiModel(corpus, num_topics=total_topics)\n",
        "index = similarities.MatrixSimilarity(lsi[corpus])\n",
        "lsi_data = lsi[corpus]"
      ],
      "execution_count": 18,
      "outputs": [
        {
          "output_type": "stream",
          "text": [
            "/usr/local/lib/python3.6/dist-packages/gensim/matutils.py:737: FutureWarning: Conversion of the second argument of issubdtype from `int` to `np.signedinteger` is deprecated. In future, it will be treated as `np.int64 == np.dtype(int).type`.\n",
            "  if np.issubdtype(vec.dtype, np.int):\n"
          ],
          "name": "stderr"
        }
      ]
    },
    {
      "cell_type": "code",
      "metadata": {
        "id": "OQrUkVdaQK9o",
        "colab_type": "code",
        "colab": {}
      },
      "source": [
        "#list(lsi_data)"
      ],
      "execution_count": 19,
      "outputs": []
    },
    {
      "cell_type": "code",
      "metadata": {
        "id": "DXHHiE6WOwBc",
        "colab_type": "code",
        "colab": {
          "base_uri": "https://localhost:8080/",
          "height": 110
        },
        "outputId": "0c404db1-75e6-4286-e457-a834889a962f"
      },
      "source": [
        "lsi_topics = lsi.print_topics()\n",
        "for topic in lsi_topics:\n",
        "  print(topic)"
      ],
      "execution_count": 20,
      "outputs": [
        {
          "output_type": "stream",
          "text": [
            "(0, '-0.185*\"8\" + -0.184*\"33\" + -0.177*\"26\" + -0.174*\"0\" + -0.173*\"79\" + -0.171*\"13\" + -0.166*\"28\" + -0.166*\"87\" + -0.157*\"41\" + -0.156*\"71\"')\n",
            "(1, '0.417*\"48\" + 0.369*\"50\" + 0.349*\"40\" + 0.338*\"23\" + 0.321*\"21\" + 0.307*\"28\" + 0.226*\"7\" + 0.214*\"13\" + 0.096*\"36\" + -0.095*\"79\"')\n",
            "(2, '-0.352*\"72\" + -0.349*\"18\" + -0.345*\"66\" + -0.328*\"83\" + -0.327*\"24\" + -0.326*\"11\" + -0.310*\"89\" + -0.294*\"88\" + 0.100*\"33\" + -0.095*\"1\"')\n",
            "(3, '0.424*\"62\" + 0.369*\"60\" + 0.368*\"65\" + 0.349*\"32\" + 0.321*\"40\" + -0.176*\"23\" + -0.166*\"28\" + -0.145*\"13\" + -0.136*\"7\" + 0.116*\"14\"')\n"
          ],
          "name": "stdout"
        }
      ]
    },
    {
      "cell_type": "code",
      "metadata": {
        "id": "xxRQ_4yEMgo3",
        "colab_type": "code",
        "colab": {
          "base_uri": "https://localhost:8080/",
          "height": 74
        },
        "outputId": "d3b4c2e9-e774-4fec-8164-984b33cf9abc"
      },
      "source": [
        "lsi.save('lsimodel')"
      ],
      "execution_count": 21,
      "outputs": [
        {
          "output_type": "stream",
          "text": [
            "/usr/local/lib/python3.6/dist-packages/smart_open/smart_open_lib.py:253: UserWarning: This function is deprecated, use smart_open.open instead. See the migration notes for details: https://github.com/RaRe-Technologies/smart_open/blob/master/README.rst#migrating-to-the-new-open-function\n",
            "  'See the migration notes for details: %s' % _MIGRATION_NOTES_URL\n"
          ],
          "name": "stderr"
        }
      ]
    },
    {
      "cell_type": "markdown",
      "metadata": {
        "id": "f0li0KrNkGok",
        "colab_type": "text"
      },
      "source": [
        "**Corpus format for TF-IDF model**"
      ]
    },
    {
      "cell_type": "code",
      "metadata": {
        "id": "UvP3poDdMrd9",
        "colab_type": "code",
        "colab": {
          "base_uri": "https://localhost:8080/",
          "height": 55
        },
        "outputId": "20389d6f-b61f-47ef-8a61-1bafb88eeff4"
      },
      "source": [
        "tfidf = models.TfidfModel(corpus)\n",
        "tfidf_data = tfidf[corpus]\n",
        "print(list(tfidf_data))"
      ],
      "execution_count": 22,
      "outputs": [
        {
          "output_type": "stream",
          "text": [
            "[[], [(70, 0.032610107927719026), (71, 0.12383270318631072), (72, 0.4953861075446116), (73, 0.038167235264278176), (74, 0.013173985949604165), (75, 0.02658297479652551), (76, 0.09603324280367276), (77, 0.043517007103204525), (78, 0.02879476677127542), (79, 0.11072783573591749), (80, 0.09900533826974296), (81, 0.012634861655758875), (82, 0.055612744465118116), (83, 0.45847682896597247), (84, 0.046945284664066896), (85, 0.021108789659019477), (86, 0.03212627843324248), (87, 0.01756992249941962), (88, 0.42643349273178316), (89, 0.4250649464474066), (90, 0.0177859969967878), (91, 0.13665907430303434), (92, 0.16233885648378976), (93, 0.008693155835508644), (94, 0.04879491685448338), (95, 0.0994883390063767), (96, 0.04306609385177271), (97, 0.23614741330941105), (98, 0.03783687750627517), (99, 0.07161028753388346)], [(70, 0.038816128837187776), (71, 0.19763763930471132), (72, 0.10570280496261183), (73, 0.10362530099775034), (74, 0.09849681275415151), (75, 0.07960657023942645), (76, 0.1308081535936401), (77, 0.06981706322606952), (78, 0.13346253478153913), (79, 0.2189410686511516), (80, 0.12906384595587786), (81, 0.061942191823656165), (82, 0.11435099022866604), (83, 0.09116027720858137), (84, 0.18575197927833434), (85, 0.15279289483280575), (86, 0.1285342129881753), (87, 0.20963022054053057), (88, 0.11434850368891157), (89, 0.06938067549915966), (90, 0.33383423225507947), (91, 0.328247512199484), (92, 0.2632378614506731), (93, 0.281636593129744), (94, 0.23692186376251978), (95, 0.263983755978203), (96, 0.3189942262736211), (97, 0.2451386858067548), (98, 0.012767078218202567), (99, 0.005188310528842526)], [(70, 0.10267533086438234), (71, 0.0867678852375062), (72, 0.25018073576814287), (73, 0.29493046917304194), (74, 0.2242307108313702), (75, 0.10347873720917407), (76, 0.10203260578854897), (77, 8.034063447917241e-05), (78, 0.043464283253232275), (79, 0.0964087613750069), (80, 0.2182051632454323), (81, 0.24415518818220497), (82, 0.16992044192344966), (83, 0.23708521234803778), (84, 0.24367314437532991), (85, 0.3987305689201327), (86, 0.09616773947156937), (87, 0.4781874564200342), (88, 0.30473202657950094), (89, 0.09126696076833986)]]\n"
          ],
          "name": "stdout"
        }
      ]
    },
    {
      "cell_type": "code",
      "metadata": {
        "id": "wov4tKNENk0x",
        "colab_type": "code",
        "colab": {}
      },
      "source": [
        "#lsi_list = np.zeros((len(lsi_data), len(lsi_topics)), dtype=np.float64)\n",
        "#for i in range(len(corpus)):\n",
        "#    for j in range(len(lsi_topics)):\n",
        "#        lsi_list[i][j]= list(lsi_data)[i][j][1]\n",
        "\n",
        "tfidf_token= np.zeros((len(tfidf_data), 350), dtype=np.float64)\n",
        "tfidf_vals= np.zeros((len(tfidf_data), 350), dtype=np.float64)\n",
        "\n",
        "for i in range(len(corpus)):\n",
        "    for k in range(len(list(tfidf_data)[i])):\n",
        "        tfidf_token[i][k]=(list(tfidf_data))[i][k][0]\n",
        "        tfidf_vals[i][k]=(list(tfidf_data))[i][k][1]\n",
        "\n",
        "tfidf_list=list(tfidf_data)"
      ],
      "execution_count": 23,
      "outputs": []
    },
    {
      "cell_type": "code",
      "metadata": {
        "id": "S86Fy0tMNuug",
        "colab_type": "code",
        "colab": {
          "base_uri": "https://localhost:8080/",
          "height": 568
        },
        "outputId": "7a60d685-caf1-4b87-e6ef-95dbf99093e2"
      },
      "source": [
        "tfidf_list[1]"
      ],
      "execution_count": 24,
      "outputs": [
        {
          "output_type": "execute_result",
          "data": {
            "text/plain": [
              "[(70, 0.032610107927719026),\n",
              " (71, 0.12383270318631072),\n",
              " (72, 0.4953861075446116),\n",
              " (73, 0.038167235264278176),\n",
              " (74, 0.013173985949604165),\n",
              " (75, 0.02658297479652551),\n",
              " (76, 0.09603324280367276),\n",
              " (77, 0.043517007103204525),\n",
              " (78, 0.02879476677127542),\n",
              " (79, 0.11072783573591749),\n",
              " (80, 0.09900533826974296),\n",
              " (81, 0.012634861655758875),\n",
              " (82, 0.055612744465118116),\n",
              " (83, 0.45847682896597247),\n",
              " (84, 0.046945284664066896),\n",
              " (85, 0.021108789659019477),\n",
              " (86, 0.03212627843324248),\n",
              " (87, 0.01756992249941962),\n",
              " (88, 0.42643349273178316),\n",
              " (89, 0.4250649464474066),\n",
              " (90, 0.0177859969967878),\n",
              " (91, 0.13665907430303434),\n",
              " (92, 0.16233885648378976),\n",
              " (93, 0.008693155835508644),\n",
              " (94, 0.04879491685448338),\n",
              " (95, 0.0994883390063767),\n",
              " (96, 0.04306609385177271),\n",
              " (97, 0.23614741330941105),\n",
              " (98, 0.03783687750627517),\n",
              " (99, 0.07161028753388346)]"
            ]
          },
          "metadata": {
            "tags": []
          },
          "execution_count": 24
        }
      ]
    },
    {
      "cell_type": "markdown",
      "metadata": {
        "id": "ZJ_PrUk7kPvW",
        "colab_type": "text"
      },
      "source": [
        "**Tagged data format for Doc2Vec model**"
      ]
    },
    {
      "cell_type": "code",
      "metadata": {
        "id": "FTyHuXzgjXau",
        "colab_type": "code",
        "colab": {
          "base_uri": "https://localhost:8080/",
          "height": 74
        },
        "outputId": "082004ad-1244-464f-f43d-93897b394490"
      },
      "source": [
        "from gensim.models.doc2vec import Doc2Vec, TaggedDocument\n",
        "tagged_data = []\n",
        "tags = []\n",
        "test_data = []\n",
        "test_data = test_data + sent[3]\n",
        "for i in range(3):\n",
        "  tagged_data = tagged_data + [TaggedDocument(words=sent[i], tags=[str(i)])]\n",
        "print(tagged_data)\n",
        "print(test_data)\n",
        "#model = Doc2Vec(documents=tagged_data, vector_size=5, window=1, min_count=1, workers=1)"
      ],
      "execution_count": 25,
      "outputs": [
        {
          "output_type": "stream",
          "text": [
            "[TaggedDocument(words=['5952', '2012', '2011', '1653', '1250', '6539', '6377', '3448', '1088', '899', '4308', '2161', '6711', '3949', '8360', '5878', '306', '1175', '307', '1237', '7327', '8154', '7234', '2843', '4144', '7365', '2068', '4422', '4973', '6016', '8873', '2692', '27721', '7323', '6954', '8014', '7939', '6370', '8973', '4703', '31956', '5147', '8786', '1260', '2351', '7940', '7209', '8685', '7820', '7937', '7938', '8405', '4325', '2632', '1217', '8729', '5912', '5767', '665', '2573', '27266', '8327', '32591', '5269', '3569', '27193', '5684', '7318', '296', '7361', '0', '0', '0', '0', '0', '0', '0', '0', '0', '0', '0', '0', '0', '0', '0', '0', '0', '0', '0', '0', '0', '0', '0', '0', '0', '0', '0', '0', '0', '0'], tags=['0']), TaggedDocument(words=['4306', '8368', '8360', '3793', '4995', '4963', '8636', '2355', '8665', '2571', '589', '33493', '7153', '1873', '1246', '1584', '3994', '2139', '31923', '4720', '2294', '2745', '2138', '858', '33660', '2268', '2501', '6539', '1270', '6565', '4535', '1198', '1302', '349', '3098', '1907', '1580', '364', '480', '3360', '524', '5103', '62', '7075', '1287', '260', '318', '588', '1693', '1196', '4993', '2918', '3105', '5955', '1275', '1393', '6879', '5010', '6311', '8970', '1356', '3175', '4016', '1672', '1257', '2115', '36527', '1674', '1376', '7624', '2359', '8958', '35836', '2761', '953', '1923', '6947', '3148', '2083', '8010', '7162', '914', '4023', '33166', '3396', '1527', '2324', '1271', '30848', '30749', '534', '4103', '4874', '261', '1465', '2987', '1293', '7090', '1136', '2150'], tags=['1']), TaggedDocument(words=['176371', '3968', '8983', '102407', '6548', '4448', '103141', '139644', '187593', '135143', '90866', '86911', '27660', '171763', '8861', '143385', '112138', '5313', '4958', '136020', '6879', '59501', '122906', '111659', '88405', '158238', '179819', '99112', '166635', '135536', '97306', '65514', '135569', '187541', '136864', '57528', '1960', '96079', '94677', '97923', '46335', '159093', '86644', '112171', '59900', '67923', '71464', '71156', '5900', '62999', '68793', '130634', '81537', '53129', '89753', '68952', '140956', '97225', '102716', '104241', '70336', '111113', '129354', '45666', '82202', '54648', '102686', '39435', '96861', '61248', '31221', '158966', '85020', '83349', '79224', '64030', '105213', '56156', '107348', '176101', '103810', '49822', '91976', '73323', '149406', '122896', '103384', '168612', '91974', '55805', '111443', '109578', '87876', '94018', '79091', '88125', '106489', '81834', '4262', '1732'], tags=['2'])]\n",
            "['8665', '8961', '4993', '1580', '5444', '7153', '6539', '33794', '6874', '1210', '1610', '7438', '780', '34405', '1214', '2028', '2985', '1291', '260', '5618', '1907', '38038', '2571', '44665', '8874', '1198', '1196', '296', '44191', '1527', '7143', '8641', '589', '1220', '5418', '4308', '8914', '4886', '6377', '4816', '34048', '5903', '7373', '6947', '5219', '3827', '5110', '6156', '45431', '7324', '44193', '4974', '6550', '7451', '1036', '3751', '6863', '5299', '3624', '4709', '924', '1265', '1201', '3681', '7569', '2993', '1732', '2019', '2918', '3175', '1278', '1080', '3114', '3671', '2791', '1288', '1270', '1', '541', '1200', '2716', '3039', '2115', '2951', '3033', '4963', '1197', '5952', '3793', '1136', '0', '0', '0', '0', '0', '0', '0', '0', '0', '0']\n"
          ],
          "name": "stdout"
        }
      ]
    },
    {
      "cell_type": "code",
      "metadata": {
        "id": "kRtbTzrXd-jz",
        "colab_type": "code",
        "colab": {
          "base_uri": "https://localhost:8080/",
          "height": 147
        },
        "outputId": "4d60e2b0-7429-43e6-e40a-99964c4639a8"
      },
      "source": [
        "max_epochs = 100\n",
        "vec_size = 20\n",
        "alpha = 0.025\n",
        "\n",
        "model = Doc2Vec(size=vec_size,\n",
        "                alpha=alpha, \n",
        "                min_alpha=0.00025,\n",
        "                min_count=1,\n",
        "                dm =1)\n",
        "  \n",
        "model.build_vocab(tagged_data)\n",
        "\n",
        "for epoch in range(max_epochs):\n",
        "    #print('iteration {0}'.format(epoch))\n",
        "    model.train(tagged_data,\n",
        "                total_examples=model.corpus_count,\n",
        "                epochs=model.iter)\n",
        "    # decrease the learning rate\n",
        "    model.alpha -= 0.0002\n",
        "    # fix the learning rate, no decay\n",
        "    model.min_alpha = model.alpha\n",
        "\n",
        "model.save(\"d2v.model\")\n",
        "print(\"Model Saved\")"
      ],
      "execution_count": 26,
      "outputs": [
        {
          "output_type": "stream",
          "text": [
            "/usr/local/lib/python3.6/dist-packages/gensim/models/doc2vec.py:570: UserWarning: The parameter `size` is deprecated, will be removed in 4.0.0, use `vector_size` instead.\n",
            "  warnings.warn(\"The parameter `size` is deprecated, will be removed in 4.0.0, use `vector_size` instead.\")\n",
            "/usr/local/lib/python3.6/dist-packages/ipykernel_launcher.py:17: DeprecationWarning: Call to deprecated `iter` (Attribute will be removed in 4.0.0, use self.epochs instead).\n"
          ],
          "name": "stderr"
        },
        {
          "output_type": "stream",
          "text": [
            "Model Saved\n"
          ],
          "name": "stdout"
        },
        {
          "output_type": "stream",
          "text": [
            "/usr/local/lib/python3.6/dist-packages/smart_open/smart_open_lib.py:253: UserWarning: This function is deprecated, use smart_open.open instead. See the migration notes for details: https://github.com/RaRe-Technologies/smart_open/blob/master/README.rst#migrating-to-the-new-open-function\n",
            "  'See the migration notes for details: %s' % _MIGRATION_NOTES_URL\n"
          ],
          "name": "stderr"
        }
      ]
    },
    {
      "cell_type": "code",
      "metadata": {
        "id": "rdxhM7RjeK92",
        "colab_type": "code",
        "colab": {
          "base_uri": "https://localhost:8080/",
          "height": 276
        },
        "outputId": "edf29fff-5b7d-4f67-841c-6e398682e1fb"
      },
      "source": [
        "model= Doc2Vec.load(\"d2v.model\")\n",
        "#to find the vector of a document which is not in training data\n",
        "v1 = model.infer_vector(test_data)\n",
        "print(\"V1_infer\", v1)\n",
        "\n",
        "# to find most similar doc using tags\n",
        "similar_doc = model.docvecs.most_similar('1')\n",
        "print(similar_doc)\n",
        "\n",
        "\n",
        "# to find vector of doc in training data using tags or in other words, printing the vector of document at index 1 in training data\n",
        "print(model.docvecs['1'])"
      ],
      "execution_count": 27,
      "outputs": [
        {
          "output_type": "stream",
          "text": [
            "V1_infer [ 0.09125655  0.03866785 -0.02686151 -0.07190301  0.05158131 -0.07877599\n",
            "  0.0292795  -0.19514167  0.03184161  0.11824249  0.00481782  0.03587288\n",
            " -0.02867902  0.06504951  0.15659502  0.03809637  0.02560205  0.04049287\n",
            "  0.08931653  0.03504137]\n",
            "[('2', 0.6066149473190308), ('0', 0.5754348635673523)]\n",
            "[-0.12543246 -7.916983   -0.85310525 -1.6596771  -1.2856377   0.09855106\n",
            "  0.74106675 -4.9402575   8.841046    3.6958816  -0.38346356 -3.7024946\n",
            "  9.660955   -6.573852    2.976019   -5.8956704  -4.7855134   8.85131\n",
            " -4.029579   -9.443697  ]\n"
          ],
          "name": "stdout"
        },
        {
          "output_type": "stream",
          "text": [
            "/usr/local/lib/python3.6/dist-packages/smart_open/smart_open_lib.py:253: UserWarning: This function is deprecated, use smart_open.open instead. See the migration notes for details: https://github.com/RaRe-Technologies/smart_open/blob/master/README.rst#migrating-to-the-new-open-function\n",
            "  'See the migration notes for details: %s' % _MIGRATION_NOTES_URL\n",
            "/usr/local/lib/python3.6/dist-packages/gensim/matutils.py:737: FutureWarning: Conversion of the second argument of issubdtype from `int` to `np.signedinteger` is deprecated. In future, it will be treated as `np.int64 == np.dtype(int).type`.\n",
            "  if np.issubdtype(vec.dtype, np.int):\n"
          ],
          "name": "stderr"
        }
      ]
    }
  ]
}